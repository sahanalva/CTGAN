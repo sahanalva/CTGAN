{
 "cells": [
  {
   "cell_type": "code",
   "execution_count": 45,
   "metadata": {},
   "outputs": [],
   "source": [
    "import pandas as pd\n",
    "import numpy as np"
   ]
  },
  {
   "cell_type": "code",
   "execution_count": 46,
   "metadata": {},
   "outputs": [],
   "source": [
    "df = pd.read_csv(\"~/Downloads/toy_data.csv\")"
   ]
  },
  {
   "cell_type": "code",
   "execution_count": 3,
   "metadata": {},
   "outputs": [],
   "source": [
    "# df.dropna(axis = 1, thresh= 0.9*df.shape[0], inplace= True)\n",
    "# nunique = df.apply(pd.Series.nunique)\n",
    "# cols_to_drop = nunique[nunique == 1].index\n",
    "# df.drop(cols_to_drop, axis = 1, inplace= True)"
   ]
  },
  {
   "cell_type": "code",
   "execution_count": 4,
   "metadata": {},
   "outputs": [],
   "source": [
    "#required_cols = ['agency_name','agency_abbr','agency_code','state_name','state_abbr','state_code','loan_amount_000s', 'applicant_sex_name', 'applicant_sex', 'tract_to_msamd_income', 'population','census_tract_number','number_of_1_to_4_family_units','minority_population', 'applicant_income_000s']"
   ]
  },
  {
   "cell_type": "code",
   "execution_count": 57,
   "metadata": {},
   "outputs": [],
   "source": [
    "required_cols = ['applicant_sex', 'applicant_sex_name']"
   ]
  },
  {
   "cell_type": "code",
   "execution_count": 58,
   "metadata": {},
   "outputs": [],
   "source": [
    "df = df[required_cols]"
   ]
  },
  {
   "cell_type": "code",
   "execution_count": 59,
   "metadata": {},
   "outputs": [],
   "source": [
    "nunique = df.apply(pd.Series.nunique)\n",
    "discrete_columns = nunique[nunique < 100].index"
   ]
  },
  {
   "cell_type": "code",
   "execution_count": 60,
   "metadata": {},
   "outputs": [
    {
     "output_type": "execute_result",
     "data": {
      "text/plain": "applicant_sex         False\napplicant_sex_name    False\ndtype: bool"
     },
     "metadata": {},
     "execution_count": 60
    }
   ],
   "source": [
    "numeric_columns = df.select_dtypes(include=['number']).columns\n",
    "object_columns = df.select_dtypes(include=['object']).columns\n",
    "df[numeric_columns] = df[numeric_columns].fillna(0)\n",
    "df[object_columns] = df[object_columns].fillna(\"NA\")\n",
    "\n",
    "df.isna().any()"
   ]
  },
  {
   "cell_type": "code",
   "execution_count": 91,
   "metadata": {
    "tags": []
   },
   "outputs": [
    {
     "output_type": "stream",
     "name": "stdout",
     "text": "Epoch 1, Loss G: -0.2574, Loss D: 0.0696\nEpoch 2, Loss G: -0.3005, Loss D: 0.0477\nEpoch 3, Loss G: -0.3971, Loss D: -0.2095\nEpoch 4, Loss G: -0.3722, Loss D: 0.0559\nEpoch 5, Loss G: -0.1695, Loss D: -0.0251\nEpoch 6, Loss G: -0.3195, Loss D: -0.1138\nEpoch 7, Loss G: -0.1799, Loss D: -0.0456\nEpoch 8, Loss G: -0.1611, Loss D: -0.0316\nEpoch 9, Loss G: -0.3961, Loss D: -0.2208\nEpoch 10, Loss G: -0.3810, Loss D: -0.0401\nEpoch 11, Loss G: -0.4531, Loss D: 0.0211\nEpoch 12, Loss G: -0.3502, Loss D: -0.0168\nEpoch 13, Loss G: -0.4086, Loss D: -0.1081\nEpoch 14, Loss G: -0.3447, Loss D: -0.1095\nEpoch 15, Loss G: -0.1126, Loss D: 0.0568\nEpoch 16, Loss G: -0.2125, Loss D: 0.3906\nEpoch 17, Loss G: 0.2036, Loss D: -0.0262\nEpoch 18, Loss G: -0.0169, Loss D: -0.0110\nEpoch 19, Loss G: -0.0345, Loss D: -0.1554\nEpoch 20, Loss G: 0.0625, Loss D: 0.0095\n"
    }
   ],
   "source": [
    "from importlib import reload\n",
    "import synthesizer,transformer,sampler,conditional,models\n",
    "reload(models)\n",
    "reload(sampler)\n",
    "reload(synthesizer)\n",
    "reload(transformer)\n",
    "reload(conditional)\n",
    "data = df.loc[0:100000,:]\n",
    "model = synthesizer.CTGANSynthesizer(embedding_dim = 128, batch_size=500)\n",
    "model.fit(data, discrete_columns, 20,log_frequency= False)\n"
   ]
  },
  {
   "cell_type": "code",
   "execution_count": 94,
   "metadata": {
    "tags": []
   },
   "outputs": [],
   "source": [
    "sampled = model.sample(100000)"
   ]
  },
  {
   "cell_type": "code",
   "execution_count": 88,
   "metadata": {},
   "outputs": [],
   "source": [
    "agency_abbr = np.array([\"CFPB\", \"HUD\", \"FDIC\", \"FRS\", \"NCUA\", \"OCC\"])\n",
    "applicant_sex = np.array([2, 3, 1,4])"
   ]
  },
  {
   "cell_type": "code",
   "execution_count": 95,
   "metadata": {},
   "outputs": [
    {
     "output_type": "execute_result",
     "data": {
      "text/plain": "applicant_sex           2      3      1     4   Total\napplicant_sex_name                                   \nFemale              27.06   0.00   0.00  0.00   27.06\nNot provided         0.00  14.62   0.00  0.00   14.62\nMale                 0.00   0.00  58.28  0.00   58.28\nNot applicable       0.00   0.00   0.00  0.05    0.05\nTotal               27.06  14.62  58.28  0.05  100.00",
      "text/html": "<div>\n<style scoped>\n    .dataframe tbody tr th:only-of-type {\n        vertical-align: middle;\n    }\n\n    .dataframe tbody tr th {\n        vertical-align: top;\n    }\n\n    .dataframe thead th {\n        text-align: right;\n    }\n</style>\n<table border=\"1\" class=\"dataframe\">\n  <thead>\n    <tr style=\"text-align: right;\">\n      <th>applicant_sex</th>\n      <th>2</th>\n      <th>3</th>\n      <th>1</th>\n      <th>4</th>\n      <th>Total</th>\n    </tr>\n    <tr>\n      <th>applicant_sex_name</th>\n      <th></th>\n      <th></th>\n      <th></th>\n      <th></th>\n      <th></th>\n    </tr>\n  </thead>\n  <tbody>\n    <tr>\n      <th>Female</th>\n      <td>27.06</td>\n      <td>0.00</td>\n      <td>0.00</td>\n      <td>0.00</td>\n      <td>27.06</td>\n    </tr>\n    <tr>\n      <th>Not provided</th>\n      <td>0.00</td>\n      <td>14.62</td>\n      <td>0.00</td>\n      <td>0.00</td>\n      <td>14.62</td>\n    </tr>\n    <tr>\n      <th>Male</th>\n      <td>0.00</td>\n      <td>0.00</td>\n      <td>58.28</td>\n      <td>0.00</td>\n      <td>58.28</td>\n    </tr>\n    <tr>\n      <th>Not applicable</th>\n      <td>0.00</td>\n      <td>0.00</td>\n      <td>0.00</td>\n      <td>0.05</td>\n      <td>0.05</td>\n    </tr>\n    <tr>\n      <th>Total</th>\n      <td>27.06</td>\n      <td>14.62</td>\n      <td>58.28</td>\n      <td>0.05</td>\n      <td>100.00</td>\n    </tr>\n  </tbody>\n</table>\n</div>"
     },
     "metadata": {},
     "execution_count": 95
    }
   ],
   "source": [
    "og = (pd.crosstab(data.applicant_sex_name, data.applicant_sex).reindex(applicant_sex, axis=\"columns\")/data.shape[0] * 100).rename(index = {\"Information not provided by applicant in mail, Internet, or telephone application\" : \"Not provided\"})\n",
    "og['Total'] = og.sum(axis=1)\n",
    "og.loc['Total']= og.sum()\n",
    "og = og.round(2)\n",
    "og"
   ]
  },
  {
   "cell_type": "code",
   "execution_count": 96,
   "metadata": {},
   "outputs": [
    {
     "output_type": "execute_result",
     "data": {
      "text/plain": "applicant_sex           2     3      1     4   Total\napplicant_sex_name                                  \nFemale               9.92  0.57   3.54  1.04   15.07\nNot provided         0.23  1.98   0.91  0.26    3.38\nMale                 3.23  1.50  70.93  1.70   77.35\nNot applicable       0.86  0.79   1.88  0.67    4.20\nTotal               14.24  4.84  77.26  3.66  100.00",
      "text/html": "<div>\n<style scoped>\n    .dataframe tbody tr th:only-of-type {\n        vertical-align: middle;\n    }\n\n    .dataframe tbody tr th {\n        vertical-align: top;\n    }\n\n    .dataframe thead th {\n        text-align: right;\n    }\n</style>\n<table border=\"1\" class=\"dataframe\">\n  <thead>\n    <tr style=\"text-align: right;\">\n      <th>applicant_sex</th>\n      <th>2</th>\n      <th>3</th>\n      <th>1</th>\n      <th>4</th>\n      <th>Total</th>\n    </tr>\n    <tr>\n      <th>applicant_sex_name</th>\n      <th></th>\n      <th></th>\n      <th></th>\n      <th></th>\n      <th></th>\n    </tr>\n  </thead>\n  <tbody>\n    <tr>\n      <th>Female</th>\n      <td>9.92</td>\n      <td>0.57</td>\n      <td>3.54</td>\n      <td>1.04</td>\n      <td>15.07</td>\n    </tr>\n    <tr>\n      <th>Not provided</th>\n      <td>0.23</td>\n      <td>1.98</td>\n      <td>0.91</td>\n      <td>0.26</td>\n      <td>3.38</td>\n    </tr>\n    <tr>\n      <th>Male</th>\n      <td>3.23</td>\n      <td>1.50</td>\n      <td>70.93</td>\n      <td>1.70</td>\n      <td>77.35</td>\n    </tr>\n    <tr>\n      <th>Not applicable</th>\n      <td>0.86</td>\n      <td>0.79</td>\n      <td>1.88</td>\n      <td>0.67</td>\n      <td>4.20</td>\n    </tr>\n    <tr>\n      <th>Total</th>\n      <td>14.24</td>\n      <td>4.84</td>\n      <td>77.26</td>\n      <td>3.66</td>\n      <td>100.00</td>\n    </tr>\n  </tbody>\n</table>\n</div>"
     },
     "metadata": {},
     "execution_count": 96
    }
   ],
   "source": [
    "new = (pd.crosstab(sampled.applicant_sex_name, sampled.applicant_sex).reindex(applicant_sex, axis=\"columns\")/sampled.shape[0] * 100).rename(index = {\"Information not provided by applicant in mail, Internet, or telephone application\" : \"Not provided\"})\n",
    "new['Total'] = new.sum(axis=1)\n",
    "new.loc['Total']= new.sum()\n",
    "new = new.round(2)\n",
    "new"
   ]
  },
  {
   "cell_type": "code",
   "execution_count": 215,
   "metadata": {},
   "outputs": [
    {
     "output_type": "execute_result",
     "data": {
      "text/plain": "applicant_sex          2     3     1     4  Total\napplicant_sex_name                               \nFemale             -1.29  0.51  0.74  0.04    0.0\nNot provided        0.40 -0.62  0.22  0.01    0.0\nMale                0.90  0.24 -1.20  0.06    0.0\nNot applicable      0.01  0.00  0.01 -0.03    0.0\nTotal               0.02  0.13 -0.23  0.07    0.0",
      "text/html": "<div>\n<style scoped>\n    .dataframe tbody tr th:only-of-type {\n        vertical-align: middle;\n    }\n\n    .dataframe tbody tr th {\n        vertical-align: top;\n    }\n\n    .dataframe thead th {\n        text-align: right;\n    }\n</style>\n<table border=\"1\" class=\"dataframe\">\n  <thead>\n    <tr style=\"text-align: right;\">\n      <th>applicant_sex</th>\n      <th>2</th>\n      <th>3</th>\n      <th>1</th>\n      <th>4</th>\n      <th>Total</th>\n    </tr>\n    <tr>\n      <th>applicant_sex_name</th>\n      <th></th>\n      <th></th>\n      <th></th>\n      <th></th>\n      <th></th>\n    </tr>\n  </thead>\n  <tbody>\n    <tr>\n      <th>Female</th>\n      <td>-1.29</td>\n      <td>0.51</td>\n      <td>0.74</td>\n      <td>0.04</td>\n      <td>0.0</td>\n    </tr>\n    <tr>\n      <th>Not provided</th>\n      <td>0.40</td>\n      <td>-0.62</td>\n      <td>0.22</td>\n      <td>0.01</td>\n      <td>0.0</td>\n    </tr>\n    <tr>\n      <th>Male</th>\n      <td>0.90</td>\n      <td>0.24</td>\n      <td>-1.20</td>\n      <td>0.06</td>\n      <td>0.0</td>\n    </tr>\n    <tr>\n      <th>Not applicable</th>\n      <td>0.01</td>\n      <td>0.00</td>\n      <td>0.01</td>\n      <td>-0.03</td>\n      <td>0.0</td>\n    </tr>\n    <tr>\n      <th>Total</th>\n      <td>0.02</td>\n      <td>0.13</td>\n      <td>-0.23</td>\n      <td>0.07</td>\n      <td>0.0</td>\n    </tr>\n  </tbody>\n</table>\n</div>"
     },
     "metadata": {},
     "execution_count": 215
    }
   ],
   "source": [
    "new - og"
   ]
  },
  {
   "cell_type": "code",
   "execution_count": 216,
   "metadata": {},
   "outputs": [
    {
     "output_type": "execute_result",
     "data": {
      "text/plain": "agency_abbr          CFPB    HUD  FDIC   FRS  NCUA   OCC   Total\napplicant_sex_name                                              \nFemale               6.00  14.84  2.09  0.79  2.36  0.97   27.06\nNot provided         3.30   8.36  0.97  0.32  1.26  0.41   14.62\nMale                13.38  31.63  4.96  1.82  4.08  2.39   58.28\nNot applicable       0.01   0.01  0.01  0.00  0.01  0.00    0.05\nTotal               22.70  54.84  8.04  2.94  7.70  3.78  100.00",
      "text/html": "<div>\n<style scoped>\n    .dataframe tbody tr th:only-of-type {\n        vertical-align: middle;\n    }\n\n    .dataframe tbody tr th {\n        vertical-align: top;\n    }\n\n    .dataframe thead th {\n        text-align: right;\n    }\n</style>\n<table border=\"1\" class=\"dataframe\">\n  <thead>\n    <tr style=\"text-align: right;\">\n      <th>agency_abbr</th>\n      <th>CFPB</th>\n      <th>HUD</th>\n      <th>FDIC</th>\n      <th>FRS</th>\n      <th>NCUA</th>\n      <th>OCC</th>\n      <th>Total</th>\n    </tr>\n    <tr>\n      <th>applicant_sex_name</th>\n      <th></th>\n      <th></th>\n      <th></th>\n      <th></th>\n      <th></th>\n      <th></th>\n      <th></th>\n    </tr>\n  </thead>\n  <tbody>\n    <tr>\n      <th>Female</th>\n      <td>6.00</td>\n      <td>14.84</td>\n      <td>2.09</td>\n      <td>0.79</td>\n      <td>2.36</td>\n      <td>0.97</td>\n      <td>27.06</td>\n    </tr>\n    <tr>\n      <th>Not provided</th>\n      <td>3.30</td>\n      <td>8.36</td>\n      <td>0.97</td>\n      <td>0.32</td>\n      <td>1.26</td>\n      <td>0.41</td>\n      <td>14.62</td>\n    </tr>\n    <tr>\n      <th>Male</th>\n      <td>13.38</td>\n      <td>31.63</td>\n      <td>4.96</td>\n      <td>1.82</td>\n      <td>4.08</td>\n      <td>2.39</td>\n      <td>58.28</td>\n    </tr>\n    <tr>\n      <th>Not applicable</th>\n      <td>0.01</td>\n      <td>0.01</td>\n      <td>0.01</td>\n      <td>0.00</td>\n      <td>0.01</td>\n      <td>0.00</td>\n      <td>0.05</td>\n    </tr>\n    <tr>\n      <th>Total</th>\n      <td>22.70</td>\n      <td>54.84</td>\n      <td>8.04</td>\n      <td>2.94</td>\n      <td>7.70</td>\n      <td>3.78</td>\n      <td>100.00</td>\n    </tr>\n  </tbody>\n</table>\n</div>"
     },
     "metadata": {},
     "execution_count": 216
    }
   ],
   "source": [
    "og = (pd.crosstab(data.applicant_sex_name,data.agency_abbr).reindex(agency_abbr, axis=\"columns\")/data.shape[0] * 100).rename(index = {\"Information not provided by applicant in mail, Internet, or telephone application\" : \"Not provided\"})\n",
    "og['Total'] = og.sum(axis=1)\n",
    "og.loc['Total']= og.sum()\n",
    "og = og.round(2)\n",
    "og"
   ]
  },
  {
   "cell_type": "code",
   "execution_count": 217,
   "metadata": {},
   "outputs": [
    {
     "output_type": "execute_result",
     "data": {
      "text/plain": "agency_abbr          CFPB    HUD   FDIC   FRS   NCUA   OCC   Total\napplicant_sex_name                                                \nFemale               6.09   8.22   0.91  4.17   6.68  0.99   27.06\nNot provided         5.45   5.62   0.44  0.73   2.24  0.14   14.62\nMale                12.94  29.79  10.26  0.63   1.20  3.46   58.28\nNot applicable       0.01   0.01   0.01  0.00   0.01  0.01    0.05\nTotal               24.49  43.64  11.62  5.53  10.12  4.60  100.00",
      "text/html": "<div>\n<style scoped>\n    .dataframe tbody tr th:only-of-type {\n        vertical-align: middle;\n    }\n\n    .dataframe tbody tr th {\n        vertical-align: top;\n    }\n\n    .dataframe thead th {\n        text-align: right;\n    }\n</style>\n<table border=\"1\" class=\"dataframe\">\n  <thead>\n    <tr style=\"text-align: right;\">\n      <th>agency_abbr</th>\n      <th>CFPB</th>\n      <th>HUD</th>\n      <th>FDIC</th>\n      <th>FRS</th>\n      <th>NCUA</th>\n      <th>OCC</th>\n      <th>Total</th>\n    </tr>\n    <tr>\n      <th>applicant_sex_name</th>\n      <th></th>\n      <th></th>\n      <th></th>\n      <th></th>\n      <th></th>\n      <th></th>\n      <th></th>\n    </tr>\n  </thead>\n  <tbody>\n    <tr>\n      <th>Female</th>\n      <td>6.09</td>\n      <td>8.22</td>\n      <td>0.91</td>\n      <td>4.17</td>\n      <td>6.68</td>\n      <td>0.99</td>\n      <td>27.06</td>\n    </tr>\n    <tr>\n      <th>Not provided</th>\n      <td>5.45</td>\n      <td>5.62</td>\n      <td>0.44</td>\n      <td>0.73</td>\n      <td>2.24</td>\n      <td>0.14</td>\n      <td>14.62</td>\n    </tr>\n    <tr>\n      <th>Male</th>\n      <td>12.94</td>\n      <td>29.79</td>\n      <td>10.26</td>\n      <td>0.63</td>\n      <td>1.20</td>\n      <td>3.46</td>\n      <td>58.28</td>\n    </tr>\n    <tr>\n      <th>Not applicable</th>\n      <td>0.01</td>\n      <td>0.01</td>\n      <td>0.01</td>\n      <td>0.00</td>\n      <td>0.01</td>\n      <td>0.01</td>\n      <td>0.05</td>\n    </tr>\n    <tr>\n      <th>Total</th>\n      <td>24.49</td>\n      <td>43.64</td>\n      <td>11.62</td>\n      <td>5.53</td>\n      <td>10.12</td>\n      <td>4.60</td>\n      <td>100.00</td>\n    </tr>\n  </tbody>\n</table>\n</div>"
     },
     "metadata": {},
     "execution_count": 217
    }
   ],
   "source": [
    "new = (pd.crosstab(sampled.applicant_sex_name,sampled.agency_abbr).reindex(agency_abbr, axis=\"columns\")/sampled.shape[0] * 100).rename(index = {\"Information not provided by applicant in mail, Internet, or telephone application\" : \"Not provided\"})\n",
    "new['Total'] = new.sum(axis=1)\n",
    "new.loc['Total']= new.sum()\n",
    "new = new.round(2)\n",
    "new"
   ]
  },
  {
   "cell_type": "code",
   "execution_count": 218,
   "metadata": {},
   "outputs": [
    {
     "output_type": "execute_result",
     "data": {
      "text/plain": "agency_abbr         CFPB    HUD  FDIC   FRS  NCUA   OCC  Total\napplicant_sex_name                                            \nFemale              0.09  -6.62 -1.18  3.38  4.32  0.02    0.0\nNot provided        2.15  -2.74 -0.53  0.41  0.98 -0.27    0.0\nMale               -0.44  -1.84  5.30 -1.19 -2.88  1.07    0.0\nNot applicable      0.00   0.00  0.00  0.00  0.00  0.01    0.0\nTotal               1.79 -11.20  3.58  2.59  2.42  0.82    0.0",
      "text/html": "<div>\n<style scoped>\n    .dataframe tbody tr th:only-of-type {\n        vertical-align: middle;\n    }\n\n    .dataframe tbody tr th {\n        vertical-align: top;\n    }\n\n    .dataframe thead th {\n        text-align: right;\n    }\n</style>\n<table border=\"1\" class=\"dataframe\">\n  <thead>\n    <tr style=\"text-align: right;\">\n      <th>agency_abbr</th>\n      <th>CFPB</th>\n      <th>HUD</th>\n      <th>FDIC</th>\n      <th>FRS</th>\n      <th>NCUA</th>\n      <th>OCC</th>\n      <th>Total</th>\n    </tr>\n    <tr>\n      <th>applicant_sex_name</th>\n      <th></th>\n      <th></th>\n      <th></th>\n      <th></th>\n      <th></th>\n      <th></th>\n      <th></th>\n    </tr>\n  </thead>\n  <tbody>\n    <tr>\n      <th>Female</th>\n      <td>0.09</td>\n      <td>-6.62</td>\n      <td>-1.18</td>\n      <td>3.38</td>\n      <td>4.32</td>\n      <td>0.02</td>\n      <td>0.0</td>\n    </tr>\n    <tr>\n      <th>Not provided</th>\n      <td>2.15</td>\n      <td>-2.74</td>\n      <td>-0.53</td>\n      <td>0.41</td>\n      <td>0.98</td>\n      <td>-0.27</td>\n      <td>0.0</td>\n    </tr>\n    <tr>\n      <th>Male</th>\n      <td>-0.44</td>\n      <td>-1.84</td>\n      <td>5.30</td>\n      <td>-1.19</td>\n      <td>-2.88</td>\n      <td>1.07</td>\n      <td>0.0</td>\n    </tr>\n    <tr>\n      <th>Not applicable</th>\n      <td>0.00</td>\n      <td>0.00</td>\n      <td>0.00</td>\n      <td>0.00</td>\n      <td>0.00</td>\n      <td>0.01</td>\n      <td>0.0</td>\n    </tr>\n    <tr>\n      <th>Total</th>\n      <td>1.79</td>\n      <td>-11.20</td>\n      <td>3.58</td>\n      <td>2.59</td>\n      <td>2.42</td>\n      <td>0.82</td>\n      <td>0.0</td>\n    </tr>\n  </tbody>\n</table>\n</div>"
     },
     "metadata": {},
     "execution_count": 218
    }
   ],
   "source": [
    "new - og"
   ]
  },
  {
   "cell_type": "code",
   "execution_count": 164,
   "metadata": {},
   "outputs": [
    {
     "output_type": "execute_result",
     "data": {
      "text/plain": "applicant_sex      2      3      1     4   Total\nagency_abbr                                     \nCFPB            6.00   3.30  13.38  0.01   22.70\nFDIC            2.09   0.97   4.96  0.01    8.04\nFRS             0.79   0.32   1.82  0.00    2.94\nHUD            14.84   8.36  31.63  0.01   54.84\nNCUA            2.36   1.26   4.08  0.01    7.70\nOCC             0.97   0.41   2.39  0.00    3.78\nTotal          27.06  14.62  58.28  0.05  100.00",
      "text/html": "<div>\n<style scoped>\n    .dataframe tbody tr th:only-of-type {\n        vertical-align: middle;\n    }\n\n    .dataframe tbody tr th {\n        vertical-align: top;\n    }\n\n    .dataframe thead th {\n        text-align: right;\n    }\n</style>\n<table border=\"1\" class=\"dataframe\">\n  <thead>\n    <tr style=\"text-align: right;\">\n      <th>applicant_sex</th>\n      <th>2</th>\n      <th>3</th>\n      <th>1</th>\n      <th>4</th>\n      <th>Total</th>\n    </tr>\n    <tr>\n      <th>agency_abbr</th>\n      <th></th>\n      <th></th>\n      <th></th>\n      <th></th>\n      <th></th>\n    </tr>\n  </thead>\n  <tbody>\n    <tr>\n      <th>CFPB</th>\n      <td>6.00</td>\n      <td>3.30</td>\n      <td>13.38</td>\n      <td>0.01</td>\n      <td>22.70</td>\n    </tr>\n    <tr>\n      <th>FDIC</th>\n      <td>2.09</td>\n      <td>0.97</td>\n      <td>4.96</td>\n      <td>0.01</td>\n      <td>8.04</td>\n    </tr>\n    <tr>\n      <th>FRS</th>\n      <td>0.79</td>\n      <td>0.32</td>\n      <td>1.82</td>\n      <td>0.00</td>\n      <td>2.94</td>\n    </tr>\n    <tr>\n      <th>HUD</th>\n      <td>14.84</td>\n      <td>8.36</td>\n      <td>31.63</td>\n      <td>0.01</td>\n      <td>54.84</td>\n    </tr>\n    <tr>\n      <th>NCUA</th>\n      <td>2.36</td>\n      <td>1.26</td>\n      <td>4.08</td>\n      <td>0.01</td>\n      <td>7.70</td>\n    </tr>\n    <tr>\n      <th>OCC</th>\n      <td>0.97</td>\n      <td>0.41</td>\n      <td>2.39</td>\n      <td>0.00</td>\n      <td>3.78</td>\n    </tr>\n    <tr>\n      <th>Total</th>\n      <td>27.06</td>\n      <td>14.62</td>\n      <td>58.28</td>\n      <td>0.05</td>\n      <td>100.00</td>\n    </tr>\n  </tbody>\n</table>\n</div>"
     },
     "metadata": {},
     "execution_count": 164
    }
   ],
   "source": [
    "og = (pd.crosstab(data.agency_abbr,data.applicant_sex).reindex(applicant_sex, axis=\"columns\")/data.shape[0] * 100)\n",
    "og['Total'] = og.sum(axis=1)\n",
    "og.loc['Total']= og.sum()\n",
    "og = og.round(2)\n",
    "og"
   ]
  },
  {
   "cell_type": "code",
   "execution_count": 155,
   "metadata": {},
   "outputs": [
    {
     "output_type": "execute_result",
     "data": {
      "text/plain": "applicant_sex      2      3      1     4   Total\nagency_abbr                                     \nCFPB            6.25   5.68  12.43  0.04   24.40\nFDIC            0.92   0.47  10.00  0.06   11.45\nFRS             4.29   0.78   0.56  0.01    5.65\nHUD             8.68   5.74  29.12  0.06   43.59\nNCUA            6.86   2.24   1.24  0.03   10.38\nOCC             0.95   0.16   3.42  0.01    4.54\nTotal          27.95  15.07  56.77  0.20  100.00",
      "text/html": "<div>\n<style scoped>\n    .dataframe tbody tr th:only-of-type {\n        vertical-align: middle;\n    }\n\n    .dataframe tbody tr th {\n        vertical-align: top;\n    }\n\n    .dataframe thead th {\n        text-align: right;\n    }\n</style>\n<table border=\"1\" class=\"dataframe\">\n  <thead>\n    <tr style=\"text-align: right;\">\n      <th>applicant_sex</th>\n      <th>2</th>\n      <th>3</th>\n      <th>1</th>\n      <th>4</th>\n      <th>Total</th>\n    </tr>\n    <tr>\n      <th>agency_abbr</th>\n      <th></th>\n      <th></th>\n      <th></th>\n      <th></th>\n      <th></th>\n    </tr>\n  </thead>\n  <tbody>\n    <tr>\n      <th>CFPB</th>\n      <td>6.25</td>\n      <td>5.68</td>\n      <td>12.43</td>\n      <td>0.04</td>\n      <td>24.40</td>\n    </tr>\n    <tr>\n      <th>FDIC</th>\n      <td>0.92</td>\n      <td>0.47</td>\n      <td>10.00</td>\n      <td>0.06</td>\n      <td>11.45</td>\n    </tr>\n    <tr>\n      <th>FRS</th>\n      <td>4.29</td>\n      <td>0.78</td>\n      <td>0.56</td>\n      <td>0.01</td>\n      <td>5.65</td>\n    </tr>\n    <tr>\n      <th>HUD</th>\n      <td>8.68</td>\n      <td>5.74</td>\n      <td>29.12</td>\n      <td>0.06</td>\n      <td>43.59</td>\n    </tr>\n    <tr>\n      <th>NCUA</th>\n      <td>6.86</td>\n      <td>2.24</td>\n      <td>1.24</td>\n      <td>0.03</td>\n      <td>10.38</td>\n    </tr>\n    <tr>\n      <th>OCC</th>\n      <td>0.95</td>\n      <td>0.16</td>\n      <td>3.42</td>\n      <td>0.01</td>\n      <td>4.54</td>\n    </tr>\n    <tr>\n      <th>Total</th>\n      <td>27.95</td>\n      <td>15.07</td>\n      <td>56.77</td>\n      <td>0.20</td>\n      <td>100.00</td>\n    </tr>\n  </tbody>\n</table>\n</div>"
     },
     "metadata": {},
     "execution_count": 155
    }
   ],
   "source": [
    "new = (pd.crosstab(sampled.agency_abbr,sampled.applicant_sex).reindex(applicant_sex, axis=\"columns\")/sampled.shape[0] * 100)\n",
    "new['Total'] = new.sum(axis=1)\n",
    "new.loc['Total']= new.sum()\n",
    "new = new.round(2)\n",
    "new"
   ]
  },
  {
   "cell_type": "code",
   "execution_count": 104,
   "metadata": {},
   "outputs": [
    {
     "output_type": "execute_result",
     "data": {
      "text/plain": "applicant_sex     2     3     1     4  Total\nagency_abbr                                 \nCFPB          -2.65 -2.17 -0.82  0.09  -5.57\nFDIC           0.68 -0.55 -0.22  0.03  -0.07\nFRS            0.09  0.02  1.47  0.03   1.60\nHUD           -0.76 -0.70  0.38  0.16  -0.92\nNCUA          -0.86 -0.46  3.52  0.04   2.25\nOCC            0.41  0.41  1.83  0.06   2.69\nTotal         -3.10 -3.44  6.14  0.40   0.00",
      "text/html": "<div>\n<style scoped>\n    .dataframe tbody tr th:only-of-type {\n        vertical-align: middle;\n    }\n\n    .dataframe tbody tr th {\n        vertical-align: top;\n    }\n\n    .dataframe thead th {\n        text-align: right;\n    }\n</style>\n<table border=\"1\" class=\"dataframe\">\n  <thead>\n    <tr style=\"text-align: right;\">\n      <th>applicant_sex</th>\n      <th>2</th>\n      <th>3</th>\n      <th>1</th>\n      <th>4</th>\n      <th>Total</th>\n    </tr>\n    <tr>\n      <th>agency_abbr</th>\n      <th></th>\n      <th></th>\n      <th></th>\n      <th></th>\n      <th></th>\n    </tr>\n  </thead>\n  <tbody>\n    <tr>\n      <th>CFPB</th>\n      <td>-2.65</td>\n      <td>-2.17</td>\n      <td>-0.82</td>\n      <td>0.09</td>\n      <td>-5.57</td>\n    </tr>\n    <tr>\n      <th>FDIC</th>\n      <td>0.68</td>\n      <td>-0.55</td>\n      <td>-0.22</td>\n      <td>0.03</td>\n      <td>-0.07</td>\n    </tr>\n    <tr>\n      <th>FRS</th>\n      <td>0.09</td>\n      <td>0.02</td>\n      <td>1.47</td>\n      <td>0.03</td>\n      <td>1.60</td>\n    </tr>\n    <tr>\n      <th>HUD</th>\n      <td>-0.76</td>\n      <td>-0.70</td>\n      <td>0.38</td>\n      <td>0.16</td>\n      <td>-0.92</td>\n    </tr>\n    <tr>\n      <th>NCUA</th>\n      <td>-0.86</td>\n      <td>-0.46</td>\n      <td>3.52</td>\n      <td>0.04</td>\n      <td>2.25</td>\n    </tr>\n    <tr>\n      <th>OCC</th>\n      <td>0.41</td>\n      <td>0.41</td>\n      <td>1.83</td>\n      <td>0.06</td>\n      <td>2.69</td>\n    </tr>\n    <tr>\n      <th>Total</th>\n      <td>-3.10</td>\n      <td>-3.44</td>\n      <td>6.14</td>\n      <td>0.40</td>\n      <td>0.00</td>\n    </tr>\n  </tbody>\n</table>\n</div>"
     },
     "metadata": {},
     "execution_count": 104
    }
   ],
   "source": [
    "new - og"
   ]
  },
  {
   "cell_type": "code",
   "execution_count": 80,
   "metadata": {
    "tags": [
     "outputPrepend"
    ]
   },
   "outputs": [
    {
     "output_type": "stream",
     "name": "stdout",
     "text": "\n [0. 1.]\n [0. 1.]\n [1. 0.]\n [0. 1.]\n [1. 0.]\n [0. 1.]\n [1. 0.]\n [1. 0.]\n [1. 0.]\n [1. 0.]\n [0. 1.]\n [0. 1.]\n [1. 0.]\n [1. 0.]\n [0. 1.]\n [0. 1.]\n [1. 0.]\n [1. 0.]\n [1. 0.]\n [0. 1.]\n [1. 0.]\n [0. 1.]\n [0. 1.]\n [1. 0.]\n [0. 1.]\n [0. 1.]\n [1. 0.]\n [0. 1.]\n [1. 0.]\n [1. 0.]\n [1. 0.]\n [1. 0.]\n [0. 1.]\n [1. 0.]\n [0. 1.]\n [0. 1.]\n [0. 1.]\n [1. 0.]\n [0. 1.]\n [0. 1.]\n [1. 0.]\n [1. 0.]\n [1. 0.]\n [0. 1.]\n [1. 0.]\n [1. 0.]\n [0. 1.]\n [0. 1.]\n [1. 0.]\n [0. 1.]\n [0. 1.]\n [1. 0.]\n [1. 0.]\n [1. 0.]\n [0. 1.]\n [0. 1.]\n [0. 1.]\n [1. 0.]\n [1. 0.]\n [0. 1.]\n [0. 1.]\n [0. 1.]\n [0. 1.]\n [0. 1.]\n [0. 1.]\n [1. 0.]\n [1. 0.]\n [0. 1.]\n [0. 1.]\n [0. 1.]\n [0. 1.]\n [1. 0.]\n [1. 0.]\n [1. 0.]\n [0. 1.]\n [0. 1.]\n [0. 1.]\n [0. 1.]\n [1. 0.]\n [0. 1.]\n [1. 0.]\n [0. 1.]\n [0. 1.]\n [0. 1.]\n [1. 0.]\n [1. 0.]\n [0. 1.]\n [1. 0.]\n [0. 1.]\n [1. 0.]\n [0. 1.]\n [0. 1.]\n [1. 0.]\n [1. 0.]\n [1. 0.]\n [0. 1.]\n [0. 1.]\n [1. 0.]\n [0. 1.]\n [1. 0.]\n [1. 0.]\n [1. 0.]\n [0. 1.]\n [0. 1.]\n [0. 1.]\n [1. 0.]\n [1. 0.]\n [1. 0.]\n [1. 0.]\n [1. 0.]\n [1. 0.]\n [0. 1.]\n [1. 0.]\n [0. 1.]\n [1. 0.]\n [0. 1.]\n [1. 0.]\n [1. 0.]\n [0. 1.]\n [0. 1.]\n [1. 0.]\n [1. 0.]\n [1. 0.]\n [0. 1.]] [[0. 0. 0. ... 0. 0. 0.]\n [0. 0. 0. ... 0. 0. 0.]\n [0. 0. 0. ... 0. 0. 0.]\n ...\n [0. 0. 0. ... 0. 0. 0.]\n [0. 0. 0. ... 0. 0. 0.]\n [0. 0. 0. ... 0. 0. 0.]] [0 0 0 1 0 1 2 0 0 1 2 2 1 0 0 2 0 0 0 1 0 2 0 2 1 1 0 1 2 0 0 0 0 0 0 1 1\n 1 1 0 0 2 0 2 1 1 0 1 2 0 0 0 0 0 0 0 0 1 0 0 1 2 2 1 1 0 2 0 0 1 0 1 0 1\n 2 0 0 1 2 2 2 1 2 0 2 0 1 0 0 2 0 1 1 0 0 0 0 1 1 1 2 0 2 2 1 1 1 0 0 0 0\n 0 1 2 2 0 2 0 0 2 2 0 0 2 2 0 2 2 2 2 1 2 0 2 0 0 2 0 0 0 1 2 0 2 1 0 1 2\n 3 1 0 2 1 2 2 0 0 2 0 2 0 2 2 2 0 0 2 2 0 2 0 2 1 2 0 0 2 1 0 2 2 2 0 0 0\n 2 2 0 0 0 0 2 1 0 2 1 1 2 0 0 0 2 2 0 0 2 1 1 2 2 2 1 1 0 0 1 0 0 2 2 1 1\n 1 1 0 2 2 2 3 2 0 2 2 0 0 0 2 0 0 2 0 1 0 2 1 2 1 0 0 2 2 2 0 1 2 0 2 0 2\n 2 2 1 1 0 0 2 2 0 0 1 0 0 2 0 1 2 2 2 1 0 0 0 2 2 1 2 2 2 2 2 1 0 1 0 0 0\n 0 0 2 2 1 2 1 1 2 0 0 2 2 0 0 2 1 1 2 0 0 1 1 0 2 0 2 0 0 0 1 2 2 0 0 1 1\n 0 1 2 0 0 0 2 2 2 1 0 1 2 1 0 0 1 0 0 0 0 1 0 2 2 0 1 0 2 0 0 1 1 0 1 0 2\n 0 3 2 2 1 1 0 0 0 0 2 2 1 0 1 0 2 0 0 0 2 0 1 1 0 1 0 2 2 1 1 2 2 2 0 1 0\n 0 0 1 2 2 1 1 2 2 1 2 0 0 0 0 1 0 2 1 1 0 0 0 0 2 2 0 2 1 2 2 2 0 1 0 0 0\n 2 2 2 0 0 0 2 2 2 0 0 0 2 0 2 1 0 0 2 0 2 1 2 2 0 1 0 2 2 0 0 1 1 0 2 0 2\n 0 0 0 0 0 0 0 0 0 2 2 0 2 0 2 0 0 0 0] [1 0 0 0 0 0 1 0 1 0 0 1 1 1 0 1 1 1 1 0 0 0 0 1 0 1 1 1 1 0 0 0 0 0 0 1 0\n 0 1 1 0 1 0 1 1 1 0 0 0 0 0 0 0 1 0 1 1 0 0 1 1 0 1 0 0 1 1 0 0 1 0 0 0 0\n 0 0 0 0 1 1 0 1 1 1 1 1 0 1 0 1 1 1 1 0 0 0 0 1 0 0 1 0 1 0 0 1 1 1 1 0 0\n 0 0 1 0 0 1 0 0 1 1 0 0 1 1 1 1 1 1 1 1 1 0 0 0 1 0 0 0 0 0 1 0 1 1 0 0 1\n 0 0 0 0 0 0 1 0 1 1 1 1 0 0 1 1 0 1 0 1 0 1 1 1 1 1 0 0 1 0 0 1 0 1 0 0 0\n 1 1 1 1 1 1 0 0 1 0 1 0 1 0 0 0 1 1 1 0 1 0 0 1 1 1 0 1 0 0 1 0 1 1 1 0 0\n 0 0 1 1 1 1 0 1 1 1 0 0 0 1 1 0 0 1 0 0 0 0 0 1 0 0 0 1 0 1 1 0 1 1 1 1 1\n 1 1 1 0 0 1 1 0 0 0 0 0 1 0 0 0 1 0 1 1 0 1 0 1 1 1 1 1 0 1 1 1 0 0 1 0 0\n 0 1 1 1 0 1 1 0 1 0 0 1 1 0 0 1 0 1 1 1 0 0 0 0 1 0 1 0 1 0 1 1 1 1 0 0 0\n 1 0 1 1 1 1 0 1 1 0 0 0 1 0 0 0 1 0 0 0 0 0 1 1 1 0 0 1 0 0 1 1 1 1 1 0 1\n 1 1 1 1 1 1 1 1 0 1 0 1 0 0 0 0 1 1 0 0 1 1 0 0 0 1 0 1 1 0 1 1 0 1 0 0 0\n 0 1 0 1 1 1 0 1 1 0 0 0 1 0 0 1 1 0 1 1 0 0 0 1 1 1 0 0 1 1 1 1 1 1 0 0 1\n 1 1 1 0 0 0 1 1 1 1 0 1 0 1 1 1 0 0 1 0 1 0 1 1 0 0 0 1 1 0 1 0 0 0 1 1 1\n 0 0 0 0 0 0 1 0 1 0 1 0 0 1 1 0 0 0 1] 500\ncondtional 2 8 500\n[[2.70557294e-01 1.46198538e-01 5.82754172e-01 4.89995100e-04]\n [5.82754172e-01 2.70557294e-01 1.46198538e-01 4.89995100e-04]\n [2.70557294e-01 1.46198538e-01 5.82754172e-01 4.89995100e-04]\n ...\n [2.70557294e-01 1.46198538e-01 5.82754172e-01 4.89995100e-04]\n [5.82754172e-01 2.70557294e-01 1.46198538e-01 4.89995100e-04]\n [5.82754172e-01 2.70557294e-01 1.46198538e-01 4.89995100e-04]]\ncondtional [[0. 1.]\n [1. 0.]\n [0. 1.]\n [0. 1.]\n [0. 1.]\n [0. 1.]\n [0. 1.]\n [1. 0.]\n [0. 1.]\n [1. 0.]\n [1. 0.]\n [1. 0.]\n [0. 1.]\n [1. 0.]\n [1. 0.]\n [0. 1.]\n [0. 1.]\n [0. 1.]\n [1. 0.]\n [0. 1.]\n [0. 1.]\n [1. 0.]\n [0. 1.]\n [0. 1.]\n [0. 1.]\n [1. 0.]\n [1. 0.]\n [1. 0.]\n [1. 0.]\n [0. 1.]\n [0. 1.]\n [1. 0.]\n [0. 1.]\n [0. 1.]\n [0. 1.]\n [0. 1.]\n [1. 0.]\n [1. 0.]\n [0. 1.]\n [1. 0.]\n [1. 0.]\n [1. 0.]\n [0. 1.]\n [0. 1.]\n [0. 1.]\n [1. 0.]\n [1. 0.]\n [1. 0.]\n [1. 0.]\n [1. 0.]\n [1. 0.]\n [0. 1.]\n [0. 1.]\n [1. 0.]\n [1. 0.]\n [1. 0.]\n [0. 1.]\n [1. 0.]\n [1. 0.]\n [0. 1.]\n [0. 1.]\n [0. 1.]\n [0. 1.]\n [0. 1.]\n [1. 0.]\n [1. 0.]\n [0. 1.]\n [0. 1.]\n [0. 1.]\n [1. 0.]\n [1. 0.]\n [1. 0.]\n [1. 0.]\n [1. 0.]\n [1. 0.]\n [1. 0.]\n [0. 1.]\n [1. 0.]\n [0. 1.]\n [0. 1.]\n [1. 0.]\n [0. 1.]\n [0. 1.]\n [0. 1.]\n [1. 0.]\n [0. 1.]\n [0. 1.]\n [1. 0.]\n [0. 1.]\n [1. 0.]\n [0. 1.]\n [1. 0.]\n [1. 0.]\n [1. 0.]\n [0. 1.]\n [1. 0.]\n [1. 0.]\n [0. 1.]\n [0. 1.]\n [1. 0.]\n [0. 1.]\n [0. 1.]\n [1. 0.]\n [1. 0.]\n [1. 0.]\n [0. 1.]\n [0. 1.]\n [0. 1.]\n [0. 1.]\n [1. 0.]\n [0. 1.]\n [0. 1.]\n [0. 1.]\n [1. 0.]\n [1. 0.]\n [0. 1.]\n [1. 0.]\n [1. 0.]\n [1. 0.]\n [0. 1.]\n [1. 0.]\n [1. 0.]\n [1. 0.]\n [1. 0.]\n [0. 1.]\n [1. 0.]\n [0. 1.]\n [1. 0.]\n [1. 0.]\n [0. 1.]\n [0. 1.]\n [1. 0.]\n [0. 1.]\n [1. 0.]\n [0. 1.]\n [1. 0.]\n [1. 0.]\n [1. 0.]\n [0. 1.]\n [1. 0.]\n [1. 0.]\n [0. 1.]\n [1. 0.]\n [0. 1.]\n [1. 0.]\n [0. 1.]\n [0. 1.]\n [0. 1.]\n [1. 0.]\n [1. 0.]\n [1. 0.]\n [0. 1.]\n [0. 1.]\n [1. 0.]\n [0. 1.]\n [1. 0.]\n [0. 1.]\n [1. 0.]\n [1. 0.]\n [1. 0.]\n [1. 0.]\n [0. 1.]\n [0. 1.]\n [1. 0.]\n [0. 1.]\n [1. 0.]\n [0. 1.]\n [1. 0.]\n [1. 0.]\n [0. 1.]\n [0. 1.]\n [1. 0.]\n [0. 1.]\n [0. 1.]\n [0. 1.]\n [1. 0.]\n [1. 0.]\n [0. 1.]\n [1. 0.]\n [1. 0.]\n [0. 1.]\n [0. 1.]\n [1. 0.]\n [0. 1.]\n [0. 1.]\n [0. 1.]\n [0. 1.]\n [0. 1.]\n [1. 0.]\n [0. 1.]\n [0. 1.]\n [0. 1.]\n [1. 0.]\n [1. 0.]\n [1. 0.]\n [0. 1.]\n [0. 1.]\n [1. 0.]\n [0. 1.]\n [0. 1.]\n [1. 0.]\n [1. 0.]\n [1. 0.]\n [1. 0.]\n [1. 0.]\n [1. 0.]\n [0. 1.]\n [0. 1.]\n [0. 1.]\n [1. 0.]\n [0. 1.]\n [1. 0.]\n [0. 1.]\n [0. 1.]\n [0. 1.]\n [0. 1.]\n [0. 1.]\n [1. 0.]\n [1. 0.]\n [1. 0.]\n [1. 0.]\n [0. 1.]\n [1. 0.]\n [0. 1.]\n [1. 0.]\n [0. 1.]\n [1. 0.]\n [1. 0.]\n [0. 1.]\n [0. 1.]\n [0. 1.]\n [0. 1.]\n [1. 0.]\n [0. 1.]\n [1. 0.]\n [1. 0.]\n [0. 1.]\n [0. 1.]\n [0. 1.]\n [1. 0.]\n [1. 0.]\n [0. 1.]\n [1. 0.]\n [0. 1.]\n [0. 1.]\n [1. 0.]\n [1. 0.]\n [0. 1.]\n [1. 0.]\n [0. 1.]\n [1. 0.]\n [0. 1.]\n [0. 1.]\n [0. 1.]\n [1. 0.]\n [0. 1.]\n [0. 1.]\n [1. 0.]\n [1. 0.]\n [0. 1.]\n [1. 0.]\n [1. 0.]\n [1. 0.]\n [0. 1.]\n [1. 0.]\n [0. 1.]\n [1. 0.]\n [0. 1.]\n [0. 1.]\n [1. 0.]\n [0. 1.]\n [0. 1.]\n [0. 1.]\n [1. 0.]\n [1. 0.]\n [1. 0.]\n [0. 1.]\n [0. 1.]\n [1. 0.]\n [1. 0.]\n [1. 0.]\n [0. 1.]\n [1. 0.]\n [1. 0.]\n [0. 1.]\n [1. 0.]\n [1. 0.]\n [0. 1.]\n [0. 1.]\n [1. 0.]\n [0. 1.]\n [0. 1.]\n [0. 1.]\n [1. 0.]\n [1. 0.]\n [1. 0.]\n [0. 1.]\n [1. 0.]\n [1. 0.]\n [0. 1.]\n [0. 1.]\n [0. 1.]\n [0. 1.]\n [0. 1.]\n [1. 0.]\n [0. 1.]\n [0. 1.]\n [1. 0.]\n [1. 0.]\n [0. 1.]\n [0. 1.]\n [1. 0.]\n [1. 0.]\n [0. 1.]\n [0. 1.]\n [1. 0.]\n [1. 0.]\n [1. 0.]\n [0. 1.]\n [0. 1.]\n [0. 1.]\n [0. 1.]\n [1. 0.]\n [1. 0.]\n [1. 0.]\n [1. 0.]\n [0. 1.]\n [0. 1.]\n [0. 1.]\n [0. 1.]\n [0. 1.]\n [0. 1.]\n [0. 1.]\n [1. 0.]\n [1. 0.]\n [0. 1.]\n [0. 1.]\n [0. 1.]\n [0. 1.]\n [1. 0.]\n [1. 0.]\n [0. 1.]\n [0. 1.]\n [0. 1.]\n [1. 0.]\n [1. 0.]\n [1. 0.]\n [0. 1.]\n [1. 0.]\n [0. 1.]\n [1. 0.]\n [0. 1.]\n [0. 1.]\n [1. 0.]\n [0. 1.]\n [0. 1.]\n [0. 1.]\n [0. 1.]\n [1. 0.]\n [1. 0.]\n [1. 0.]\n [0. 1.]\n [0. 1.]\n [1. 0.]\n [0. 1.]\n [1. 0.]\n [0. 1.]\n [0. 1.]\n [1. 0.]\n [0. 1.]\n [1. 0.]\n [1. 0.]\n [1. 0.]\n [0. 1.]\n [1. 0.]\n [1. 0.]\n [0. 1.]\n [1. 0.]\n [0. 1.]\n [0. 1.]\n [0. 1.]\n [0. 1.]\n [1. 0.]\n [0. 1.]\n [1. 0.]\n [0. 1.]\n [1. 0.]\n [1. 0.]\n [1. 0.]\n [0. 1.]\n [1. 0.]\n [1. 0.]\n [0. 1.]\n [1. 0.]\n [1. 0.]\n [1. 0.]\n [0. 1.]\n [0. 1.]\n [1. 0.]\n [0. 1.]\n [0. 1.]\n [1. 0.]\n [0. 1.]\n [1. 0.]\n [0. 1.]\n [1. 0.]\n [0. 1.]\n [1. 0.]\n [0. 1.]\n [0. 1.]\n [0. 1.]\n [1. 0.]\n [0. 1.]\n [0. 1.]\n [0. 1.]\n [0. 1.]\n [0. 1.]\n [1. 0.]\n [1. 0.]\n [0. 1.]\n [1. 0.]\n [1. 0.]\n [1. 0.]\n [1. 0.]\n [0. 1.]\n [1. 0.]\n [0. 1.]\n [1. 0.]\n [1. 0.]\n [1. 0.]\n [1. 0.]\n [0. 1.]\n [1. 0.]\n [0. 1.]\n [0. 1.]\n [0. 1.]\n [0. 1.]\n [1. 0.]\n [0. 1.]\n [0. 1.]\n [0. 1.]\n [0. 1.]\n [0. 1.]\n [0. 1.]\n [1. 0.]\n [1. 0.]\n [0. 1.]\n [0. 1.]\n [1. 0.]\n [0. 1.]\n [0. 1.]\n [0. 1.]\n [0. 1.]\n [1. 0.]\n [1. 0.]\n [0. 1.]\n [1. 0.]\n [0. 1.]\n [0. 1.]\n [0. 1.]\n [1. 0.]\n [0. 1.]\n [0. 1.]\n [1. 0.]\n [0. 1.]\n [0. 1.]\n [0. 1.]\n [1. 0.]\n [0. 1.]\n [1. 0.]\n [1. 0.]\n [1. 0.]\n [1. 0.]\n [1. 0.]\n [0. 1.]\n [0. 1.]\n [1. 0.]\n [1. 0.]\n [1. 0.]\n [1. 0.]\n [0. 1.]\n [1. 0.]\n [1. 0.]\n [0. 1.]\n [0. 1.]\n [1. 0.]\n [1. 0.]\n [0. 1.]\n [1. 0.]\n [0. 1.]\n [1. 0.]\n [0. 1.]\n [0. 1.]\n [1. 0.]\n [1. 0.]\n [0. 1.]\n [1. 0.]\n [0. 1.]\n [1. 0.]\n [1. 0.]] [[0. 0. 0. ... 0. 0. 0.]\n [0. 0. 0. ... 0. 0. 0.]\n [0. 0. 0. ... 0. 0. 0.]\n ...\n [0. 0. 0. ... 0. 0. 0.]\n [0. 0. 0. ... 0. 0. 0.]\n [0. 0. 0. ... 0. 0. 0.]] [1 0 2 2 0 2 0 0 0 2 0 1 2 1 1 2 0 0 0 0 2 1 2 2 2 0 0 1 2 2 2 0 1 2 2 1 0\n 0 0 0 0 0 1 2 2 1 0 0 0 0 0 0 2 0 0 1 2 0 0 2 2 0 2 0 0 0 2 2 2 0 1 1 2 0\n 0 0 2 2 1 2 0 2 0 2 2 2 2 2 1 1 2 0 0 0 1 0 0 0 2 0 1 1 1 0 0 2 2 2 1 0 2\n 1 2 1 1 0 0 0 0 2 0 0 0 1 0 0 2 0 0 0 1 1 2 1 2 1 0 2 2 0 0 0 2 2 0 2 2 0\n 0 0 0 2 0 2 2 0 2 0 0 1 0 2 2 1 2 0 2 2 0 2 2 1 1 2 0 0 1 0 2 1 1 2 1 2 2\n 0 2 2 0 2 2 0 2 0 0 1 2 0 2 2 0 0 0 0 0 1 2 0 2 0 0 2 2 2 1 2 2 0 0 0 0 2\n 0 2 0 2 0 0 0 0 2 2 0 1 0 0 0 2 2 0 0 0 0 2 0 0 1 2 2 0 0 2 1 2 2 1 2 1 2\n 2 0 0 2 2 2 2 1 2 0 0 2 2 2 0 0 0 0 2 1 0 1 0 1 1 0 0 0 1 2 0 2 1 0 0 0 0\n 1 0 0 0 2 2 0 2 1 0 1 1 1 2 1 2 0 2 0 2 0 1 2 2 2 0 0 1 2 2 2 1 1 2 2 0 1\n 2 1 0 0 0 2 0 0 2 1 1 0 1 0 0 0 1 1 0 2 1 2 2 2 2 0 1 1 0 0 0 2 1 1 2 2 1\n 0 1 1 1 2 0 0 0 2 2 2 2 1 2 1 1 0 0 1 2 1 0 2 0 0 0 1 0 1 0 2 0 2 0 0 1 0\n 0 2 0 2 0 0 2 2 0 0 0 0 1 0 2 0 1 2 0 2 1 0 1 1 0 2 0 1 2 0 2 2 2 2 2 1 2\n 0 0 1 2 0 1 0 2 0 0 1 2 1 0 2 2 0 0 0 0 0 0 1 0 2 1 2 1 0 0 2 1 2 1 2 1 2\n 1 0 2 2 2 1 2 2 2 0 2 0 0 2 0 1 2 0 0] [1 0 1 1 1 1 1 0 1 0 0 0 1 0 0 1 1 1 0 1 1 0 1 1 1 0 0 0 0 1 1 0 1 1 1 1 0\n 0 1 0 0 0 1 1 1 0 0 0 0 0 0 1 1 0 0 0 1 0 0 1 1 1 1 1 0 0 1 1 1 0 0 0 0 0\n 0 0 1 0 1 1 0 1 1 1 0 1 1 0 1 0 1 0 0 0 1 0 0 1 1 0 1 1 0 0 0 1 1 1 1 0 1\n 1 1 0 0 1 0 0 0 1 0 0 0 0 1 0 1 0 0 1 1 0 1 0 1 0 0 0 1 0 0 1 0 1 0 1 1 1\n 0 0 0 1 1 0 1 0 1 0 0 0 0 1 1 0 1 0 1 0 0 1 1 0 1 1 1 0 0 1 0 0 1 1 0 1 1\n 1 1 1 0 1 1 1 0 0 0 1 1 0 1 1 0 0 0 0 0 0 1 1 1 0 1 0 1 1 1 1 1 0 0 0 0 1\n 0 1 0 1 0 0 1 1 1 1 0 1 0 0 1 1 1 0 0 1 0 1 1 0 0 1 0 1 0 1 1 1 0 1 1 0 0\n 1 0 0 0 1 0 1 0 1 1 0 1 1 1 0 0 0 1 1 0 0 0 1 0 0 1 0 0 1 1 0 1 1 1 0 0 0\n 1 0 0 1 1 1 1 1 0 1 1 0 0 1 1 0 0 1 1 0 0 0 1 1 1 1 0 0 0 0 1 1 1 1 1 1 1\n 0 0 1 1 1 1 0 0 1 1 1 0 0 0 1 0 1 0 1 1 0 1 1 1 1 0 0 0 1 1 0 1 0 1 1 0 1\n 0 0 0 1 0 0 1 0 1 1 1 1 0 1 0 1 0 0 0 1 0 0 1 0 0 0 1 1 0 1 1 0 1 0 1 0 1\n 0 1 1 1 0 1 1 1 1 1 0 0 1 0 0 0 0 1 0 1 0 0 0 0 1 0 1 1 1 1 0 1 1 1 1 1 1\n 0 0 1 1 0 1 1 1 1 0 0 1 0 1 1 1 0 1 1 0 1 1 1 0 1 0 0 0 0 0 1 1 0 0 0 0 1\n 0 0 1 1 0 0 1 0 1 0 1 1 0 0 1 0 1 0 0] 500\nC1, tensor([[0., 0., 0.,  ..., 1., 0., 0.],\n        [1., 0., 0.,  ..., 0., 0., 0.],\n        [0., 0., 0.,  ..., 0., 1., 0.],\n        ...,\n        [0., 0., 0.,  ..., 0., 1., 0.],\n        [1., 0., 0.,  ..., 0., 0., 0.],\n        [1., 0., 0.,  ..., 0., 0., 0.]])tensor([1., 1., 1., 1., 1., 1., 1., 1., 1., 1., 1., 1., 1., 1., 1., 1., 1., 1.,\n        1., 1., 1., 1., 1., 1., 1., 1., 1., 1., 1., 1., 1., 1., 1., 1., 1., 1.,\n        1., 1., 1., 1., 1., 1., 1., 1., 1., 1., 1., 1., 1., 1., 1., 1., 1., 1.,\n        1., 1., 1., 1., 1., 1., 1., 1., 1., 1., 1., 1., 1., 1., 1., 1., 1., 1.,\n        1., 1., 1., 1., 1., 1., 1., 1., 1., 1., 1., 1., 1., 1., 1., 1., 1., 1.,\n        1., 1., 1., 1., 1., 1., 1., 1., 1., 1., 1., 1., 1., 1., 1., 1., 1., 1.,\n        1., 1., 1., 1., 1., 1., 1., 1., 1., 1., 1., 1., 1., 1., 1., 1., 1., 1.,\n        1., 1., 1., 1., 1., 1., 1., 1., 1., 1., 1., 1., 1., 1., 1., 1., 1., 1.,\n        1., 1., 1., 1., 1., 1., 1., 1., 1., 1., 1., 1., 1., 1., 1., 1., 1., 1.,\n        1., 1., 1., 1., 1., 1., 1., 1., 1., 1., 1., 1., 1., 1., 1., 1., 1., 1.,\n        1., 1., 1., 1., 1., 1., 1., 1., 1., 1., 1., 1., 1., 1., 1., 1., 1., 1.,\n        1., 1., 1., 1., 1., 1., 1., 1., 1., 1., 1., 1., 1., 1., 1., 1., 1., 1.,\n        1., 1., 1., 1., 1., 1., 1., 1., 1., 1., 1., 1., 1., 1., 1., 1., 1., 1.,\n        1., 1., 1., 1., 1., 1., 1., 1., 1., 1., 1., 1., 1., 1., 1., 1., 1., 1.,\n        1., 1., 1., 1., 1., 1., 1., 1., 1., 1., 1., 1., 1., 1., 1., 1., 1., 1.,\n        1., 1., 1., 1., 1., 1., 1., 1., 1., 1., 1., 1., 1., 1., 1., 1., 1., 1.,\n        1., 1., 1., 1., 1., 1., 1., 1., 1., 1., 1., 1., 1., 1., 1., 1., 1., 1.,\n        1., 1., 1., 1., 1., 1., 1., 1., 1., 1., 1., 1., 1., 1., 1., 1., 1., 1.,\n        1., 1., 1., 1., 1., 1., 1., 1., 1., 1., 1., 1., 1., 1., 1., 1., 1., 1.,\n        1., 1., 1., 1., 1., 1., 1., 1., 1., 1., 1., 1., 1., 1., 1., 1., 1., 1.,\n        1., 1., 1., 1., 1., 1., 1., 1., 1., 1., 1., 1., 1., 1., 1., 1., 1., 1.,\n        1., 1., 1., 1., 1., 1., 1., 1., 1., 1., 1., 1., 1., 1., 1., 1., 1., 1.,\n        1., 1., 1., 1., 1., 1., 1., 1., 1., 1., 1., 1., 1., 1., 1., 1., 1., 1.,\n        1., 1., 1., 1., 1., 1., 1., 1., 1., 1., 1., 1., 1., 1., 1., 1., 1., 1.,\n        1., 1., 1., 1., 1., 1., 1., 1., 1., 1., 1., 1., 1., 1., 1., 1., 1., 1.,\n        1., 1., 1., 1., 1., 1., 1., 1., 1., 1., 1., 1., 1., 1., 1., 1., 1., 1.,\n        1., 1., 1., 1., 1., 1., 1., 1., 1., 1., 1., 1., 1., 1., 1., 1., 1., 1.,\n        1., 1., 1., 1., 1., 1., 1., 1., 1., 1., 1., 1., 1., 1.])\ncondtional 2 8 500\n[[5.82754172e-01 2.70557294e-01 1.46198538e-01 4.89995100e-04]\n [2.70557294e-01 1.46198538e-01 5.82754172e-01 4.89995100e-04]\n [5.82754172e-01 2.70557294e-01 1.46198538e-01 4.89995100e-04]\n ...\n [2.70557294e-01 1.46198538e-01 5.82754172e-01 4.89995100e-04]\n [2.70557294e-01 1.46198538e-01 5.82754172e-01 4.89995100e-04]\n [2.70557294e-01 1.46198538e-01 5.82754172e-01 4.89995100e-04]]\ncondtional [[1. 0.]\n [0. 1.]\n [1. 0.]\n [1. 0.]\n [1. 0.]\n [0. 1.]\n [0. 1.]\n [1. 0.]\n [1. 0.]\n [1. 0.]\n [0. 1.]\n [1. 0.]\n [1. 0.]\n [0. 1.]\n [1. 0.]\n [0. 1.]\n [0. 1.]\n [1. 0.]\n [1. 0.]\n [0. 1.]\n [0. 1.]\n [1. 0.]\n [1. 0.]\n [1. 0.]\n [0. 1.]\n [1. 0.]\n [1. 0.]\n [1. 0.]\n [1. 0.]\n [0. 1.]\n [0. 1.]\n [0. 1.]\n [1. 0.]\n [1. 0.]\n [0. 1.]\n [0. 1.]\n [1. 0.]\n [1. 0.]\n [0. 1.]\n [1. 0.]\n [0. 1.]\n [0. 1.]\n [1. 0.]\n [0. 1.]\n [1. 0.]\n [0. 1.]\n [1. 0.]\n [0. 1.]\n [1. 0.]\n [0. 1.]\n [0. 1.]\n [1. 0.]\n [1. 0.]\n [0. 1.]\n [1. 0.]\n [1. 0.]\n [1. 0.]\n [1. 0.]\n [1. 0.]\n [0. 1.]\n [1. 0.]\n [0. 1.]\n [0. 1.]\n [0. 1.]\n [1. 0.]\n [1. 0.]\n [0. 1.]\n [1. 0.]\n [0. 1.]\n [1. 0.]\n [1. 0.]\n [1. 0.]\n [1. 0.]\n [0. 1.]\n [1. 0.]\n [0. 1.]\n [0. 1.]\n [0. 1.]\n [0. 1.]\n [0. 1.]\n [0. 1.]\n [1. 0.]\n [1. 0.]\n [0. 1.]\n [0. 1.]\n [0. 1.]\n [1. 0.]\n [1. 0.]\n [1. 0.]\n [0. 1.]\n [1. 0.]\n [1. 0.]\n [0. 1.]\n [1. 0.]\n [1. 0.]\n [0. 1.]\n [0. 1.]\n [0. 1.]\n [1. 0.]\n [0. 1.]\n [0. 1.]\n [0. 1.]\n [1. 0.]\n [0. 1.]\n [0. 1.]\n [1. 0.]\n [0. 1.]\n [0. 1.]\n [0. 1.]\n [1. 0.]\n [1. 0.]\n [0. 1.]\n [0. 1.]\n [1. 0.]\n [1. 0.]\n [0. 1.]\n [1. 0.]\n [0. 1.]\n [1. 0.]\n [1. 0.]\n [0. 1.]\n [0. 1.]\n [1. 0.]\n [0. 1.]\n [0. 1.]\n [0. 1.]\n [1. 0.]\n [0. 1.]\n [0. 1.]\n [1. 0.]\n [0. 1.]\n [1. 0.]\n [0. 1.]\n [1. 0.]\n [1. 0.]\n [0. 1.]\n [1. 0.]\n [1. 0.]\n [1. 0.]\n [1. 0.]\n [1. 0.]\n [0. 1.]\n [0. 1.]\n [0. 1.]\n [1. 0.]\n [0. 1.]\n [1. 0.]\n [0. 1.]\n [1. 0.]\n [0. 1.]\n [1. 0.]\n [0. 1.]\n [1. 0.]\n [1. 0.]\n [0. 1.]\n [0. 1.]\n [1. 0.]\n [1. 0.]\n [1. 0.]\n [0. 1.]\n [0. 1.]\n [1. 0.]\n [1. 0.]\n [0. 1.]\n [0. 1.]\n [0. 1.]\n [0. 1.]\n [1. 0.]\n [0. 1.]\n [0. 1.]\n [0. 1.]\n [1. 0.]\n [0. 1.]\n [0. 1.]\n [1. 0.]\n [1. 0.]\n [1. 0.]\n [1. 0.]\n [0. 1.]\n [1. 0.]\n [1. 0.]\n [1. 0.]\n [0. 1.]\n [1. 0.]\n [1. 0.]\n [1. 0.]\n [0. 1.]\n [1. 0.]\n [0. 1.]\n [0. 1.]\n [1. 0.]\n [0. 1.]\n [0. 1.]\n [0. 1.]\n [0. 1.]\n [1. 0.]\n [1. 0.]\n [0. 1.]\n [1. 0.]\n [0. 1.]\n [1. 0.]\n [1. 0.]\n [1. 0.]\n [1. 0.]\n [1. 0.]\n [0. 1.]\n [1. 0.]\n [1. 0.]\n [0. 1.]\n [0. 1.]\n [0. 1.]\n [1. 0.]\n [1. 0.]\n [1. 0.]\n [0. 1.]\n [1. 0.]\n [1. 0.]\n [1. 0.]\n [0. 1.]\n [0. 1.]\n [0. 1.]\n [1. 0.]\n [0. 1.]\n [0. 1.]\n [0. 1.]\n [1. 0.]\n [0. 1.]\n [1. 0.]\n [0. 1.]\n [1. 0.]\n [1. 0.]\n [1. 0.]\n [1. 0.]\n [1. 0.]\n [0. 1.]\n [1. 0.]\n [1. 0.]\n [0. 1.]\n [1. 0.]\n [0. 1.]\n [0. 1.]\n [0. 1.]\n [0. 1.]\n [0. 1.]\n [1. 0.]\n [0. 1.]\n [1. 0.]\n [0. 1.]\n [1. 0.]\n [1. 0.]\n [0. 1.]\n [1. 0.]\n [0. 1.]\n [0. 1.]\n [0. 1.]\n [1. 0.]\n [1. 0.]\n [1. 0.]\n [0. 1.]\n [1. 0.]\n [0. 1.]\n [1. 0.]\n [0. 1.]\n [0. 1.]\n [0. 1.]\n [0. 1.]\n [1. 0.]\n [1. 0.]\n [0. 1.]\n [0. 1.]\n [1. 0.]\n [1. 0.]\n [1. 0.]\n [0. 1.]\n [1. 0.]\n [0. 1.]\n [0. 1.]\n [1. 0.]\n [1. 0.]\n [0. 1.]\n [0. 1.]\n [0. 1.]\n [0. 1.]\n [1. 0.]\n [0. 1.]\n [0. 1.]\n [1. 0.]\n [1. 0.]\n [1. 0.]\n [1. 0.]\n [0. 1.]\n [0. 1.]\n [0. 1.]\n [1. 0.]\n [1. 0.]\n [1. 0.]\n [1. 0.]\n [1. 0.]\n [0. 1.]\n [1. 0.]\n [1. 0.]\n [1. 0.]\n [1. 0.]\n [1. 0.]\n [1. 0.]\n [1. 0.]\n [0. 1.]\n [0. 1.]\n [1. 0.]\n [0. 1.]\n [1. 0.]\n [0. 1.]\n [0. 1.]\n [1. 0.]\n [1. 0.]\n [0. 1.]\n [1. 0.]\n [0. 1.]\n [1. 0.]\n [0. 1.]\n [1. 0.]\n [0. 1.]\n [0. 1.]\n [0. 1.]\n [0. 1.]\n [0. 1.]\n [0. 1.]\n [1. 0.]\n [0. 1.]\n [1. 0.]\n [0. 1.]\n [1. 0.]\n [1. 0.]\n [0. 1.]\n [1. 0.]\n [0. 1.]\n [1. 0.]\n [1. 0.]\n [1. 0.]\n [1. 0.]\n [1. 0.]\n [0. 1.]\n [0. 1.]\n [0. 1.]\n [0. 1.]\n [0. 1.]\n [1. 0.]\n [0. 1.]\n [0. 1.]\n [1. 0.]\n [0. 1.]\n [1. 0.]\n [0. 1.]\n [0. 1.]\n [1. 0.]\n [0. 1.]\n [0. 1.]\n [1. 0.]\n [1. 0.]\n [0. 1.]\n [1. 0.]\n [0. 1.]\n [0. 1.]\n [1. 0.]\n [1. 0.]\n [1. 0.]\n [0. 1.]\n [0. 1.]\n [0. 1.]\n [1. 0.]\n [0. 1.]\n [0. 1.]\n [1. 0.]\n [0. 1.]\n [1. 0.]\n [1. 0.]\n [0. 1.]\n [0. 1.]\n [0. 1.]\n [1. 0.]\n [1. 0.]\n [1. 0.]\n [0. 1.]\n [1. 0.]\n [0. 1.]\n [0. 1.]\n [0. 1.]\n [1. 0.]\n [1. 0.]\n [0. 1.]\n [1. 0.]\n [0. 1.]\n [0. 1.]\n [1. 0.]\n [1. 0.]\n [0. 1.]\n [1. 0.]\n [0. 1.]\n [1. 0.]\n [1. 0.]\n [1. 0.]\n [0. 1.]\n [0. 1.]\n [0. 1.]\n [1. 0.]\n [0. 1.]\n [0. 1.]\n [0. 1.]\n [1. 0.]\n [0. 1.]\n [1. 0.]\n [0. 1.]\n [1. 0.]\n [1. 0.]\n [1. 0.]\n [1. 0.]\n [1. 0.]\n [1. 0.]\n [1. 0.]\n [1. 0.]\n [0. 1.]\n [1. 0.]\n [0. 1.]\n [0. 1.]\n [0. 1.]\n [0. 1.]\n [0. 1.]\n [1. 0.]\n [0. 1.]\n [1. 0.]\n [1. 0.]\n [0. 1.]\n [0. 1.]\n [1. 0.]\n [1. 0.]\n [0. 1.]\n [0. 1.]\n [1. 0.]\n [0. 1.]\n [1. 0.]\n [0. 1.]\n [0. 1.]\n [0. 1.]\n [0. 1.]\n [0. 1.]\n [0. 1.]\n [0. 1.]\n [1. 0.]\n [0. 1.]\n [0. 1.]\n [1. 0.]\n [0. 1.]\n [0. 1.]\n [0. 1.]\n [0. 1.]\n [1. 0.]\n [0. 1.]\n [1. 0.]\n [0. 1.]\n [1. 0.]\n [0. 1.]\n [0. 1.]\n [1. 0.]\n [0. 1.]\n [0. 1.]\n [1. 0.]\n [0. 1.]\n [1. 0.]\n [1. 0.]\n [1. 0.]\n [1. 0.]\n [0. 1.]\n [1. 0.]\n [1. 0.]\n [1. 0.]\n [0. 1.]\n [0. 1.]\n [0. 1.]\n [1. 0.]\n [0. 1.]\n [0. 1.]\n [0. 1.]\n [0. 1.]\n [0. 1.]\n [1. 0.]\n [1. 0.]\n [1. 0.]\n [0. 1.]\n [1. 0.]\n [1. 0.]\n [0. 1.]\n [1. 0.]\n [1. 0.]\n [0. 1.]\n [0. 1.]\n [1. 0.]\n [0. 1.]\n [0. 1.]\n [0. 1.]\n [0. 1.]] [[0. 0. 0. ... 0. 0. 0.]\n [0. 0. 0. ... 0. 0. 0.]\n [0. 0. 0. ... 0. 0. 0.]\n ...\n [0. 0. 0. ... 0. 0. 0.]\n [0. 0. 0. ... 0. 0. 0.]\n [0. 0. 0. ... 0. 0. 0.]] [1 1 1 0 0 2 2 2 1 0 2 0 1 0 2 0 2 0 0 0 0 0 1 0 2 0 0 0 0 2 2 2 1 1 2 2 2\n 2 2 1 2 0 1 1 1 1 2 2 1 2 2 1 0 2 0 0 0 2 0 2 0 1 2 2 0 0 2 0 2 1 1 0 0 2\n 2 2 2 1 2 0 2 1 2 0 2 2 0 0 1 2 0 0 2 0 2 0 2 0 0 0 2 0 1 2 2 0 2 2 2 1 0\n 2 2 2 1 1 0 0 2 0 2 2 0 2 2 1 0 1 1 0 1 2 0 1 0 2 2 0 0 0 1 2 1 1 0 0 1 2\n 0 0 0 0 1 2 2 0 0 0 0 1 2 0 0 2 2 0 0 0 2 1 2 1 2 2 0 1 0 0 2 0 0 0 0 0 0\n 1 2 1 2 2 0 0 2 0 0 0 0 2 2 2 0 0 1 0 0 2 0 0 0 2 2 1 1 0 2 0 0 2 0 2 0 1\n 2 1 2 0 2 0 2 0 0 1 1 2 0 0 0 1 0 2 2 2 0 2 0 2 2 2 0 0 2 1 0 1 2 2 1 0 2\n 1 2 0 0 1 0 0 0 0 2 0 1 1 1 0 0 0 1 2 0 2 2 2 1 1 0 2 1 1 2 0 2 2 2 2 1 2\n 0 2 0 0 2 2 0 0 0 0 2 2 0 2 2 2 2 1 2 2 2 2 1 2 1 2 2 2 0 2 2 0 0 0 2 1 0\n 0 0 0 0 1 2 2 0 2 2 2 2 2 0 0 1 1 2 0 2 2 0 2 0 0 0 0 0 2 2 0 0 2 2 2 1 1\n 2 0 0 2 2 1 2 2 1 1 1 0 1 0 2 0 0 2 0 2 1 2 0 1 0 2 1 2 1 0 0 0 0 2 0 2 0\n 0 0 2 0 1 2 0 0 0 0 2 0 2 0 0 2 2 2 2 2 0 2 1 0 2 0 0 1 2 2 1 2 0 2 0 2 2\n 2 0 2 2 2 2 0 2 2 2 1 1 0 2 2 1 1 0 1 0 0 0 2 1 1 0 2 2 2 0 1 2 0 2 0 1 2\n 2 0 2 0 1 2 0 0 0 1 0 1 2 2 1 0 0 0 2] [0 1 0 0 0 1 1 0 0 0 1 0 0 1 0 1 1 0 0 1 1 0 0 0 1 0 0 0 0 1 1 1 0 0 1 1 0\n 0 1 0 1 1 0 1 0 1 0 1 0 1 1 0 0 1 0 0 0 0 0 1 0 1 1 1 0 0 1 0 1 0 0 0 0 1\n 0 1 1 1 1 1 1 0 0 1 1 1 0 0 0 1 0 0 1 0 0 1 1 1 0 1 1 1 0 1 1 0 1 1 1 0 0\n 1 1 0 0 1 0 1 0 0 1 1 0 1 1 1 0 1 1 0 1 0 1 0 0 1 0 0 0 0 0 1 1 1 0 1 0 1\n 0 1 0 1 0 0 1 1 0 0 0 1 1 0 0 1 1 1 1 0 1 1 1 0 1 1 0 0 0 0 1 0 0 0 1 0 0\n 0 1 0 1 1 0 1 1 1 1 0 0 1 0 1 0 0 0 0 0 1 0 0 1 1 1 0 0 0 1 0 0 0 1 1 1 0\n 1 1 1 0 1 0 1 0 0 0 0 0 1 0 0 1 0 1 1 1 1 1 0 1 0 1 0 0 1 0 1 1 1 0 0 0 1\n 0 1 0 1 1 1 1 0 0 1 1 0 0 0 1 0 1 1 0 0 1 1 1 1 0 1 1 0 0 0 0 1 1 1 0 0 0\n 0 0 1 0 0 0 0 0 0 0 1 1 0 1 0 1 1 0 0 1 0 1 0 1 0 1 1 1 1 1 1 0 1 0 1 0 0\n 1 0 1 0 0 0 0 0 1 1 1 1 1 0 1 1 0 1 0 1 1 0 1 1 0 0 1 0 1 1 0 0 0 1 1 1 0\n 1 1 0 1 0 0 1 1 1 0 0 0 1 0 1 1 1 0 0 1 0 1 1 0 0 1 0 1 0 0 0 1 1 1 0 1 1\n 1 0 1 0 1 0 0 0 0 0 0 0 0 1 0 1 1 1 1 1 0 1 0 0 1 1 0 0 1 1 0 1 0 1 1 1 1\n 1 1 1 0 1 1 0 1 1 1 1 0 1 0 1 0 1 1 0 1 1 0 1 0 0 0 0 1 0 0 0 1 1 1 0 1 1\n 1 1 1 0 0 0 1 0 0 1 0 0 1 1 0 1 1 1 1] 500\n"
    },
    {
     "output_type": "error",
     "ename": "KeyboardInterrupt",
     "evalue": "",
     "traceback": [
      "\u001b[0;31m---------------------------------------------------------------------------\u001b[0m",
      "\u001b[0;31mKeyboardInterrupt\u001b[0m                         Traceback (most recent call last)",
      "\u001b[0;32m<ipython-input-80-357083ec3ea4>\u001b[0m in \u001b[0;36m<module>\u001b[0;34m\u001b[0m\n\u001b[1;32m      8\u001b[0m \u001b[0mdata\u001b[0m \u001b[0;34m=\u001b[0m \u001b[0mdf\u001b[0m\u001b[0;34m.\u001b[0m\u001b[0mloc\u001b[0m\u001b[0;34m[\u001b[0m\u001b[0;36m0\u001b[0m\u001b[0;34m:\u001b[0m\u001b[0;36m100000\u001b[0m\u001b[0;34m,\u001b[0m\u001b[0;34m:\u001b[0m\u001b[0;34m]\u001b[0m\u001b[0;34m\u001b[0m\u001b[0;34m\u001b[0m\u001b[0m\n\u001b[1;32m      9\u001b[0m \u001b[0mmodel1\u001b[0m \u001b[0;34m=\u001b[0m \u001b[0msynthesizer\u001b[0m\u001b[0;34m.\u001b[0m\u001b[0mCTGANSynthesizer\u001b[0m\u001b[0;34m(\u001b[0m\u001b[0membedding_dim\u001b[0m \u001b[0;34m=\u001b[0m \u001b[0;36m128\u001b[0m\u001b[0;34m,\u001b[0m \u001b[0mbatch_size\u001b[0m\u001b[0;34m=\u001b[0m\u001b[0;36m500\u001b[0m\u001b[0;34m)\u001b[0m\u001b[0;34m\u001b[0m\u001b[0;34m\u001b[0m\u001b[0m\n\u001b[0;32m---> 10\u001b[0;31m \u001b[0mmodel1\u001b[0m\u001b[0;34m.\u001b[0m\u001b[0mfit\u001b[0m\u001b[0;34m(\u001b[0m\u001b[0mdata\u001b[0m\u001b[0;34m,\u001b[0m \u001b[0mdiscrete_columns\u001b[0m\u001b[0;34m,\u001b[0m \u001b[0;36m30\u001b[0m\u001b[0;34m,\u001b[0m\u001b[0mlog_frequency\u001b[0m\u001b[0;34m=\u001b[0m \u001b[0;32mFalse\u001b[0m\u001b[0;34m)\u001b[0m\u001b[0;34m\u001b[0m\u001b[0;34m\u001b[0m\u001b[0m\n\u001b[0m\u001b[1;32m     11\u001b[0m \u001b[0mmodel2\u001b[0m \u001b[0;34m=\u001b[0m \u001b[0msynthesizer\u001b[0m\u001b[0;34m.\u001b[0m\u001b[0mCTGANSynthesizer\u001b[0m\u001b[0;34m(\u001b[0m\u001b[0membedding_dim\u001b[0m \u001b[0;34m=\u001b[0m \u001b[0;36m128\u001b[0m\u001b[0;34m,\u001b[0m \u001b[0mbatch_size\u001b[0m\u001b[0;34m=\u001b[0m\u001b[0;36m500\u001b[0m\u001b[0;34m)\u001b[0m\u001b[0;34m\u001b[0m\u001b[0;34m\u001b[0m\u001b[0m\n\u001b[1;32m     12\u001b[0m \u001b[0mmodel2\u001b[0m\u001b[0;34m.\u001b[0m\u001b[0mfit\u001b[0m\u001b[0;34m(\u001b[0m\u001b[0mdata\u001b[0m\u001b[0;34m,\u001b[0m \u001b[0mdiscrete_columns\u001b[0m\u001b[0;34m,\u001b[0m \u001b[0;36m30\u001b[0m\u001b[0;34m,\u001b[0m\u001b[0mlog_frequency\u001b[0m\u001b[0;34m=\u001b[0m \u001b[0;32mTrue\u001b[0m\u001b[0;34m)\u001b[0m\u001b[0;34m\u001b[0m\u001b[0;34m\u001b[0m\u001b[0m\n",
      "\u001b[0;32m~/Documents/GitHub/CTGAN/ctgan/synthesizer.py\u001b[0m in \u001b[0;36mfit\u001b[0;34m(self, train_data, discrete_columns, epochs, log_frequency)\u001b[0m\n\u001b[1;32m    222\u001b[0m \u001b[0;34m\u001b[0m\u001b[0m\n\u001b[1;32m    223\u001b[0m                 \u001b[0moptimizerG\u001b[0m\u001b[0;34m.\u001b[0m\u001b[0mzero_grad\u001b[0m\u001b[0;34m(\u001b[0m\u001b[0;34m)\u001b[0m\u001b[0;34m\u001b[0m\u001b[0;34m\u001b[0m\u001b[0m\n\u001b[0;32m--> 224\u001b[0;31m                 \u001b[0mloss_g\u001b[0m\u001b[0;34m.\u001b[0m\u001b[0mbackward\u001b[0m\u001b[0;34m(\u001b[0m\u001b[0;34m)\u001b[0m\u001b[0;34m\u001b[0m\u001b[0;34m\u001b[0m\u001b[0m\n\u001b[0m\u001b[1;32m    225\u001b[0m                 \u001b[0moptimizerG\u001b[0m\u001b[0;34m.\u001b[0m\u001b[0mstep\u001b[0m\u001b[0;34m(\u001b[0m\u001b[0;34m)\u001b[0m\u001b[0;34m\u001b[0m\u001b[0;34m\u001b[0m\u001b[0m\n\u001b[1;32m    226\u001b[0m \u001b[0;34m\u001b[0m\u001b[0m\n",
      "\u001b[0;32m/anaconda2/envs/python36/lib/python3.7/site-packages/torch/tensor.py\u001b[0m in \u001b[0;36mbackward\u001b[0;34m(self, gradient, retain_graph, create_graph)\u001b[0m\n\u001b[1;32m    164\u001b[0m                 \u001b[0mproducts\u001b[0m\u001b[0;34m.\u001b[0m \u001b[0mDefaults\u001b[0m \u001b[0mto\u001b[0m\u001b[0;31m \u001b[0m\u001b[0;31m`\u001b[0m\u001b[0;31m`\u001b[0m\u001b[0;32mFalse\u001b[0m\u001b[0;31m`\u001b[0m\u001b[0;31m`\u001b[0m\u001b[0;34m.\u001b[0m\u001b[0;34m\u001b[0m\u001b[0;34m\u001b[0m\u001b[0m\n\u001b[1;32m    165\u001b[0m         \"\"\"\n\u001b[0;32m--> 166\u001b[0;31m         \u001b[0mtorch\u001b[0m\u001b[0;34m.\u001b[0m\u001b[0mautograd\u001b[0m\u001b[0;34m.\u001b[0m\u001b[0mbackward\u001b[0m\u001b[0;34m(\u001b[0m\u001b[0mself\u001b[0m\u001b[0;34m,\u001b[0m \u001b[0mgradient\u001b[0m\u001b[0;34m,\u001b[0m \u001b[0mretain_graph\u001b[0m\u001b[0;34m,\u001b[0m \u001b[0mcreate_graph\u001b[0m\u001b[0;34m)\u001b[0m\u001b[0;34m\u001b[0m\u001b[0;34m\u001b[0m\u001b[0m\n\u001b[0m\u001b[1;32m    167\u001b[0m \u001b[0;34m\u001b[0m\u001b[0m\n\u001b[1;32m    168\u001b[0m     \u001b[0;32mdef\u001b[0m \u001b[0mregister_hook\u001b[0m\u001b[0;34m(\u001b[0m\u001b[0mself\u001b[0m\u001b[0;34m,\u001b[0m \u001b[0mhook\u001b[0m\u001b[0;34m)\u001b[0m\u001b[0;34m:\u001b[0m\u001b[0;34m\u001b[0m\u001b[0;34m\u001b[0m\u001b[0m\n",
      "\u001b[0;32m/anaconda2/envs/python36/lib/python3.7/site-packages/torch/autograd/__init__.py\u001b[0m in \u001b[0;36mbackward\u001b[0;34m(tensors, grad_tensors, retain_graph, create_graph, grad_variables)\u001b[0m\n\u001b[1;32m     97\u001b[0m     Variable._execution_engine.run_backward(\n\u001b[1;32m     98\u001b[0m         \u001b[0mtensors\u001b[0m\u001b[0;34m,\u001b[0m \u001b[0mgrad_tensors\u001b[0m\u001b[0;34m,\u001b[0m \u001b[0mretain_graph\u001b[0m\u001b[0;34m,\u001b[0m \u001b[0mcreate_graph\u001b[0m\u001b[0;34m,\u001b[0m\u001b[0;34m\u001b[0m\u001b[0;34m\u001b[0m\u001b[0m\n\u001b[0;32m---> 99\u001b[0;31m         allow_unreachable=True)  # allow_unreachable flag\n\u001b[0m\u001b[1;32m    100\u001b[0m \u001b[0;34m\u001b[0m\u001b[0m\n\u001b[1;32m    101\u001b[0m \u001b[0;34m\u001b[0m\u001b[0m\n",
      "\u001b[0;31mKeyboardInterrupt\u001b[0m: "
     ]
    }
   ],
   "source": [
    "from importlib import reload\n",
    "import synthesizer,transformer,sampler,conditional,models\n",
    "reload(models)\n",
    "reload(sampler)\n",
    "reload(synthesizer)\n",
    "reload(transformer)\n",
    "reload(conditional)\n",
    "data = df.loc[0:100000,:]\n",
    "model1 = synthesizer.CTGANSynthesizer(embedding_dim = 128, batch_size=500)\n",
    "model1.fit(data, discrete_columns, 30,log_frequency= False)\n",
    "model2 = synthesizer.CTGANSynthesizer(embedding_dim = 128, batch_size=500)\n",
    "model2.fit(data, discrete_columns, 30,log_frequency= True)"
   ]
  },
  {
   "cell_type": "code",
   "execution_count": 156,
   "metadata": {},
   "outputs": [],
   "source": [
    "sampled = pd.concat([model1.sample(50000),model2.sample(50000)], axis = 0)"
   ]
  },
  {
   "cell_type": "code",
   "execution_count": 176,
   "metadata": {},
   "outputs": [],
   "source": [
    "original_applicant_sex_p = (data.applicant_sex_name.value_counts()/data.shape[0]).to_numpy()\n",
    "applicant_sex_values = (data.applicant_sex_name.value_counts()/data.shape[0]).index.to_numpy()\n",
    "original_agency_abbr_p = (data.agency_abbr.value_counts()/data.shape[0]).to_numpy()\n",
    "agency_abbr_values = (data.agency_abbr.value_counts()/data.shape[0]).index.to_numpy()\n"
   ]
  },
  {
   "cell_type": "code",
   "execution_count": 211,
   "metadata": {
    "tags": []
   },
   "outputs": [],
   "source": [
    "sampled_data_list = []\n",
    "sampled_all = model2.sample(500000)\n",
    "for name,value in zip(applicant_sex_values, original_applicant_sex_p):\n",
    "    temp = sampled_all[sampled_all['applicant_sex_name'] == name]\n",
    "    sampled_data_list.append(temp.sample(n= int(value*100000)))\n",
    "\n"
   ]
  },
  {
   "cell_type": "code",
   "execution_count": 212,
   "metadata": {
    "tags": []
   },
   "outputs": [],
   "source": [
    "sampled = pd.concat(sampled_data_list,axis = 0 )"
   ]
  },
  {
   "cell_type": "code",
   "execution_count": 203,
   "metadata": {},
   "outputs": [],
   "source": [
    "sampled_data_list = []\n",
    "sampled_all = model2.sample(500000)\n",
    "for name,value in zip(agency_abbr_values, original_agency_abbr_p):\n",
    "    temp = sampled_all[sampled_all['agency_abbr'] == name]\n",
    "    sampled_data_list.append(temp.sample(n= int(value*100000)))\n"
   ]
  },
  {
   "cell_type": "code",
   "execution_count": 204,
   "metadata": {},
   "outputs": [],
   "source": [
    "sampled = pd.concat(sampled_data_list,axis = 0 )"
   ]
  },
  {
   "cell_type": "code",
   "execution_count": 17,
   "metadata": {},
   "outputs": [],
   "source": [
    "del1 = np.array([[-3.6]])"
   ]
  },
  {
   "cell_type": "code",
   "execution_count": 18,
   "metadata": {},
   "outputs": [],
   "source": [
    "x0 = np.array([[1],[-0.9]])"
   ]
  },
  {
   "cell_type": "code",
   "execution_count": 19,
   "metadata": {},
   "outputs": [
    {
     "output_type": "execute_result",
     "data": {
      "text/plain": "array([[-3.6 ],\n       [ 3.24]])"
     },
     "metadata": {},
     "execution_count": 19
    }
   ],
   "source": [
    "x0*np.transpose(del1)"
   ]
  },
  {
   "cell_type": "code",
   "execution_count": 8,
   "metadata": {},
   "outputs": [
    {
     "output_type": "execute_result",
     "data": {
      "text/plain": "array([[-0.44,  0.88],\n       [-0.88,  1.75]])"
     },
     "metadata": {},
     "execution_count": 8
    }
   ],
   "source": [
    "x0"
   ]
  },
  {
   "cell_type": "code",
   "execution_count": 20,
   "metadata": {},
   "outputs": [],
   "source": [
    "k = [1,2,3]"
   ]
  },
  {
   "cell_type": "code",
   "execution_count": 28,
   "metadata": {},
   "outputs": [
    {
     "output_type": "execute_result",
     "data": {
      "text/plain": "[2, 3]"
     },
     "metadata": {},
     "execution_count": 28
    }
   ],
   "source": [
    "k[-2:]"
   ]
  },
  {
   "cell_type": "code",
   "execution_count": 76,
   "metadata": {},
   "outputs": [],
   "source": [
    "p = np.array([[0.1, 0.2], [0.43, 0.4]])"
   ]
  },
  {
   "cell_type": "code",
   "execution_count": 63,
   "metadata": {},
   "outputs": [
    {
     "output_type": "execute_result",
     "data": {
      "text/plain": "array([0, 0, 1, 0, 0, 0, 0, 1, 0, 0, 0, 0, 0, 1, 0, 0, 0, 1, 0, 0, 1, 0,\n       0, 0, 0, 1, 1, 0, 0, 1, 1, 1, 0, 0, 1, 0, 1, 0, 0, 0, 1, 1, 1, 0,\n       0, 0, 1, 0, 1, 1, 0, 0, 0, 0, 0, 0, 0, 1, 0, 1, 1, 1, 0, 1, 0, 0,\n       0, 0, 0, 1, 1, 1, 1, 0, 0, 0, 0, 0, 0, 1, 0, 0, 1, 0, 1, 1, 1, 0,\n       1, 0, 0, 1, 1, 0, 0, 1, 1, 1, 1, 1, 0, 1, 1, 1, 0, 0, 1, 1, 0, 0,\n       1, 0, 0, 0, 0, 1, 1, 1, 1, 1, 0, 0, 1, 0, 0, 1, 0, 1, 0, 0, 0, 0,\n       1, 0, 1, 0, 1, 0, 0, 0, 0, 0, 1, 0, 0, 0, 1, 1, 1, 1, 1, 0, 1, 1,\n       0, 1, 1, 0, 0, 0, 0, 1, 0, 1, 0, 0, 0, 0, 1, 0, 1, 0, 0, 1, 0, 1,\n       1, 0, 0, 0, 0, 0, 0, 0, 0, 1, 1, 0, 0, 0, 0, 0, 1, 1, 0, 1, 1, 0,\n       0, 1, 0, 0, 1, 1, 1, 0, 1, 0, 1, 0, 1, 1, 1, 0, 0, 0, 1, 1, 1, 1,\n       1, 0, 1, 0, 0, 0, 1, 0, 1, 0, 0, 1, 0, 1, 1, 0, 1, 1, 1, 0, 0, 1,\n       1, 1, 1, 0, 1, 1, 1, 1, 1, 0, 0, 1, 1, 1, 1, 1, 0, 0, 0, 0, 0, 0,\n       1, 0, 1, 1, 1, 0, 0, 1, 1, 1, 0, 0, 0, 1, 1, 0, 0, 0, 1, 1, 1, 0,\n       0, 0, 1, 0, 1, 0, 1, 0, 0, 0, 0, 1, 1, 1])"
     },
     "metadata": {},
     "execution_count": 63
    }
   ],
   "source": [
    "i = np.random.choice(2, 300)"
   ]
  },
  {
   "cell_type": "code",
   "execution_count": 78,
   "metadata": {},
   "outputs": [
    {
     "output_type": "execute_result",
     "data": {
      "text/plain": "array([[0.1 , 0.2 ],\n       [0.43, 0.4 ]])"
     },
     "metadata": {},
     "execution_count": 78
    }
   ],
   "source": [
    "p\n"
   ]
  },
  {
   "cell_type": "code",
   "execution_count": null,
   "metadata": {},
   "outputs": [],
   "source": []
  }
 ],
 "metadata": {
  "language_info": {
   "codemirror_mode": {
    "name": "ipython",
    "version": 3
   },
   "file_extension": ".py",
   "mimetype": "text/x-python",
   "name": "python",
   "nbconvert_exporter": "python",
   "pygments_lexer": "ipython3",
   "version": 3
  },
  "orig_nbformat": 2,
  "kernelspec": {
   "name": "python_defaultSpec_1601497963105",
   "display_name": "Python 3.7.5 64-bit"
  }
 },
 "nbformat": 4,
 "nbformat_minor": 2
}