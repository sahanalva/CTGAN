{
 "cells": [
  {
   "cell_type": "code",
   "execution_count": 1,
   "metadata": {},
   "outputs": [],
   "source": [
    "import pandas as pd\n",
    "import numpy as np\n",
    "import torch"
   ]
  },
  {
   "cell_type": "code",
   "execution_count": 2,
   "metadata": {},
   "outputs": [],
   "source": [
    "df = pd.read_csv(\"~/Downloads/toy_data.csv\")"
   ]
  },
  {
   "cell_type": "code",
   "execution_count": 3,
   "metadata": {},
   "outputs": [],
   "source": [
    "# df.dropna(axis = 1, thresh= 0.9*df.shape[0], inplace= True)\n",
    "# nunique = df.apply(pd.Series.nunique)\n",
    "# cols_to_drop = nunique[nunique == 1].index\n",
    "# df.drop(cols_to_drop, axis = 1, inplace= True)"
   ]
  },
  {
   "cell_type": "code",
   "execution_count": 4,
   "metadata": {},
   "outputs": [],
   "source": [
    "#required_cols = ['agency_name','agency_abbr','agency_code','state_name','state_abbr','state_code','loan_amount_000s', 'applicant_sex_name', 'applicant_sex', 'tract_to_msamd_income', 'population','census_tract_number','number_of_1_to_4_family_units','minority_population', 'applicant_income_000s']"
   ]
  },
  {
   "cell_type": "code",
   "execution_count": 5,
   "metadata": {},
   "outputs": [],
   "source": [
    "required_cols = ['applicant_sex', 'applicant_sex_name','agency_abbr','agency_name','applicant_income_000s','number_of_1_to_4_family_units','population']"
   ]
  },
  {
   "cell_type": "code",
   "execution_count": 6,
   "metadata": {},
   "outputs": [],
   "source": [
    "df = df[required_cols]"
   ]
  },
  {
   "cell_type": "code",
   "execution_count": 7,
   "metadata": {},
   "outputs": [],
   "source": [
    "nunique = df.apply(pd.Series.nunique)\n",
    "discrete_columns = nunique[nunique < 100].index"
   ]
  },
  {
   "cell_type": "code",
   "execution_count": 8,
   "metadata": {},
   "outputs": [
    {
     "output_type": "execute_result",
     "data": {
      "text/plain": "applicant_sex                    False\napplicant_sex_name               False\nagency_abbr                      False\nagency_name                      False\napplicant_income_000s            False\nnumber_of_1_to_4_family_units    False\npopulation                       False\ndtype: bool"
     },
     "metadata": {},
     "execution_count": 8
    }
   ],
   "source": [
    "numeric_columns = df.select_dtypes(include=['number']).columns\n",
    "object_columns = df.select_dtypes(include=['object']).columns\n",
    "df[numeric_columns] = df[numeric_columns].fillna(0)\n",
    "df[object_columns] = df[object_columns].fillna(\"NA\")\n",
    "\n",
    "df.isna().any()"
   ]
  },
  {
   "cell_type": "code",
   "execution_count": 9,
   "metadata": {},
   "outputs": [
    {
     "output_type": "execute_result",
     "data": {
      "text/plain": "(999999, 7)"
     },
     "metadata": {},
     "execution_count": 9
    }
   ],
   "source": [
    "df.shape"
   ]
  },
  {
   "cell_type": "code",
   "execution_count": 10,
   "metadata": {
    "tags": []
   },
   "outputs": [
    {
     "output_type": "stream",
     "name": "stdout",
     "text": "Condtional Cross Entropy Loss tensor(1.1699, grad_fn=<DivBackward0>)\nEpoch 1, Loss G: 1.1897, Loss D: -0.1993, Loss Conditional D: -0.6226\nCondtional Cross Entropy Loss tensor(1.7620, grad_fn=<DivBackward0>)\nEpoch 2, Loss G: 2.1324, Loss D: -0.2967, Loss Conditional D: -0.9594\nCondtional Cross Entropy Loss tensor(1.7091, grad_fn=<DivBackward0>)\nEpoch 3, Loss G: 2.2900, Loss D: -0.3437, Loss Conditional D: -1.1121\nCondtional Cross Entropy Loss tensor(0.7715, grad_fn=<DivBackward0>)\nEpoch 4, Loss G: 1.4706, Loss D: -0.3654, Loss Conditional D: -1.2118\nCondtional Cross Entropy Loss tensor(1.5258, grad_fn=<DivBackward0>)\nEpoch 5, Loss G: 2.2116, Loss D: -0.4239, Loss Conditional D: -1.4190\nCondtional Cross Entropy Loss tensor(1.4971, grad_fn=<DivBackward0>)\nEpoch 6, Loss G: 2.4340, Loss D: -0.4111, Loss Conditional D: -1.4250\nCondtional Cross Entropy Loss tensor(0.6794, grad_fn=<DivBackward0>)\nEpoch 7, Loss G: 1.4559, Loss D: -0.3361, Loss Conditional D: -1.0914\nCondtional Cross Entropy Loss tensor(1.0485, grad_fn=<DivBackward0>)\nEpoch 8, Loss G: 1.9525, Loss D: -0.3283, Loss Conditional D: -1.0120\nCondtional Cross Entropy Loss tensor(1.0727, grad_fn=<DivBackward0>)\nEpoch 9, Loss G: 2.0061, Loss D: -0.3361, Loss Conditional D: -1.1072\nCondtional Cross Entropy Loss tensor(0.7786, grad_fn=<DivBackward0>)\nEpoch 10, Loss G: 1.5258, Loss D: -0.2972, Loss Conditional D: -0.9349\nCondtional Cross Entropy Loss tensor(1.0065, grad_fn=<DivBackward0>)\nEpoch 11, Loss G: 1.8212, Loss D: -0.3545, Loss Conditional D: -1.1570\nCondtional Cross Entropy Loss tensor(0.6164, grad_fn=<DivBackward0>)\nEpoch 12, Loss G: 1.4938, Loss D: -0.3337, Loss Conditional D: -1.0638\nCondtional Cross Entropy Loss tensor(0.5604, grad_fn=<DivBackward0>)\nEpoch 13, Loss G: 1.4880, Loss D: -0.3054, Loss Conditional D: -1.0347\nCondtional Cross Entropy Loss tensor(0.8154, grad_fn=<DivBackward0>)\nEpoch 14, Loss G: 1.8844, Loss D: -0.3637, Loss Conditional D: -1.2788\nCondtional Cross Entropy Loss tensor(1.0860, grad_fn=<DivBackward0>)\nEpoch 15, Loss G: 2.0512, Loss D: -0.3704, Loss Conditional D: -1.1670\nCondtional Cross Entropy Loss tensor(0.3329, grad_fn=<DivBackward0>)\nEpoch 16, Loss G: 1.1008, Loss D: -0.3610, Loss Conditional D: -1.2531\nCondtional Cross Entropy Loss tensor(0.3594, grad_fn=<DivBackward0>)\nEpoch 17, Loss G: 1.4566, Loss D: -0.3271, Loss Conditional D: -1.1684\nCondtional Cross Entropy Loss tensor(0.1442, grad_fn=<DivBackward0>)\nEpoch 18, Loss G: 1.2163, Loss D: -0.2576, Loss Conditional D: -0.7364\nCondtional Cross Entropy Loss tensor(0.2996, grad_fn=<DivBackward0>)\nEpoch 19, Loss G: 1.5663, Loss D: -0.2822, Loss Conditional D: -0.9122\nCondtional Cross Entropy Loss tensor(0.1430, grad_fn=<DivBackward0>)\nEpoch 20, Loss G: 1.6147, Loss D: -0.3688, Loss Conditional D: -1.3256\nCondtional Cross Entropy Loss tensor(0.5810, grad_fn=<DivBackward0>)\nEpoch 21, Loss G: 1.8320, Loss D: -0.3449, Loss Conditional D: -1.1551\nCondtional Cross Entropy Loss tensor(0.5335, grad_fn=<DivBackward0>)\nEpoch 22, Loss G: 1.6363, Loss D: -0.3285, Loss Conditional D: -1.1037\nCondtional Cross Entropy Loss tensor(0.5019, grad_fn=<DivBackward0>)\nEpoch 23, Loss G: 2.1433, Loss D: -0.2650, Loss Conditional D: -0.8365\nCondtional Cross Entropy Loss tensor(0.5026, grad_fn=<DivBackward0>)\nEpoch 24, Loss G: 2.0935, Loss D: -0.2005, Loss Conditional D: -0.5041\nCondtional Cross Entropy Loss tensor(0.5309, grad_fn=<DivBackward0>)\nEpoch 25, Loss G: 2.0524, Loss D: -0.3412, Loss Conditional D: -1.1872\nCondtional Cross Entropy Loss tensor(0.4434, grad_fn=<DivBackward0>)\nEpoch 26, Loss G: 2.1983, Loss D: -0.3199, Loss Conditional D: -1.0350\nCondtional Cross Entropy Loss tensor(0.4215, grad_fn=<DivBackward0>)\nEpoch 27, Loss G: 2.4737, Loss D: -0.2898, Loss Conditional D: -0.8681\nCondtional Cross Entropy Loss tensor(0.3644, grad_fn=<DivBackward0>)\nEpoch 28, Loss G: 2.0172, Loss D: -0.1599, Loss Conditional D: -0.4402\nCondtional Cross Entropy Loss tensor(0.0581, grad_fn=<DivBackward0>)\nEpoch 29, Loss G: 1.0206, Loss D: -0.1923, Loss Conditional D: -0.5984\nCondtional Cross Entropy Loss tensor(0.0494, grad_fn=<DivBackward0>)\nEpoch 30, Loss G: 0.8316, Loss D: -0.2896, Loss Conditional D: -1.0888\nCondtional Cross Entropy Loss tensor(0.0357, grad_fn=<DivBackward0>)\nEpoch 31, Loss G: 1.1794, Loss D: -0.1775, Loss Conditional D: -0.5446\nCondtional Cross Entropy Loss tensor(0.0714, grad_fn=<DivBackward0>)\nEpoch 32, Loss G: 1.6507, Loss D: -0.1715, Loss Conditional D: -0.5415\nCondtional Cross Entropy Loss tensor(0.0425, grad_fn=<DivBackward0>)\nEpoch 33, Loss G: 1.1258, Loss D: -0.2803, Loss Conditional D: -0.6314\nCondtional Cross Entropy Loss tensor(0.4755, grad_fn=<DivBackward0>)\nEpoch 34, Loss G: 2.6123, Loss D: -0.2276, Loss Conditional D: -0.8068\nCondtional Cross Entropy Loss tensor(0.4258, grad_fn=<DivBackward0>)\nEpoch 35, Loss G: 2.4111, Loss D: -0.2391, Loss Conditional D: -0.6464\nCondtional Cross Entropy Loss tensor(0.0359, grad_fn=<DivBackward0>)\nEpoch 36, Loss G: 1.2150, Loss D: -0.2099, Loss Conditional D: -0.5554\nCondtional Cross Entropy Loss tensor(0.1927, grad_fn=<DivBackward0>)\nEpoch 37, Loss G: 1.5068, Loss D: -0.1186, Loss Conditional D: -0.1156\nCondtional Cross Entropy Loss tensor(0.2116, grad_fn=<DivBackward0>)\nEpoch 38, Loss G: 1.4440, Loss D: -0.1760, Loss Conditional D: -0.4971\nCondtional Cross Entropy Loss tensor(0.0384, grad_fn=<DivBackward0>)\nEpoch 39, Loss G: 1.5755, Loss D: -0.1597, Loss Conditional D: -0.6821\nCondtional Cross Entropy Loss tensor(0.1367, grad_fn=<DivBackward0>)\nEpoch 40, Loss G: 1.5000, Loss D: -0.1644, Loss Conditional D: -0.5954\nCondtional Cross Entropy Loss tensor(0.0206, grad_fn=<DivBackward0>)\nEpoch 41, Loss G: 1.4404, Loss D: -0.1341, Loss Conditional D: -0.2774\nCondtional Cross Entropy Loss tensor(0.0221, grad_fn=<DivBackward0>)\nEpoch 42, Loss G: 1.6892, Loss D: -0.1245, Loss Conditional D: -0.1951\nCondtional Cross Entropy Loss tensor(0.4616, grad_fn=<DivBackward0>)\nEpoch 43, Loss G: 2.1678, Loss D: -0.1730, Loss Conditional D: -0.6003\nCondtional Cross Entropy Loss tensor(0.0778, grad_fn=<DivBackward0>)\nEpoch 44, Loss G: 0.9001, Loss D: -0.1102, Loss Conditional D: -0.5462\nCondtional Cross Entropy Loss tensor(0.0660, grad_fn=<DivBackward0>)\nEpoch 45, Loss G: 1.1555, Loss D: -0.1495, Loss Conditional D: -0.6683\nCondtional Cross Entropy Loss tensor(0.0694, grad_fn=<DivBackward0>)\nEpoch 46, Loss G: 1.3216, Loss D: -0.1161, Loss Conditional D: -0.5980\nCondtional Cross Entropy Loss tensor(0.0557, grad_fn=<DivBackward0>)\nEpoch 47, Loss G: 1.1249, Loss D: -0.0946, Loss Conditional D: -0.4371\nCondtional Cross Entropy Loss tensor(0.0533, grad_fn=<DivBackward0>)\nEpoch 48, Loss G: 2.5149, Loss D: -0.1361, Loss Conditional D: -0.3424\nCondtional Cross Entropy Loss tensor(0.0464, grad_fn=<DivBackward0>)\nEpoch 49, Loss G: 1.4595, Loss D: -0.0944, Loss Conditional D: -0.4343\nCondtional Cross Entropy Loss tensor(0.0127, grad_fn=<DivBackward0>)\nEpoch 50, Loss G: 1.4336, Loss D: -0.1192, Loss Conditional D: -0.0998\nCondtional Cross Entropy Loss tensor(0.3648, grad_fn=<DivBackward0>)\nEpoch 51, Loss G: 2.0211, Loss D: -0.0559, Loss Conditional D: -0.3728\nCondtional Cross Entropy Loss tensor(0.3527, grad_fn=<DivBackward0>)\nEpoch 52, Loss G: 2.2940, Loss D: -0.0897, Loss Conditional D: -0.1524\nCondtional Cross Entropy Loss tensor(0.0266, grad_fn=<DivBackward0>)\nEpoch 53, Loss G: 1.1438, Loss D: -0.0567, Loss Conditional D: 0.0566\nCondtional Cross Entropy Loss tensor(0.0306, grad_fn=<DivBackward0>)\nEpoch 54, Loss G: 0.6717, Loss D: -0.1510, Loss Conditional D: -0.6617\nCondtional Cross Entropy Loss tensor(0.0085, grad_fn=<DivBackward0>)\nEpoch 55, Loss G: 0.9924, Loss D: -0.1805, Loss Conditional D: -0.2412\nCondtional Cross Entropy Loss tensor(0.0301, grad_fn=<DivBackward0>)\nEpoch 56, Loss G: 0.8877, Loss D: -0.0725, Loss Conditional D: -0.4476\nCondtional Cross Entropy Loss tensor(0.0059, grad_fn=<DivBackward0>)\nEpoch 57, Loss G: 1.2446, Loss D: -0.0490, Loss Conditional D: -0.2564\nCondtional Cross Entropy Loss tensor(0.0194, grad_fn=<DivBackward0>)\nEpoch 58, Loss G: 1.0015, Loss D: -0.0701, Loss Conditional D: -0.4564\nCondtional Cross Entropy Loss tensor(0.0215, grad_fn=<DivBackward0>)\nEpoch 59, Loss G: 1.3355, Loss D: -0.0834, Loss Conditional D: 0.0787\nCondtional Cross Entropy Loss tensor(0.0151, grad_fn=<DivBackward0>)\nEpoch 60, Loss G: 0.7005, Loss D: -0.0629, Loss Conditional D: 0.5006\nCondtional Cross Entropy Loss tensor(0.0140, grad_fn=<DivBackward0>)\nEpoch 61, Loss G: 1.0505, Loss D: -0.0540, Loss Conditional D: -0.0617\nCondtional Cross Entropy Loss tensor(0.0131, grad_fn=<DivBackward0>)\nEpoch 62, Loss G: 1.9346, Loss D: -0.1600, Loss Conditional D: -0.5039\nCondtional Cross Entropy Loss tensor(0.0027, grad_fn=<DivBackward0>)\nEpoch 63, Loss G: 1.0221, Loss D: -0.0699, Loss Conditional D: -0.4435\nCondtional Cross Entropy Loss tensor(0.0128, grad_fn=<DivBackward0>)\nEpoch 64, Loss G: 0.7483, Loss D: -0.0470, Loss Conditional D: -0.2646\nCondtional Cross Entropy Loss tensor(0.0040, grad_fn=<DivBackward0>)\nEpoch 65, Loss G: 0.9379, Loss D: -0.0741, Loss Conditional D: -0.4841\nCondtional Cross Entropy Loss tensor(0.0092, grad_fn=<DivBackward0>)\nEpoch 66, Loss G: 1.4256, Loss D: 0.0462, Loss Conditional D: -0.1397\nCondtional Cross Entropy Loss tensor(0.0030, grad_fn=<DivBackward0>)\nEpoch 67, Loss G: 1.6752, Loss D: -0.0886, Loss Conditional D: -0.3380\nCondtional Cross Entropy Loss tensor(0.0110, grad_fn=<DivBackward0>)\nEpoch 68, Loss G: 1.2103, Loss D: -0.0597, Loss Conditional D: -0.1365\nCondtional Cross Entropy Loss tensor(0.0075, grad_fn=<DivBackward0>)\nEpoch 69, Loss G: 2.1005, Loss D: -0.1158, Loss Conditional D: -0.8966\nCondtional Cross Entropy Loss tensor(0.0078, grad_fn=<DivBackward0>)\nEpoch 70, Loss G: 1.2187, Loss D: -0.0411, Loss Conditional D: -0.4251\nCondtional Cross Entropy Loss tensor(0.0090, grad_fn=<DivBackward0>)\nEpoch 71, Loss G: 0.7529, Loss D: -0.0344, Loss Conditional D: -0.2558\nCondtional Cross Entropy Loss tensor(0.0017, grad_fn=<DivBackward0>)\nEpoch 72, Loss G: 2.0653, Loss D: -0.1076, Loss Conditional D: -0.4216\nCondtional Cross Entropy Loss tensor(0.0055, grad_fn=<DivBackward0>)\nEpoch 73, Loss G: 1.6836, Loss D: -0.0408, Loss Conditional D: -0.4699\nCondtional Cross Entropy Loss tensor(0.0032, grad_fn=<DivBackward0>)\nEpoch 74, Loss G: 1.0034, Loss D: -0.1295, Loss Conditional D: -0.0564\nCondtional Cross Entropy Loss tensor(0.1815, grad_fn=<DivBackward0>)\nEpoch 75, Loss G: 1.0584, Loss D: -0.0993, Loss Conditional D: -0.1525\nCondtional Cross Entropy Loss tensor(0.0043, grad_fn=<DivBackward0>)\nEpoch 76, Loss G: 2.1822, Loss D: 0.0181, Loss Conditional D: 0.1548\nCondtional Cross Entropy Loss tensor(0.0049, grad_fn=<DivBackward0>)\nEpoch 77, Loss G: 1.3334, Loss D: 0.0023, Loss Conditional D: -0.4962\nCondtional Cross Entropy Loss tensor(0.0143, grad_fn=<DivBackward0>)\nEpoch 78, Loss G: 1.8765, Loss D: -0.0137, Loss Conditional D: -0.3540\nCondtional Cross Entropy Loss tensor(0.0099, grad_fn=<DivBackward0>)\nEpoch 79, Loss G: 2.7789, Loss D: -0.0159, Loss Conditional D: 0.5816\nCondtional Cross Entropy Loss tensor(0.0072, grad_fn=<DivBackward0>)\nEpoch 80, Loss G: 0.1774, Loss D: -0.0594, Loss Conditional D: -0.6305\nCondtional Cross Entropy Loss tensor(0.0064, grad_fn=<DivBackward0>)\nEpoch 81, Loss G: 0.3175, Loss D: -0.0399, Loss Conditional D: -0.3195\nCondtional Cross Entropy Loss tensor(0.0052, grad_fn=<DivBackward0>)\nEpoch 82, Loss G: -0.0966, Loss D: -0.0697, Loss Conditional D: 0.0957\nCondtional Cross Entropy Loss tensor(0.0070, grad_fn=<DivBackward0>)\nEpoch 83, Loss G: 0.3275, Loss D: -0.0536, Loss Conditional D: -0.7060\nCondtional Cross Entropy Loss tensor(0.0024, grad_fn=<DivBackward0>)\nEpoch 84, Loss G: 0.7825, Loss D: -0.0969, Loss Conditional D: -0.3799\nCondtional Cross Entropy Loss tensor(0.0054, grad_fn=<DivBackward0>)\nEpoch 85, Loss G: 0.0228, Loss D: -0.0664, Loss Conditional D: -0.2309\nCondtional Cross Entropy Loss tensor(0.0045, grad_fn=<DivBackward0>)\nEpoch 86, Loss G: -0.0740, Loss D: -0.0747, Loss Conditional D: -0.5015\nCondtional Cross Entropy Loss tensor(0.0043, grad_fn=<DivBackward0>)\nEpoch 87, Loss G: 0.2898, Loss D: -0.0734, Loss Conditional D: -0.1218\nCondtional Cross Entropy Loss tensor(0.0060, grad_fn=<DivBackward0>)\nEpoch 88, Loss G: 0.0663, Loss D: -0.0570, Loss Conditional D: -0.5366\nCondtional Cross Entropy Loss tensor(0.0045, grad_fn=<DivBackward0>)\nEpoch 89, Loss G: 0.1935, Loss D: -0.0084, Loss Conditional D: -0.5978\nCondtional Cross Entropy Loss tensor(0.0017, grad_fn=<DivBackward0>)\nEpoch 90, Loss G: -0.1381, Loss D: -0.1000, Loss Conditional D: 0.2825\nCondtional Cross Entropy Loss tensor(0.0015, grad_fn=<DivBackward0>)\nEpoch 91, Loss G: 0.3475, Loss D: -0.0718, Loss Conditional D: -0.3834\nCondtional Cross Entropy Loss tensor(0.0019, grad_fn=<DivBackward0>)\nEpoch 92, Loss G: 0.8644, Loss D: -0.0791, Loss Conditional D: -0.0446\nCondtional Cross Entropy Loss tensor(0.0514, grad_fn=<DivBackward0>)\nEpoch 93, Loss G: 0.4541, Loss D: -0.0895, Loss Conditional D: -0.2810\nCondtional Cross Entropy Loss tensor(0.0014, grad_fn=<DivBackward0>)\nEpoch 94, Loss G: -0.0340, Loss D: -0.0177, Loss Conditional D: -0.0910\nCondtional Cross Entropy Loss tensor(0.0020, grad_fn=<DivBackward0>)\nEpoch 95, Loss G: 0.3875, Loss D: -0.0498, Loss Conditional D: -0.8985\nCondtional Cross Entropy Loss tensor(0.0025, grad_fn=<DivBackward0>)\nEpoch 96, Loss G: -0.0532, Loss D: -0.0410, Loss Conditional D: -0.9539\nCondtional Cross Entropy Loss tensor(0.0567, grad_fn=<DivBackward0>)\nEpoch 97, Loss G: 0.9993, Loss D: -0.1000, Loss Conditional D: -0.7147\nCondtional Cross Entropy Loss tensor(0.1017, grad_fn=<DivBackward0>)\nEpoch 98, Loss G: 1.2038, Loss D: -0.0238, Loss Conditional D: -0.4217\nCondtional Cross Entropy Loss tensor(0.0037, grad_fn=<DivBackward0>)\nEpoch 99, Loss G: 0.0743, Loss D: -0.0581, Loss Conditional D: 0.5594\nCondtional Cross Entropy Loss tensor(0.0011, grad_fn=<DivBackward0>)\nEpoch 100, Loss G: 1.1915, Loss D: -0.0703, Loss Conditional D: -0.6876\n"
    }
   ],
   "source": [
    "from importlib import reload\n",
    "import synthesizer,transformer,sampler,conditional,models\n",
    "# reload(models)\n",
    "# reload(sampler)\n",
    "# reload(synthesizer)\n",
    "# reload(transformer)\n",
    "# reload(conditional)\n",
    "data = df#.loc[0:100000,:]\n",
    "model = synthesizer.CTGANSynthesizer(embedding_dim = 128, batch_size=500)\n",
    "model.fit(data, discrete_columns, 100,log_frequency= False)\n"
   ]
  },
  {
   "cell_type": "code",
   "execution_count": 51,
   "metadata": {
    "tags": []
   },
   "outputs": [
    {
     "output_type": "stream",
     "name": "stdout",
     "text": "tensor(0.0249, grad_fn=<DivBackward0>)\ntensor(0.0309, grad_fn=<DivBackward0>)\ntensor(0.0238, grad_fn=<DivBackward0>)\ntensor(0.0336, grad_fn=<DivBackward0>)\ntensor(0.0431, grad_fn=<DivBackward0>)\ntensor(0.0402, grad_fn=<DivBackward0>)\ntensor(0.0278, grad_fn=<DivBackward0>)\ntensor(0.0329, grad_fn=<DivBackward0>)\ntensor(0.0318, grad_fn=<DivBackward0>)\ntensor(0.0294, grad_fn=<DivBackward0>)\ntensor(0.0324, grad_fn=<DivBackward0>)\ntensor(0.0243, grad_fn=<DivBackward0>)\ntensor(0.0149, grad_fn=<DivBackward0>)\ntensor(0.0266, grad_fn=<DivBackward0>)\ntensor(0.0361, grad_fn=<DivBackward0>)\ntensor(0.0387, grad_fn=<DivBackward0>)\ntensor(0.0376, grad_fn=<DivBackward0>)\ntensor(0.0337, grad_fn=<DivBackward0>)\ntensor(0.0245, grad_fn=<DivBackward0>)\ntensor(0.0238, grad_fn=<DivBackward0>)\ntensor(0.0504, grad_fn=<DivBackward0>)\ntensor(0.0226, grad_fn=<DivBackward0>)\ntensor(0.0233, grad_fn=<DivBackward0>)\ntensor(0.0350, grad_fn=<DivBackward0>)\ntensor(0.0245, grad_fn=<DivBackward0>)\ntensor(0.0325, grad_fn=<DivBackward0>)\ntensor(0.0513, grad_fn=<DivBackward0>)\ntensor(0.0358, grad_fn=<DivBackward0>)\ntensor(0.0358, grad_fn=<DivBackward0>)\ntensor(0.0142, grad_fn=<DivBackward0>)\ntensor(0.0234, grad_fn=<DivBackward0>)\ntensor(0.0207, grad_fn=<DivBackward0>)\ntensor(0.0193, grad_fn=<DivBackward0>)\ntensor(0.0344, grad_fn=<DivBackward0>)\ntensor(0.0185, grad_fn=<DivBackward0>)\ntensor(0.0334, grad_fn=<DivBackward0>)\ntensor(0.0293, grad_fn=<DivBackward0>)\ntensor(0.0383, grad_fn=<DivBackward0>)\ntensor(0.0230, grad_fn=<DivBackward0>)\ntensor(0.0404, grad_fn=<DivBackward0>)\ntensor(0.0398, grad_fn=<DivBackward0>)\ntensor(0.0180, grad_fn=<DivBackward0>)\ntensor(0.0293, grad_fn=<DivBackward0>)\ntensor(0.0325, grad_fn=<DivBackward0>)\ntensor(0.0206, grad_fn=<DivBackward0>)\ntensor(0.0409, grad_fn=<DivBackward0>)\ntensor(0.0404, grad_fn=<DivBackward0>)\ntensor(0.0433, grad_fn=<DivBackward0>)\ntensor(0.0271, grad_fn=<DivBackward0>)\ntensor(0.0194, grad_fn=<DivBackward0>)\ntensor(0.0205, grad_fn=<DivBackward0>)\ntensor(0.0271, grad_fn=<DivBackward0>)\ntensor(0.0227, grad_fn=<DivBackward0>)\ntensor(0.0541, grad_fn=<DivBackward0>)\ntensor(0.0157, grad_fn=<DivBackward0>)\ntensor(0.0212, grad_fn=<DivBackward0>)\ntensor(0.0377, grad_fn=<DivBackward0>)\ntensor(0.0260, grad_fn=<DivBackward0>)\ntensor(0.0482, grad_fn=<DivBackward0>)\ntensor(0.0174, grad_fn=<DivBackward0>)\ntensor(0.0285, grad_fn=<DivBackward0>)\ntensor(0.0276, grad_fn=<DivBackward0>)\ntensor(0.0435, grad_fn=<DivBackward0>)\ntensor(0.0412, grad_fn=<DivBackward0>)\ntensor(0.0317, grad_fn=<DivBackward0>)\ntensor(0.0300, grad_fn=<DivBackward0>)\ntensor(0.0292, grad_fn=<DivBackward0>)\ntensor(0.0348, grad_fn=<DivBackward0>)\ntensor(0.0207, grad_fn=<DivBackward0>)\ntensor(0.0289, grad_fn=<DivBackward0>)\ntensor(0.0626, grad_fn=<DivBackward0>)\ntensor(0.0321, grad_fn=<DivBackward0>)\ntensor(0.0204, grad_fn=<DivBackward0>)\ntensor(0.0212, grad_fn=<DivBackward0>)\ntensor(0.0284, grad_fn=<DivBackward0>)\ntensor(0.0381, grad_fn=<DivBackward0>)\ntensor(0.0298, grad_fn=<DivBackward0>)\ntensor(0.0529, grad_fn=<DivBackward0>)\ntensor(0.0236, grad_fn=<DivBackward0>)\ntensor(0.0158, grad_fn=<DivBackward0>)\ntensor(0.0371, grad_fn=<DivBackward0>)\ntensor(0.0222, grad_fn=<DivBackward0>)\ntensor(0.0234, grad_fn=<DivBackward0>)\ntensor(0.0325, grad_fn=<DivBackward0>)\ntensor(0.0332, grad_fn=<DivBackward0>)\ntensor(0.0330, grad_fn=<DivBackward0>)\ntensor(0.0168, grad_fn=<DivBackward0>)\ntensor(0.0251, grad_fn=<DivBackward0>)\ntensor(0.0180, grad_fn=<DivBackward0>)\ntensor(0.0235, grad_fn=<DivBackward0>)\ntensor(0.0307, grad_fn=<DivBackward0>)\ntensor(0.0368, grad_fn=<DivBackward0>)\ntensor(0.0279, grad_fn=<DivBackward0>)\ntensor(0.0167, grad_fn=<DivBackward0>)\ntensor(0.0234, grad_fn=<DivBackward0>)\ntensor(0.0245, grad_fn=<DivBackward0>)\ntensor(0.0383, grad_fn=<DivBackward0>)\ntensor(0.0241, grad_fn=<DivBackward0>)\ntensor(0.0248, grad_fn=<DivBackward0>)\ntensor(0.0364, grad_fn=<DivBackward0>)\ntensor(0.0543, grad_fn=<DivBackward0>)\ntensor(0.0244, grad_fn=<DivBackward0>)\ntensor(0.0357, grad_fn=<DivBackward0>)\ntensor(0.0415, grad_fn=<DivBackward0>)\ntensor(0.0268, grad_fn=<DivBackward0>)\ntensor(0.0189, grad_fn=<DivBackward0>)\ntensor(0.0233, grad_fn=<DivBackward0>)\ntensor(0.0470, grad_fn=<DivBackward0>)\ntensor(0.0252, grad_fn=<DivBackward0>)\ntensor(0.0283, grad_fn=<DivBackward0>)\ntensor(0.0270, grad_fn=<DivBackward0>)\ntensor(0.0275, grad_fn=<DivBackward0>)\ntensor(0.0322, grad_fn=<DivBackward0>)\ntensor(0.0407, grad_fn=<DivBackward0>)\ntensor(0.0183, grad_fn=<DivBackward0>)\ntensor(0.0319, grad_fn=<DivBackward0>)\ntensor(0.0211, grad_fn=<DivBackward0>)\ntensor(0.0168, grad_fn=<DivBackward0>)\ntensor(0.0319, grad_fn=<DivBackward0>)\ntensor(0.0330, grad_fn=<DivBackward0>)\ntensor(0.0225, grad_fn=<DivBackward0>)\ntensor(0.0300, grad_fn=<DivBackward0>)\ntensor(0.0320, grad_fn=<DivBackward0>)\ntensor(0.0352, grad_fn=<DivBackward0>)\ntensor(0.0275, grad_fn=<DivBackward0>)\ntensor(0.0252, grad_fn=<DivBackward0>)\ntensor(0.0457, grad_fn=<DivBackward0>)\ntensor(0.0418, grad_fn=<DivBackward0>)\ntensor(0.0238, grad_fn=<DivBackward0>)\ntensor(0.0309, grad_fn=<DivBackward0>)\ntensor(0.0290, grad_fn=<DivBackward0>)\ntensor(0.0411, grad_fn=<DivBackward0>)\ntensor(0.0324, grad_fn=<DivBackward0>)\ntensor(0.0267, grad_fn=<DivBackward0>)\ntensor(0.0262, grad_fn=<DivBackward0>)\ntensor(0.0386, grad_fn=<DivBackward0>)\ntensor(0.0659, grad_fn=<DivBackward0>)\ntensor(0.0358, grad_fn=<DivBackward0>)\ntensor(0.0208, grad_fn=<DivBackward0>)\ntensor(0.0410, grad_fn=<DivBackward0>)\ntensor(0.0396, grad_fn=<DivBackward0>)\ntensor(0.0177, grad_fn=<DivBackward0>)\ntensor(0.0334, grad_fn=<DivBackward0>)\ntensor(0.0275, grad_fn=<DivBackward0>)\ntensor(0.0231, grad_fn=<DivBackward0>)\ntensor(0.0425, grad_fn=<DivBackward0>)\ntensor(0.0356, grad_fn=<DivBackward0>)\ntensor(0.0262, grad_fn=<DivBackward0>)\ntensor(0.0354, grad_fn=<DivBackward0>)\ntensor(0.0307, grad_fn=<DivBackward0>)\ntensor(0.0372, grad_fn=<DivBackward0>)\ntensor(0.0224, grad_fn=<DivBackward0>)\ntensor(0.0267, grad_fn=<DivBackward0>)\ntensor(0.0294, grad_fn=<DivBackward0>)\ntensor(0.0362, grad_fn=<DivBackward0>)\ntensor(0.0377, grad_fn=<DivBackward0>)\ntensor(0.0437, grad_fn=<DivBackward0>)\ntensor(0.0247, grad_fn=<DivBackward0>)\ntensor(0.0422, grad_fn=<DivBackward0>)\ntensor(0.0376, grad_fn=<DivBackward0>)\ntensor(0.0338, grad_fn=<DivBackward0>)\ntensor(0.0162, grad_fn=<DivBackward0>)\ntensor(0.0406, grad_fn=<DivBackward0>)\ntensor(0.0289, grad_fn=<DivBackward0>)\ntensor(0.0187, grad_fn=<DivBackward0>)\ntensor(0.0132, grad_fn=<DivBackward0>)\ntensor(0.0254, grad_fn=<DivBackward0>)\ntensor(0.0205, grad_fn=<DivBackward0>)\ntensor(0.0220, grad_fn=<DivBackward0>)\ntensor(0.0264, grad_fn=<DivBackward0>)\ntensor(0.0309, grad_fn=<DivBackward0>)\ntensor(0.0335, grad_fn=<DivBackward0>)\ntensor(0.0314, grad_fn=<DivBackward0>)\ntensor(0.0461, grad_fn=<DivBackward0>)\ntensor(0.0499, grad_fn=<DivBackward0>)\ntensor(0.0503, grad_fn=<DivBackward0>)\ntensor(0.0217, grad_fn=<DivBackward0>)\ntensor(0.0561, grad_fn=<DivBackward0>)\ntensor(0.0433, grad_fn=<DivBackward0>)\ntensor(0.0370, grad_fn=<DivBackward0>)\ntensor(0.0700, grad_fn=<DivBackward0>)\ntensor(0.0218, grad_fn=<DivBackward0>)\ntensor(0.0294, grad_fn=<DivBackward0>)\ntensor(0.0323, grad_fn=<DivBackward0>)\ntensor(0.0257, grad_fn=<DivBackward0>)\ntensor(0.0419, grad_fn=<DivBackward0>)\ntensor(0.0388, grad_fn=<DivBackward0>)\ntensor(0.0256, grad_fn=<DivBackward0>)\ntensor(0.0147, grad_fn=<DivBackward0>)\ntensor(0.0229, grad_fn=<DivBackward0>)\ntensor(0.0193, grad_fn=<DivBackward0>)\ntensor(0.0311, grad_fn=<DivBackward0>)\ntensor(0.0213, grad_fn=<DivBackward0>)\ntensor(0.0362, grad_fn=<DivBackward0>)\ntensor(0.0282, grad_fn=<DivBackward0>)\ntensor(0.0195, grad_fn=<DivBackward0>)\ntensor(0.0216, grad_fn=<DivBackward0>)\ntensor(0.0234, grad_fn=<DivBackward0>)\ntensor(0.0211, grad_fn=<DivBackward0>)\ntensor(0.0396, grad_fn=<DivBackward0>)\ntensor(0.0299, grad_fn=<DivBackward0>)\n"
    }
   ],
   "source": [
    "sampled = model.sample(1000000)"
   ]
  },
  {
   "cell_type": "code",
   "execution_count": 67,
   "metadata": {
    "tags": [
     "outputPrepend"
    ]
   },
   "outputs": [
    {
     "output_type": "stream",
     "name": "stdout",
     "text": "4.9727, grad_fn=<DivBackward0>)\ntensor(5.2420, grad_fn=<DivBackward0>)\ntensor(5.1189, grad_fn=<DivBackward0>)\ntensor(5.1838, grad_fn=<DivBackward0>)\ntensor(5.1186, grad_fn=<DivBackward0>)\ntensor(5.0160, grad_fn=<DivBackward0>)\ntensor(5.2930, grad_fn=<DivBackward0>)\ntensor(4.9576, grad_fn=<DivBackward0>)\ntensor(5.3611, grad_fn=<DivBackward0>)\ntensor(5.1743, grad_fn=<DivBackward0>)\ntensor(5.2243, grad_fn=<DivBackward0>)\ntensor(5.1097, grad_fn=<DivBackward0>)\ntensor(4.9212, grad_fn=<DivBackward0>)\ntensor(4.9741, grad_fn=<DivBackward0>)\ntensor(4.9665, grad_fn=<DivBackward0>)\ntensor(5.2874, grad_fn=<DivBackward0>)\ntensor(5.3389, grad_fn=<DivBackward0>)\ntensor(5.0646, grad_fn=<DivBackward0>)\ntensor(5.0252, grad_fn=<DivBackward0>)\ntensor(5.0029, grad_fn=<DivBackward0>)\ntensor(5.0064, grad_fn=<DivBackward0>)\ntensor(5.1603, grad_fn=<DivBackward0>)\ntensor(5.0165, grad_fn=<DivBackward0>)\ntensor(5.1554, grad_fn=<DivBackward0>)\ntensor(5.0331, grad_fn=<DivBackward0>)\ntensor(5.1032, grad_fn=<DivBackward0>)\ntensor(5.1532, grad_fn=<DivBackward0>)\ntensor(5.0758, grad_fn=<DivBackward0>)\ntensor(5.0706, grad_fn=<DivBackward0>)\ntensor(4.9926, grad_fn=<DivBackward0>)\ntensor(5.1497, grad_fn=<DivBackward0>)\ntensor(4.8453, grad_fn=<DivBackward0>)\ntensor(5.0812, grad_fn=<DivBackward0>)\ntensor(4.9732, grad_fn=<DivBackward0>)\ntensor(4.9720, grad_fn=<DivBackward0>)\ntensor(5.0061, grad_fn=<DivBackward0>)\ntensor(5.1840, grad_fn=<DivBackward0>)\ntensor(5.1193, grad_fn=<DivBackward0>)\ntensor(4.9664, grad_fn=<DivBackward0>)\ntensor(5.1623, grad_fn=<DivBackward0>)\ntensor(5.3293, grad_fn=<DivBackward0>)\ntensor(5.0372, grad_fn=<DivBackward0>)\ntensor(5.1028, grad_fn=<DivBackward0>)\ntensor(5.0893, grad_fn=<DivBackward0>)\ntensor(5.1548, grad_fn=<DivBackward0>)\ntensor(5.2751, grad_fn=<DivBackward0>)\ntensor(5.2076, grad_fn=<DivBackward0>)\ntensor(5.3151, grad_fn=<DivBackward0>)\ntensor(5.2098, grad_fn=<DivBackward0>)\ntensor(4.9252, grad_fn=<DivBackward0>)\ntensor(5.0731, grad_fn=<DivBackward0>)\ntensor(5.0570, grad_fn=<DivBackward0>)\ntensor(4.8627, grad_fn=<DivBackward0>)\ntensor(5.1584, grad_fn=<DivBackward0>)\ntensor(4.7604, grad_fn=<DivBackward0>)\ntensor(5.1575, grad_fn=<DivBackward0>)\ntensor(5.0440, grad_fn=<DivBackward0>)\ntensor(5.0923, grad_fn=<DivBackward0>)\ntensor(4.9888, grad_fn=<DivBackward0>)\ntensor(5.0545, grad_fn=<DivBackward0>)\ntensor(5.5531, grad_fn=<DivBackward0>)\ntensor(5.3775, grad_fn=<DivBackward0>)\ntensor(5.0838, grad_fn=<DivBackward0>)\ntensor(4.7825, grad_fn=<DivBackward0>)\ntensor(5.3618, grad_fn=<DivBackward0>)\ntensor(5.2751, grad_fn=<DivBackward0>)\ntensor(5.0394, grad_fn=<DivBackward0>)\ntensor(5.2185, grad_fn=<DivBackward0>)\ntensor(5.3948, grad_fn=<DivBackward0>)\ntensor(5.2893, grad_fn=<DivBackward0>)\ntensor(4.9517, grad_fn=<DivBackward0>)\ntensor(5.1924, grad_fn=<DivBackward0>)\ntensor(5.2636, grad_fn=<DivBackward0>)\ntensor(4.9653, grad_fn=<DivBackward0>)\ntensor(4.8189, grad_fn=<DivBackward0>)\ntensor(5.2930, grad_fn=<DivBackward0>)\ntensor(5.0976, grad_fn=<DivBackward0>)\ntensor(5.2298, grad_fn=<DivBackward0>)\ntensor(5.3127, grad_fn=<DivBackward0>)\ntensor(5.0843, grad_fn=<DivBackward0>)\ntensor(5.0488, grad_fn=<DivBackward0>)\ntensor(4.9814, grad_fn=<DivBackward0>)\ntensor(5.1551, grad_fn=<DivBackward0>)\ntensor(5.0852, grad_fn=<DivBackward0>)\ntensor(5.0264, grad_fn=<DivBackward0>)\ntensor(5.2090, grad_fn=<DivBackward0>)\ntensor(5.0927, grad_fn=<DivBackward0>)\ntensor(5.2346, grad_fn=<DivBackward0>)\ntensor(5.2742, grad_fn=<DivBackward0>)\ntensor(5.1923, grad_fn=<DivBackward0>)\ntensor(5.2527, grad_fn=<DivBackward0>)\ntensor(5.0795, grad_fn=<DivBackward0>)\ntensor(5.1104, grad_fn=<DivBackward0>)\ntensor(5.1308, grad_fn=<DivBackward0>)\ntensor(5.1845, grad_fn=<DivBackward0>)\ntensor(4.7776, grad_fn=<DivBackward0>)\ntensor(5.1294, grad_fn=<DivBackward0>)\ntensor(5.1168, grad_fn=<DivBackward0>)\ntensor(5.3945, grad_fn=<DivBackward0>)\ntensor(5.0892, grad_fn=<DivBackward0>)\ntensor(5.0498, grad_fn=<DivBackward0>)\ntensor(4.7889, grad_fn=<DivBackward0>)\ntensor(4.9825, grad_fn=<DivBackward0>)\ntensor(4.9155, grad_fn=<DivBackward0>)\ntensor(5.0061, grad_fn=<DivBackward0>)\ntensor(4.9926, grad_fn=<DivBackward0>)\ntensor(5.0849, grad_fn=<DivBackward0>)\ntensor(5.1955, grad_fn=<DivBackward0>)\ntensor(5.2345, grad_fn=<DivBackward0>)\ntensor(4.9963, grad_fn=<DivBackward0>)\ntensor(5.0651, grad_fn=<DivBackward0>)\ntensor(5.1284, grad_fn=<DivBackward0>)\ntensor(4.7930, grad_fn=<DivBackward0>)\ntensor(5.1005, grad_fn=<DivBackward0>)\ntensor(5.1018, grad_fn=<DivBackward0>)\ntensor(5.2495, grad_fn=<DivBackward0>)\ntensor(4.8846, grad_fn=<DivBackward0>)\ntensor(5.0446, grad_fn=<DivBackward0>)\ntensor(5.0733, grad_fn=<DivBackward0>)\ntensor(4.9309, grad_fn=<DivBackward0>)\ntensor(5.1244, grad_fn=<DivBackward0>)\ntensor(5.2971, grad_fn=<DivBackward0>)\ntensor(5.1871, grad_fn=<DivBackward0>)\ntensor(4.9767, grad_fn=<DivBackward0>)\ntensor(5.0855, grad_fn=<DivBackward0>)\ntensor(5.1018, grad_fn=<DivBackward0>)\ntensor(5.3063, grad_fn=<DivBackward0>)\ntensor(5.1001, grad_fn=<DivBackward0>)\ntensor(5.0441, grad_fn=<DivBackward0>)\ntensor(5.3085, grad_fn=<DivBackward0>)\ntensor(5.1390, grad_fn=<DivBackward0>)\ntensor(5.1612, grad_fn=<DivBackward0>)\ntensor(5.0743, grad_fn=<DivBackward0>)\ntensor(4.9846, grad_fn=<DivBackward0>)\ntensor(5.2461, grad_fn=<DivBackward0>)\ntensor(5.2429, grad_fn=<DivBackward0>)\ntensor(4.9641, grad_fn=<DivBackward0>)\ntensor(5.6514, grad_fn=<DivBackward0>)\ntensor(5.0845, grad_fn=<DivBackward0>)\ntensor(5.1514, grad_fn=<DivBackward0>)\ntensor(5.3501, grad_fn=<DivBackward0>)\ntensor(5.1724, grad_fn=<DivBackward0>)\ntensor(5.2204, grad_fn=<DivBackward0>)\ntensor(5.2442, grad_fn=<DivBackward0>)\ntensor(5.0173, grad_fn=<DivBackward0>)\ntensor(5.0120, grad_fn=<DivBackward0>)\ntensor(5.0086, grad_fn=<DivBackward0>)\ntensor(4.9055, grad_fn=<DivBackward0>)\ntensor(5.0273, grad_fn=<DivBackward0>)\ntensor(5.2339, grad_fn=<DivBackward0>)\ntensor(5.2506, grad_fn=<DivBackward0>)\ntensor(5.1121, grad_fn=<DivBackward0>)\ntensor(5.1320, grad_fn=<DivBackward0>)\ntensor(5.3157, grad_fn=<DivBackward0>)\ntensor(4.9149, grad_fn=<DivBackward0>)\ntensor(4.9233, grad_fn=<DivBackward0>)\ntensor(4.9382, grad_fn=<DivBackward0>)\ntensor(5.0699, grad_fn=<DivBackward0>)\ntensor(5.2194, grad_fn=<DivBackward0>)\ntensor(5.2587, grad_fn=<DivBackward0>)\ntensor(5.1511, grad_fn=<DivBackward0>)\ntensor(4.9195, grad_fn=<DivBackward0>)\ntensor(4.9298, grad_fn=<DivBackward0>)\ntensor(4.8735, grad_fn=<DivBackward0>)\ntensor(5.0660, grad_fn=<DivBackward0>)\ntensor(5.2251, grad_fn=<DivBackward0>)\ntensor(5.0756, grad_fn=<DivBackward0>)\ntensor(5.2220, grad_fn=<DivBackward0>)\ntensor(4.8916, grad_fn=<DivBackward0>)\ntensor(5.0707, grad_fn=<DivBackward0>)\ntensor(5.0089, grad_fn=<DivBackward0>)\ntensor(5.1098, grad_fn=<DivBackward0>)\ntensor(5.3491, grad_fn=<DivBackward0>)\ntensor(5.0458, grad_fn=<DivBackward0>)\ntensor(5.4167, grad_fn=<DivBackward0>)\ntensor(4.9575, grad_fn=<DivBackward0>)\ntensor(5.2559, grad_fn=<DivBackward0>)\ntensor(5.2080, grad_fn=<DivBackward0>)\ntensor(4.9850, grad_fn=<DivBackward0>)\ntensor(5.1076, grad_fn=<DivBackward0>)\ntensor(5.0502, grad_fn=<DivBackward0>)\ntensor(5.3562, grad_fn=<DivBackward0>)\ntensor(5.2042, grad_fn=<DivBackward0>)\ntensor(5.0525, grad_fn=<DivBackward0>)\ntensor(5.2874, grad_fn=<DivBackward0>)\ntensor(5.2653, grad_fn=<DivBackward0>)\ntensor(4.8848, grad_fn=<DivBackward0>)\ntensor(4.6983, grad_fn=<DivBackward0>)\ntensor(4.9939, grad_fn=<DivBackward0>)\ntensor(5.0626, grad_fn=<DivBackward0>)\ntensor(5.2128, grad_fn=<DivBackward0>)\ntensor(5.0922, grad_fn=<DivBackward0>)\ntensor(5.3274, grad_fn=<DivBackward0>)\ntensor(5.0678, grad_fn=<DivBackward0>)\ntensor(5.2300, grad_fn=<DivBackward0>)\ntensor(4.8768, grad_fn=<DivBackward0>)\ntensor(4.9903, grad_fn=<DivBackward0>)\ntensor(5.4791, grad_fn=<DivBackward0>)\ntensor(5.2094, grad_fn=<DivBackward0>)\ntensor(5.0162, grad_fn=<DivBackward0>)\ntensor(5.0117, grad_fn=<DivBackward0>)\ntensor(5.2537, grad_fn=<DivBackward0>)\ntensor(5.3000, grad_fn=<DivBackward0>)\ntensor(5.1436, grad_fn=<DivBackward0>)\ntensor(5.2799, grad_fn=<DivBackward0>)\ntensor(5.3705, grad_fn=<DivBackward0>)\ntensor(5.2436, grad_fn=<DivBackward0>)\ntensor(5.0586, grad_fn=<DivBackward0>)\ntensor(5.1020, grad_fn=<DivBackward0>)\ntensor(5.2055, grad_fn=<DivBackward0>)\ntensor(5.2390, grad_fn=<DivBackward0>)\ntensor(4.9363, grad_fn=<DivBackward0>)\ntensor(5.1739, grad_fn=<DivBackward0>)\ntensor(4.8709, grad_fn=<DivBackward0>)\ntensor(5.0151, grad_fn=<DivBackward0>)\ntensor(5.0899, grad_fn=<DivBackward0>)\ntensor(5.1910, grad_fn=<DivBackward0>)\ntensor(5.2881, grad_fn=<DivBackward0>)\ntensor(5.4142, grad_fn=<DivBackward0>)\ntensor(4.9449, grad_fn=<DivBackward0>)\ntensor(5.0684, grad_fn=<DivBackward0>)\ntensor(5.1778, grad_fn=<DivBackward0>)\ntensor(5.3762, grad_fn=<DivBackward0>)\ntensor(5.3627, grad_fn=<DivBackward0>)\ntensor(5.1962, grad_fn=<DivBackward0>)\ntensor(5.1560, grad_fn=<DivBackward0>)\ntensor(5.2126, grad_fn=<DivBackward0>)\ntensor(5.4127, grad_fn=<DivBackward0>)\ntensor(5.1133, grad_fn=<DivBackward0>)\ntensor(4.9263, grad_fn=<DivBackward0>)\ntensor(5.0687, grad_fn=<DivBackward0>)\ntensor(5.2315, grad_fn=<DivBackward0>)\ntensor(4.7326, grad_fn=<DivBackward0>)\ntensor(4.8845, grad_fn=<DivBackward0>)\ntensor(5.4223, grad_fn=<DivBackward0>)\ntensor(4.8057, grad_fn=<DivBackward0>)\ntensor(5.0645, grad_fn=<DivBackward0>)\ntensor(4.9410, grad_fn=<DivBackward0>)\ntensor(4.9742, grad_fn=<DivBackward0>)\ntensor(5.2795, grad_fn=<DivBackward0>)\ntensor(5.0224, grad_fn=<DivBackward0>)\ntensor(5.3423, grad_fn=<DivBackward0>)\ntensor(5.2794, grad_fn=<DivBackward0>)\ntensor(5.2633, grad_fn=<DivBackward0>)\ntensor(5.0784, grad_fn=<DivBackward0>)\ntensor(5.1530, grad_fn=<DivBackward0>)\ntensor(5.0373, grad_fn=<DivBackward0>)\ntensor(5.3212, grad_fn=<DivBackward0>)\ntensor(5.3000, grad_fn=<DivBackward0>)\ntensor(5.0108, grad_fn=<DivBackward0>)\ntensor(5.1491, grad_fn=<DivBackward0>)\ntensor(5.0719, grad_fn=<DivBackward0>)\ntensor(4.9708, grad_fn=<DivBackward0>)\ntensor(5.2309, grad_fn=<DivBackward0>)\ntensor(5.2359, grad_fn=<DivBackward0>)\ntensor(5.0534, grad_fn=<DivBackward0>)\ntensor(5.1316, grad_fn=<DivBackward0>)\ntensor(5.1087, grad_fn=<DivBackward0>)\ntensor(5.4363, grad_fn=<DivBackward0>)\ntensor(4.9462, grad_fn=<DivBackward0>)\ntensor(5.1264, grad_fn=<DivBackward0>)\ntensor(5.2280, grad_fn=<DivBackward0>)\ntensor(5.0629, grad_fn=<DivBackward0>)\ntensor(5.1660, grad_fn=<DivBackward0>)\ntensor(5.1121, grad_fn=<DivBackward0>)\ntensor(5.0323, grad_fn=<DivBackward0>)\ntensor(5.0518, grad_fn=<DivBackward0>)\ntensor(5.2037, grad_fn=<DivBackward0>)\ntensor(5.2535, grad_fn=<DivBackward0>)\ntensor(5.1212, grad_fn=<DivBackward0>)\ntensor(5.3113, grad_fn=<DivBackward0>)\ntensor(5.2085, grad_fn=<DivBackward0>)\ntensor(5.2641, grad_fn=<DivBackward0>)\ntensor(4.9185, grad_fn=<DivBackward0>)\ntensor(4.9658, grad_fn=<DivBackward0>)\ntensor(4.9219, grad_fn=<DivBackward0>)\ntensor(5.0614, grad_fn=<DivBackward0>)\ntensor(4.8838, grad_fn=<DivBackward0>)\ntensor(4.9964, grad_fn=<DivBackward0>)\ntensor(5.0699, grad_fn=<DivBackward0>)\ntensor(5.5175, grad_fn=<DivBackward0>)\ntensor(5.0421, grad_fn=<DivBackward0>)\ntensor(5.2249, grad_fn=<DivBackward0>)\ntensor(5.1306, grad_fn=<DivBackward0>)\ntensor(4.9897, grad_fn=<DivBackward0>)\ntensor(5.0729, grad_fn=<DivBackward0>)\ntensor(4.9750, grad_fn=<DivBackward0>)\ntensor(5.0381, grad_fn=<DivBackward0>)\ntensor(4.8613, grad_fn=<DivBackward0>)\ntensor(4.8621, grad_fn=<DivBackward0>)\ntensor(5.3460, grad_fn=<DivBackward0>)\ntensor(5.2503, grad_fn=<DivBackward0>)\ntensor(5.1139, grad_fn=<DivBackward0>)\ntensor(4.7311, grad_fn=<DivBackward0>)\ntensor(4.9949, grad_fn=<DivBackward0>)\ntensor(5.0626, grad_fn=<DivBackward0>)\ntensor(5.0846, grad_fn=<DivBackward0>)\ntensor(5.2731, grad_fn=<DivBackward0>)\ntensor(5.1226, grad_fn=<DivBackward0>)\ntensor(5.1125, grad_fn=<DivBackward0>)\ntensor(4.9694, grad_fn=<DivBackward0>)\ntensor(4.9982, grad_fn=<DivBackward0>)\ntensor(4.7821, grad_fn=<DivBackward0>)\ntensor(5.4377, grad_fn=<DivBackward0>)\ntensor(5.3147, grad_fn=<DivBackward0>)\ntensor(4.9413, grad_fn=<DivBackward0>)\ntensor(5.0756, grad_fn=<DivBackward0>)\ntensor(5.3642, grad_fn=<DivBackward0>)\ntensor(4.9996, grad_fn=<DivBackward0>)\ntensor(4.9179, grad_fn=<DivBackward0>)\ntensor(5.1287, grad_fn=<DivBackward0>)\ntensor(4.9643, grad_fn=<DivBackward0>)\ntensor(5.1542, grad_fn=<DivBackward0>)\ntensor(5.0717, grad_fn=<DivBackward0>)\ntensor(4.9792, grad_fn=<DivBackward0>)\ntensor(5.0674, grad_fn=<DivBackward0>)\ntensor(5.2228, grad_fn=<DivBackward0>)\ntensor(5.0245, grad_fn=<DivBackward0>)\ntensor(4.9930, grad_fn=<DivBackward0>)\ntensor(5.1164, grad_fn=<DivBackward0>)\ntensor(4.9963, grad_fn=<DivBackward0>)\ntensor(5.2397, grad_fn=<DivBackward0>)\ntensor(5.1917, grad_fn=<DivBackward0>)\ntensor(5.0949, grad_fn=<DivBackward0>)\ntensor(5.2990, grad_fn=<DivBackward0>)\ntensor(5.0068, grad_fn=<DivBackward0>)\ntensor(5.0196, grad_fn=<DivBackward0>)\ntensor(5.1790, grad_fn=<DivBackward0>)\ntensor(5.2247, grad_fn=<DivBackward0>)\ntensor(5.0714, grad_fn=<DivBackward0>)\ntensor(5.2476, grad_fn=<DivBackward0>)\ntensor(5.3374, grad_fn=<DivBackward0>)\ntensor(4.9879, grad_fn=<DivBackward0>)\ntensor(5.2024, grad_fn=<DivBackward0>)\ntensor(5.2655, grad_fn=<DivBackward0>)\ntensor(5.2119, grad_fn=<DivBackward0>)\ntensor(4.9320, grad_fn=<DivBackward0>)\ntensor(5.0828, grad_fn=<DivBackward0>)\ntensor(5.0712, grad_fn=<DivBackward0>)\ntensor(5.0791, grad_fn=<DivBackward0>)\ntensor(5.1033, grad_fn=<DivBackward0>)\ntensor(4.9771, grad_fn=<DivBackward0>)\ntensor(5.1800, grad_fn=<DivBackward0>)\ntensor(5.0386, grad_fn=<DivBackward0>)\ntensor(4.8883, grad_fn=<DivBackward0>)\ntensor(5.2133, grad_fn=<DivBackward0>)\ntensor(5.2305, grad_fn=<DivBackward0>)\ntensor(5.5593, grad_fn=<DivBackward0>)\ntensor(5.0025, grad_fn=<DivBackward0>)\ntensor(4.9559, grad_fn=<DivBackward0>)\ntensor(4.8474, grad_fn=<DivBackward0>)\ntensor(4.6189, grad_fn=<DivBackward0>)\ntensor(5.1180, grad_fn=<DivBackward0>)\ntensor(5.2782, grad_fn=<DivBackward0>)\ntensor(5.3601, grad_fn=<DivBackward0>)\ntensor(5.0445, grad_fn=<DivBackward0>)\ntensor(5.2234, grad_fn=<DivBackward0>)\ntensor(5.1798, grad_fn=<DivBackward0>)\ntensor(4.9534, grad_fn=<DivBackward0>)\ntensor(4.8526, grad_fn=<DivBackward0>)\ntensor(4.9076, grad_fn=<DivBackward0>)\ntensor(5.0195, grad_fn=<DivBackward0>)\ntensor(5.0019, grad_fn=<DivBackward0>)\ntensor(4.9736, grad_fn=<DivBackward0>)\ntensor(5.2257, grad_fn=<DivBackward0>)\ntensor(5.0695, grad_fn=<DivBackward0>)\ntensor(5.3668, grad_fn=<DivBackward0>)\ntensor(5.0596, grad_fn=<DivBackward0>)\ntensor(5.1621, grad_fn=<DivBackward0>)\ntensor(5.1127, grad_fn=<DivBackward0>)\ntensor(5.2509, grad_fn=<DivBackward0>)\ntensor(5.0311, grad_fn=<DivBackward0>)\ntensor(5.2977, grad_fn=<DivBackward0>)\ntensor(5.2875, grad_fn=<DivBackward0>)\ntensor(5.1534, grad_fn=<DivBackward0>)\ntensor(4.8495, grad_fn=<DivBackward0>)\ntensor(5.0750, grad_fn=<DivBackward0>)\ntensor(4.9644, grad_fn=<DivBackward0>)\ntensor(4.9772, grad_fn=<DivBackward0>)\ntensor(5.2350, grad_fn=<DivBackward0>)\ntensor(5.2431, grad_fn=<DivBackward0>)\ntensor(4.9095, grad_fn=<DivBackward0>)\ntensor(5.1134, grad_fn=<DivBackward0>)\ntensor(4.8800, grad_fn=<DivBackward0>)\ntensor(5.0881, grad_fn=<DivBackward0>)\ntensor(5.1071, grad_fn=<DivBackward0>)\ntensor(5.0003, grad_fn=<DivBackward0>)\ntensor(5.0678, grad_fn=<DivBackward0>)\ntensor(5.2372, grad_fn=<DivBackward0>)\ntensor(5.1254, grad_fn=<DivBackward0>)\ntensor(5.0815, grad_fn=<DivBackward0>)\ntensor(5.1043, grad_fn=<DivBackward0>)\ntensor(5.0195, grad_fn=<DivBackward0>)\ntensor(5.2469, grad_fn=<DivBackward0>)\ntensor(5.5432, grad_fn=<DivBackward0>)\ntensor(5.1296, grad_fn=<DivBackward0>)\ntensor(5.2767, grad_fn=<DivBackward0>)\ntensor(5.1362, grad_fn=<DivBackward0>)\ntensor(5.1264, grad_fn=<DivBackward0>)\ntensor(5.0320, grad_fn=<DivBackward0>)\ntensor(5.1704, grad_fn=<DivBackward0>)\ntensor(5.3711, grad_fn=<DivBackward0>)\ntensor(5.1285, grad_fn=<DivBackward0>)\ntensor(4.9794, grad_fn=<DivBackward0>)\ntensor(5.5042, grad_fn=<DivBackward0>)\ntensor(4.9199, grad_fn=<DivBackward0>)\ntensor(5.2172, grad_fn=<DivBackward0>)\ntensor(4.9321, grad_fn=<DivBackward0>)\ntensor(4.9771, grad_fn=<DivBackward0>)\ntensor(5.1555, grad_fn=<DivBackward0>)\ntensor(5.3758, grad_fn=<DivBackward0>)\ntensor(4.8779, grad_fn=<DivBackward0>)\ntensor(5.1096, grad_fn=<DivBackward0>)\ntensor(5.0186, grad_fn=<DivBackward0>)\ntensor(5.0090, grad_fn=<DivBackward0>)\ntensor(5.3599, grad_fn=<DivBackward0>)\ntensor(5.1456, grad_fn=<DivBackward0>)\ntensor(5.2315, grad_fn=<DivBackward0>)\ntensor(4.9295, grad_fn=<DivBackward0>)\ntensor(5.1353, grad_fn=<DivBackward0>)\ntensor(5.0526, grad_fn=<DivBackward0>)\ntensor(5.2006, grad_fn=<DivBackward0>)\ntensor(5.0656, grad_fn=<DivBackward0>)\ntensor(5.1644, grad_fn=<DivBackward0>)\ntensor(5.2891, grad_fn=<DivBackward0>)\ntensor(5.1169, grad_fn=<DivBackward0>)\ntensor(5.0838, grad_fn=<DivBackward0>)\ntensor(4.8649, grad_fn=<DivBackward0>)\ntensor(5.3117, grad_fn=<DivBackward0>)\ntensor(5.3063, grad_fn=<DivBackward0>)\ntensor(5.0673, grad_fn=<DivBackward0>)\ntensor(5.1246, grad_fn=<DivBackward0>)\ntensor(5.0792, grad_fn=<DivBackward0>)\ntensor(5.0122, grad_fn=<DivBackward0>)\ntensor(5.1157, grad_fn=<DivBackward0>)\ntensor(5.2617, grad_fn=<DivBackward0>)\ntensor(5.2917, grad_fn=<DivBackward0>)\ntensor(5.1301, grad_fn=<DivBackward0>)\ntensor(4.8760, grad_fn=<DivBackward0>)\ntensor(5.1195, grad_fn=<DivBackward0>)\ntensor(5.1236, grad_fn=<DivBackward0>)\ntensor(5.2890, grad_fn=<DivBackward0>)\ntensor(5.3565, grad_fn=<DivBackward0>)\ntensor(5.0197, grad_fn=<DivBackward0>)\ntensor(4.8451, grad_fn=<DivBackward0>)\ntensor(5.0937, grad_fn=<DivBackward0>)\ntensor(5.2449, grad_fn=<DivBackward0>)\ntensor(5.1049, grad_fn=<DivBackward0>)\ntensor(5.0324, grad_fn=<DivBackward0>)\ntensor(5.0358, grad_fn=<DivBackward0>)\ntensor(5.0100, grad_fn=<DivBackward0>)\ntensor(5.2863, grad_fn=<DivBackward0>)\ntensor(5.2226, grad_fn=<DivBackward0>)\ntensor(5.0416, grad_fn=<DivBackward0>)\ntensor(5.1705, grad_fn=<DivBackward0>)\ntensor(5.0547, grad_fn=<DivBackward0>)\ntensor(5.2550, grad_fn=<DivBackward0>)\ntensor(5.2811, grad_fn=<DivBackward0>)\ntensor(5.2038, grad_fn=<DivBackward0>)\ntensor(5.1504, grad_fn=<DivBackward0>)\ntensor(5.2867, grad_fn=<DivBackward0>)\ntensor(5.2152, grad_fn=<DivBackward0>)\ntensor(5.1167, grad_fn=<DivBackward0>)\ntensor(5.1524, grad_fn=<DivBackward0>)\ntensor(4.8224, grad_fn=<DivBackward0>)\ntensor(5.1366, grad_fn=<DivBackward0>)\ntensor(4.9542, grad_fn=<DivBackward0>)\ntensor(5.0138, grad_fn=<DivBackward0>)\ntensor(5.3870, grad_fn=<DivBackward0>)\ntensor(4.9459, grad_fn=<DivBackward0>)\ntensor(5.0890, grad_fn=<DivBackward0>)\ntensor(5.3604, grad_fn=<DivBackward0>)\ntensor(5.0970, grad_fn=<DivBackward0>)\ntensor(5.0449, grad_fn=<DivBackward0>)\ntensor(5.2977, grad_fn=<DivBackward0>)\ntensor(5.3464, grad_fn=<DivBackward0>)\ntensor(5.0078, grad_fn=<DivBackward0>)\ntensor(5.2324, grad_fn=<DivBackward0>)\ntensor(5.2282, grad_fn=<DivBackward0>)\ntensor(5.0905, grad_fn=<DivBackward0>)\ntensor(5.3865, grad_fn=<DivBackward0>)\ntensor(5.1411, grad_fn=<DivBackward0>)\ntensor(5.2258, grad_fn=<DivBackward0>)\ntensor(5.1361, grad_fn=<DivBackward0>)\ntensor(5.1605, grad_fn=<DivBackward0>)\ntensor(5.2310, grad_fn=<DivBackward0>)\ntensor(4.9027, grad_fn=<DivBackward0>)\ntensor(4.8623, grad_fn=<DivBackward0>)\ntensor(5.2513, grad_fn=<DivBackward0>)\ntensor(4.9856, grad_fn=<DivBackward0>)\ntensor(4.9353, grad_fn=<DivBackward0>)\ntensor(4.8848, grad_fn=<DivBackward0>)\ntensor(5.0797, grad_fn=<DivBackward0>)\ntensor(5.0424, grad_fn=<DivBackward0>)\ntensor(5.1666, grad_fn=<DivBackward0>)\ntensor(5.0576, grad_fn=<DivBackward0>)\ntensor(4.9011, grad_fn=<DivBackward0>)\ntensor(5.1183, grad_fn=<DivBackward0>)\ntensor(5.1233, grad_fn=<DivBackward0>)\ntensor(5.2130, grad_fn=<DivBackward0>)\ntensor(5.0915, grad_fn=<DivBackward0>)\ntensor(5.0444, grad_fn=<DivBackward0>)\ntensor(5.3444, grad_fn=<DivBackward0>)\ntensor(4.9402, grad_fn=<DivBackward0>)\ntensor(4.9883, grad_fn=<DivBackward0>)\ntensor(5.2690, grad_fn=<DivBackward0>)\ntensor(5.6195, grad_fn=<DivBackward0>)\ntensor(5.1578, grad_fn=<DivBackward0>)\ntensor(4.8710, grad_fn=<DivBackward0>)\ntensor(5.0671, grad_fn=<DivBackward0>)\ntensor(4.8179, grad_fn=<DivBackward0>)\ntensor(5.1473, grad_fn=<DivBackward0>)\ntensor(4.8942, grad_fn=<DivBackward0>)\n"
    }
   ],
   "source": [
    "sampled = model.sample(1000000,col_index= 8)"
   ]
  },
  {
   "cell_type": "code",
   "execution_count": 22,
   "metadata": {},
   "outputs": [],
   "source": [
    "agency_abbr = np.array([\"CFPB\", \"HUD\", \"FDIC\", \"FRS\", \"NCUA\", \"OCC\"])\n",
    "applicant_sex = np.array([2, 3, 1,4])"
   ]
  },
  {
   "cell_type": "code",
   "execution_count": 58,
   "metadata": {},
   "outputs": [
    {
     "output_type": "execute_result",
     "data": {
      "text/plain": "applicant_sex      2     3      1     4   Total\nagency_abbr                                    \nCFPB            6.30  1.87  14.33  0.02   22.52\nFDIC            2.44  0.64   5.95  0.02    9.05\nFRS             0.90  0.21   2.10  0.00    3.21\nHUD            15.23  4.92  32.54  0.02   52.71\nNCUA            2.84  0.77   4.94  0.00    8.56\nOCC             1.08  0.22   2.65  0.01    3.95\nTotal          28.78  8.64  62.51  0.07  100.00",
      "text/html": "<div>\n<style scoped>\n    .dataframe tbody tr th:only-of-type {\n        vertical-align: middle;\n    }\n\n    .dataframe tbody tr th {\n        vertical-align: top;\n    }\n\n    .dataframe thead th {\n        text-align: right;\n    }\n</style>\n<table border=\"1\" class=\"dataframe\">\n  <thead>\n    <tr style=\"text-align: right;\">\n      <th>applicant_sex</th>\n      <th>2</th>\n      <th>3</th>\n      <th>1</th>\n      <th>4</th>\n      <th>Total</th>\n    </tr>\n    <tr>\n      <th>agency_abbr</th>\n      <th></th>\n      <th></th>\n      <th></th>\n      <th></th>\n      <th></th>\n    </tr>\n  </thead>\n  <tbody>\n    <tr>\n      <th>CFPB</th>\n      <td>6.30</td>\n      <td>1.87</td>\n      <td>14.33</td>\n      <td>0.02</td>\n      <td>22.52</td>\n    </tr>\n    <tr>\n      <th>FDIC</th>\n      <td>2.44</td>\n      <td>0.64</td>\n      <td>5.95</td>\n      <td>0.02</td>\n      <td>9.05</td>\n    </tr>\n    <tr>\n      <th>FRS</th>\n      <td>0.90</td>\n      <td>0.21</td>\n      <td>2.10</td>\n      <td>0.00</td>\n      <td>3.21</td>\n    </tr>\n    <tr>\n      <th>HUD</th>\n      <td>15.23</td>\n      <td>4.92</td>\n      <td>32.54</td>\n      <td>0.02</td>\n      <td>52.71</td>\n    </tr>\n    <tr>\n      <th>NCUA</th>\n      <td>2.84</td>\n      <td>0.77</td>\n      <td>4.94</td>\n      <td>0.00</td>\n      <td>8.56</td>\n    </tr>\n    <tr>\n      <th>OCC</th>\n      <td>1.08</td>\n      <td>0.22</td>\n      <td>2.65</td>\n      <td>0.01</td>\n      <td>3.95</td>\n    </tr>\n    <tr>\n      <th>Total</th>\n      <td>28.78</td>\n      <td>8.64</td>\n      <td>62.51</td>\n      <td>0.07</td>\n      <td>100.00</td>\n    </tr>\n  </tbody>\n</table>\n</div>"
     },
     "metadata": {},
     "execution_count": 58
    }
   ],
   "source": [
    "og = (pd.crosstab(data.agency_abbr, data.applicant_sex).reindex(applicant_sex, axis=\"columns\")/data.shape[0] * 100).rename(index = {\"Information not provided by applicant in mail, Internet, or telephone application\" : \"Not provided\"})\n",
    "og['Total'] = og.sum(axis=1)\n",
    "og.loc['Total']= og.sum()\n",
    "og = og.round(2)\n",
    "og"
   ]
  },
  {
   "cell_type": "code",
   "execution_count": 61,
   "metadata": {},
   "outputs": [
    {
     "output_type": "execute_result",
     "data": {
      "text/plain": "applicant_sex     2     3      1     4   Total\nagency_abbr                                   \nCFPB           0.08  0.00  28.17  0.01   28.26\nFDIC           0.00  0.00   0.32  0.00    0.32\nFRS            0.00  0.00   0.27  0.00    0.27\nHUD            0.00  0.00  61.71  0.00   61.72\nNCUA           0.00  0.05   8.95  0.00    9.00\nOCC            0.00  0.00   0.44  0.00    0.44\nTotal          0.09  0.05  99.85  0.01  100.00",
      "text/html": "<div>\n<style scoped>\n    .dataframe tbody tr th:only-of-type {\n        vertical-align: middle;\n    }\n\n    .dataframe tbody tr th {\n        vertical-align: top;\n    }\n\n    .dataframe thead th {\n        text-align: right;\n    }\n</style>\n<table border=\"1\" class=\"dataframe\">\n  <thead>\n    <tr style=\"text-align: right;\">\n      <th>applicant_sex</th>\n      <th>2</th>\n      <th>3</th>\n      <th>1</th>\n      <th>4</th>\n      <th>Total</th>\n    </tr>\n    <tr>\n      <th>agency_abbr</th>\n      <th></th>\n      <th></th>\n      <th></th>\n      <th></th>\n      <th></th>\n    </tr>\n  </thead>\n  <tbody>\n    <tr>\n      <th>CFPB</th>\n      <td>0.08</td>\n      <td>0.00</td>\n      <td>28.17</td>\n      <td>0.01</td>\n      <td>28.26</td>\n    </tr>\n    <tr>\n      <th>FDIC</th>\n      <td>0.00</td>\n      <td>0.00</td>\n      <td>0.32</td>\n      <td>0.00</td>\n      <td>0.32</td>\n    </tr>\n    <tr>\n      <th>FRS</th>\n      <td>0.00</td>\n      <td>0.00</td>\n      <td>0.27</td>\n      <td>0.00</td>\n      <td>0.27</td>\n    </tr>\n    <tr>\n      <th>HUD</th>\n      <td>0.00</td>\n      <td>0.00</td>\n      <td>61.71</td>\n      <td>0.00</td>\n      <td>61.72</td>\n    </tr>\n    <tr>\n      <th>NCUA</th>\n      <td>0.00</td>\n      <td>0.05</td>\n      <td>8.95</td>\n      <td>0.00</td>\n      <td>9.00</td>\n    </tr>\n    <tr>\n      <th>OCC</th>\n      <td>0.00</td>\n      <td>0.00</td>\n      <td>0.44</td>\n      <td>0.00</td>\n      <td>0.44</td>\n    </tr>\n    <tr>\n      <th>Total</th>\n      <td>0.09</td>\n      <td>0.05</td>\n      <td>99.85</td>\n      <td>0.01</td>\n      <td>100.00</td>\n    </tr>\n  </tbody>\n</table>\n</div>"
     },
     "metadata": {},
     "execution_count": 61
    }
   ],
   "source": [
    "new = (pd.crosstab(sampled.agency_abbr, sampled.applicant_sex).reindex(applicant_sex, axis=\"columns\")/sampled.shape[0] * 100).rename(index = {\"Information not provided by applicant in mail, Internet, or telephone application\" : \"Not provided\"})\n",
    "new['Total'] = new.sum(axis=1)\n",
    "new.loc['Total']= new.sum()\n",
    "new = new.round(2)\n",
    "new"
   ]
  },
  {
   "cell_type": "code",
   "execution_count": 62,
   "metadata": {},
   "outputs": [
    {
     "output_type": "execute_result",
     "data": {
      "text/plain": "applicant_sex           2     3      1     4   Total\napplicant_sex_name                                  \nFemale              28.78  0.00   0.00  0.00   28.78\nNot provided         0.00  8.64   0.00  0.00    8.64\nMale                 0.00  0.00  62.51  0.00   62.51\nNot applicable       0.00  0.00   0.00  0.07    0.07\nTotal               28.78  8.64  62.51  0.07  100.00",
      "text/html": "<div>\n<style scoped>\n    .dataframe tbody tr th:only-of-type {\n        vertical-align: middle;\n    }\n\n    .dataframe tbody tr th {\n        vertical-align: top;\n    }\n\n    .dataframe thead th {\n        text-align: right;\n    }\n</style>\n<table border=\"1\" class=\"dataframe\">\n  <thead>\n    <tr style=\"text-align: right;\">\n      <th>applicant_sex</th>\n      <th>2</th>\n      <th>3</th>\n      <th>1</th>\n      <th>4</th>\n      <th>Total</th>\n    </tr>\n    <tr>\n      <th>applicant_sex_name</th>\n      <th></th>\n      <th></th>\n      <th></th>\n      <th></th>\n      <th></th>\n    </tr>\n  </thead>\n  <tbody>\n    <tr>\n      <th>Female</th>\n      <td>28.78</td>\n      <td>0.00</td>\n      <td>0.00</td>\n      <td>0.00</td>\n      <td>28.78</td>\n    </tr>\n    <tr>\n      <th>Not provided</th>\n      <td>0.00</td>\n      <td>8.64</td>\n      <td>0.00</td>\n      <td>0.00</td>\n      <td>8.64</td>\n    </tr>\n    <tr>\n      <th>Male</th>\n      <td>0.00</td>\n      <td>0.00</td>\n      <td>62.51</td>\n      <td>0.00</td>\n      <td>62.51</td>\n    </tr>\n    <tr>\n      <th>Not applicable</th>\n      <td>0.00</td>\n      <td>0.00</td>\n      <td>0.00</td>\n      <td>0.07</td>\n      <td>0.07</td>\n    </tr>\n    <tr>\n      <th>Total</th>\n      <td>28.78</td>\n      <td>8.64</td>\n      <td>62.51</td>\n      <td>0.07</td>\n      <td>100.00</td>\n    </tr>\n  </tbody>\n</table>\n</div>"
     },
     "metadata": {},
     "execution_count": 62
    }
   ],
   "source": [
    "og = (pd.crosstab(data.applicant_sex_name, data.applicant_sex).reindex(applicant_sex, axis=\"columns\")/data.shape[0] * 100).rename(index = {\"Information not provided by applicant in mail, Internet, or telephone application\" : \"Not provided\"})\n",
    "og['Total'] = og.sum(axis=1)\n",
    "og.loc['Total']= og.sum()\n",
    "og = og.round(2)\n",
    "og"
   ]
  },
  {
   "cell_type": "code",
   "execution_count": 63,
   "metadata": {},
   "outputs": [
    {
     "output_type": "execute_result",
     "data": {
      "text/plain": "applicant_sex          2     3      1     4   Total\napplicant_sex_name                                 \nFemale              0.00  0.00   0.33  0.00    0.33\nNot provided        0.00  0.00   0.45  0.00    0.45\nMale                0.08  0.05  99.01  0.01   99.15\nNot applicable      0.00  0.00   0.07  0.00    0.07\nTotal               0.09  0.05  99.85  0.01  100.00",
      "text/html": "<div>\n<style scoped>\n    .dataframe tbody tr th:only-of-type {\n        vertical-align: middle;\n    }\n\n    .dataframe tbody tr th {\n        vertical-align: top;\n    }\n\n    .dataframe thead th {\n        text-align: right;\n    }\n</style>\n<table border=\"1\" class=\"dataframe\">\n  <thead>\n    <tr style=\"text-align: right;\">\n      <th>applicant_sex</th>\n      <th>2</th>\n      <th>3</th>\n      <th>1</th>\n      <th>4</th>\n      <th>Total</th>\n    </tr>\n    <tr>\n      <th>applicant_sex_name</th>\n      <th></th>\n      <th></th>\n      <th></th>\n      <th></th>\n      <th></th>\n    </tr>\n  </thead>\n  <tbody>\n    <tr>\n      <th>Female</th>\n      <td>0.00</td>\n      <td>0.00</td>\n      <td>0.33</td>\n      <td>0.00</td>\n      <td>0.33</td>\n    </tr>\n    <tr>\n      <th>Not provided</th>\n      <td>0.00</td>\n      <td>0.00</td>\n      <td>0.45</td>\n      <td>0.00</td>\n      <td>0.45</td>\n    </tr>\n    <tr>\n      <th>Male</th>\n      <td>0.08</td>\n      <td>0.05</td>\n      <td>99.01</td>\n      <td>0.01</td>\n      <td>99.15</td>\n    </tr>\n    <tr>\n      <th>Not applicable</th>\n      <td>0.00</td>\n      <td>0.00</td>\n      <td>0.07</td>\n      <td>0.00</td>\n      <td>0.07</td>\n    </tr>\n    <tr>\n      <th>Total</th>\n      <td>0.09</td>\n      <td>0.05</td>\n      <td>99.85</td>\n      <td>0.01</td>\n      <td>100.00</td>\n    </tr>\n  </tbody>\n</table>\n</div>"
     },
     "metadata": {},
     "execution_count": 63
    }
   ],
   "source": [
    "new = (pd.crosstab(sampled.applicant_sex_name, sampled.applicant_sex).reindex(applicant_sex, axis=\"columns\")/sampled.shape[0] * 100).rename(index = {\"Information not provided by applicant in mail, Internet, or telephone application\" : \"Not provided\"})\n",
    "new['Total'] = new.sum(axis=1)\n",
    "new.loc['Total']= new.sum()\n",
    "new = new.round(2)\n",
    "new"
   ]
  },
  {
   "cell_type": "code",
   "execution_count": 104,
   "metadata": {},
   "outputs": [
    {
     "output_type": "execute_result",
     "data": {
      "text/plain": "applicant_sex           2      3      1     4  Total\napplicant_sex_name                                  \nFemale             -22.48   0.17   6.47  0.75 -15.10\nNot provided         0.17 -13.57   2.19  0.36 -10.85\nMale                 1.47   0.60   8.16  0.60  10.84\nNot applicable       1.65   1.22   9.93  2.30  15.10\nTotal              -19.19 -11.57  26.74  4.01   0.00",
      "text/html": "<div>\n<style scoped>\n    .dataframe tbody tr th:only-of-type {\n        vertical-align: middle;\n    }\n\n    .dataframe tbody tr th {\n        vertical-align: top;\n    }\n\n    .dataframe thead th {\n        text-align: right;\n    }\n</style>\n<table border=\"1\" class=\"dataframe\">\n  <thead>\n    <tr style=\"text-align: right;\">\n      <th>applicant_sex</th>\n      <th>2</th>\n      <th>3</th>\n      <th>1</th>\n      <th>4</th>\n      <th>Total</th>\n    </tr>\n    <tr>\n      <th>applicant_sex_name</th>\n      <th></th>\n      <th></th>\n      <th></th>\n      <th></th>\n      <th></th>\n    </tr>\n  </thead>\n  <tbody>\n    <tr>\n      <th>Female</th>\n      <td>-22.48</td>\n      <td>0.17</td>\n      <td>6.47</td>\n      <td>0.75</td>\n      <td>-15.10</td>\n    </tr>\n    <tr>\n      <th>Not provided</th>\n      <td>0.17</td>\n      <td>-13.57</td>\n      <td>2.19</td>\n      <td>0.36</td>\n      <td>-10.85</td>\n    </tr>\n    <tr>\n      <th>Male</th>\n      <td>1.47</td>\n      <td>0.60</td>\n      <td>8.16</td>\n      <td>0.60</td>\n      <td>10.84</td>\n    </tr>\n    <tr>\n      <th>Not applicable</th>\n      <td>1.65</td>\n      <td>1.22</td>\n      <td>9.93</td>\n      <td>2.30</td>\n      <td>15.10</td>\n    </tr>\n    <tr>\n      <th>Total</th>\n      <td>-19.19</td>\n      <td>-11.57</td>\n      <td>26.74</td>\n      <td>4.01</td>\n      <td>0.00</td>\n    </tr>\n  </tbody>\n</table>\n</div>"
     },
     "metadata": {},
     "execution_count": 104
    }
   ],
   "source": [
    "new - og"
   ]
  },
  {
   "cell_type": "code",
   "execution_count": 64,
   "metadata": {},
   "outputs": [
    {
     "output_type": "execute_result",
     "data": {
      "text/plain": "agency_abbr          CFPB    HUD  FDIC   FRS  NCUA   OCC   Total\napplicant_sex_name                                              \nFemale               6.30  15.23  2.44  0.90  2.84  1.08   28.78\nNot provided         1.87   4.92  0.64  0.21  0.77  0.22    8.64\nMale                14.33  32.54  5.95  2.10  4.94  2.65   62.51\nNot applicable       0.02   0.02  0.02  0.00  0.00  0.01    0.07\nTotal               22.52  52.71  9.05  3.21  8.56  3.95  100.00",
      "text/html": "<div>\n<style scoped>\n    .dataframe tbody tr th:only-of-type {\n        vertical-align: middle;\n    }\n\n    .dataframe tbody tr th {\n        vertical-align: top;\n    }\n\n    .dataframe thead th {\n        text-align: right;\n    }\n</style>\n<table border=\"1\" class=\"dataframe\">\n  <thead>\n    <tr style=\"text-align: right;\">\n      <th>agency_abbr</th>\n      <th>CFPB</th>\n      <th>HUD</th>\n      <th>FDIC</th>\n      <th>FRS</th>\n      <th>NCUA</th>\n      <th>OCC</th>\n      <th>Total</th>\n    </tr>\n    <tr>\n      <th>applicant_sex_name</th>\n      <th></th>\n      <th></th>\n      <th></th>\n      <th></th>\n      <th></th>\n      <th></th>\n      <th></th>\n    </tr>\n  </thead>\n  <tbody>\n    <tr>\n      <th>Female</th>\n      <td>6.30</td>\n      <td>15.23</td>\n      <td>2.44</td>\n      <td>0.90</td>\n      <td>2.84</td>\n      <td>1.08</td>\n      <td>28.78</td>\n    </tr>\n    <tr>\n      <th>Not provided</th>\n      <td>1.87</td>\n      <td>4.92</td>\n      <td>0.64</td>\n      <td>0.21</td>\n      <td>0.77</td>\n      <td>0.22</td>\n      <td>8.64</td>\n    </tr>\n    <tr>\n      <th>Male</th>\n      <td>14.33</td>\n      <td>32.54</td>\n      <td>5.95</td>\n      <td>2.10</td>\n      <td>4.94</td>\n      <td>2.65</td>\n      <td>62.51</td>\n    </tr>\n    <tr>\n      <th>Not applicable</th>\n      <td>0.02</td>\n      <td>0.02</td>\n      <td>0.02</td>\n      <td>0.00</td>\n      <td>0.00</td>\n      <td>0.01</td>\n      <td>0.07</td>\n    </tr>\n    <tr>\n      <th>Total</th>\n      <td>22.52</td>\n      <td>52.71</td>\n      <td>9.05</td>\n      <td>3.21</td>\n      <td>8.56</td>\n      <td>3.95</td>\n      <td>100.00</td>\n    </tr>\n  </tbody>\n</table>\n</div>"
     },
     "metadata": {},
     "execution_count": 64
    }
   ],
   "source": [
    "og = (pd.crosstab(data.applicant_sex_name,data.agency_abbr).reindex(agency_abbr, axis=\"columns\")/data.shape[0] * 100).rename(index = {\"Information not provided by applicant in mail, Internet, or telephone application\" : \"Not provided\"})\n",
    "og['Total'] = og.sum(axis=1)\n",
    "og.loc['Total']= og.sum()\n",
    "og = og.round(2)\n",
    "og"
   ]
  },
  {
   "cell_type": "code",
   "execution_count": 65,
   "metadata": {},
   "outputs": [
    {
     "output_type": "execute_result",
     "data": {
      "text/plain": "agency_abbr          CFPB    HUD  FDIC   FRS  NCUA   OCC   Total\napplicant_sex_name                                              \nFemale               0.33   0.00  0.00  0.00  0.00  0.00    0.33\nNot provided         0.02   0.00  0.00  0.00  0.42  0.01    0.45\nMale                27.87  61.71  0.32  0.26  8.56  0.43   99.15\nNot applicable       0.04   0.00  0.00  0.00  0.02  0.00    0.07\nTotal               28.26  61.72  0.32  0.27  9.00  0.44  100.00",
      "text/html": "<div>\n<style scoped>\n    .dataframe tbody tr th:only-of-type {\n        vertical-align: middle;\n    }\n\n    .dataframe tbody tr th {\n        vertical-align: top;\n    }\n\n    .dataframe thead th {\n        text-align: right;\n    }\n</style>\n<table border=\"1\" class=\"dataframe\">\n  <thead>\n    <tr style=\"text-align: right;\">\n      <th>agency_abbr</th>\n      <th>CFPB</th>\n      <th>HUD</th>\n      <th>FDIC</th>\n      <th>FRS</th>\n      <th>NCUA</th>\n      <th>OCC</th>\n      <th>Total</th>\n    </tr>\n    <tr>\n      <th>applicant_sex_name</th>\n      <th></th>\n      <th></th>\n      <th></th>\n      <th></th>\n      <th></th>\n      <th></th>\n      <th></th>\n    </tr>\n  </thead>\n  <tbody>\n    <tr>\n      <th>Female</th>\n      <td>0.33</td>\n      <td>0.00</td>\n      <td>0.00</td>\n      <td>0.00</td>\n      <td>0.00</td>\n      <td>0.00</td>\n      <td>0.33</td>\n    </tr>\n    <tr>\n      <th>Not provided</th>\n      <td>0.02</td>\n      <td>0.00</td>\n      <td>0.00</td>\n      <td>0.00</td>\n      <td>0.42</td>\n      <td>0.01</td>\n      <td>0.45</td>\n    </tr>\n    <tr>\n      <th>Male</th>\n      <td>27.87</td>\n      <td>61.71</td>\n      <td>0.32</td>\n      <td>0.26</td>\n      <td>8.56</td>\n      <td>0.43</td>\n      <td>99.15</td>\n    </tr>\n    <tr>\n      <th>Not applicable</th>\n      <td>0.04</td>\n      <td>0.00</td>\n      <td>0.00</td>\n      <td>0.00</td>\n      <td>0.02</td>\n      <td>0.00</td>\n      <td>0.07</td>\n    </tr>\n    <tr>\n      <th>Total</th>\n      <td>28.26</td>\n      <td>61.72</td>\n      <td>0.32</td>\n      <td>0.27</td>\n      <td>9.00</td>\n      <td>0.44</td>\n      <td>100.00</td>\n    </tr>\n  </tbody>\n</table>\n</div>"
     },
     "metadata": {},
     "execution_count": 65
    }
   ],
   "source": [
    "new = (pd.crosstab(sampled.applicant_sex_name,sampled.agency_abbr).reindex(agency_abbr, axis=\"columns\")/sampled.shape[0] * 100).rename(index = {\"Information not provided by applicant in mail, Internet, or telephone application\" : \"Not provided\"})\n",
    "new['Total'] = new.sum(axis=1)\n",
    "new.loc['Total']= new.sum()\n",
    "new = new.round(2)\n",
    "new"
   ]
  },
  {
   "cell_type": "code",
   "execution_count": 218,
   "metadata": {},
   "outputs": [
    {
     "output_type": "execute_result",
     "data": {
      "text/plain": "agency_abbr         CFPB    HUD  FDIC   FRS  NCUA   OCC  Total\napplicant_sex_name                                            \nFemale              0.09  -6.62 -1.18  3.38  4.32  0.02    0.0\nNot provided        2.15  -2.74 -0.53  0.41  0.98 -0.27    0.0\nMale               -0.44  -1.84  5.30 -1.19 -2.88  1.07    0.0\nNot applicable      0.00   0.00  0.00  0.00  0.00  0.01    0.0\nTotal               1.79 -11.20  3.58  2.59  2.42  0.82    0.0",
      "text/html": "<div>\n<style scoped>\n    .dataframe tbody tr th:only-of-type {\n        vertical-align: middle;\n    }\n\n    .dataframe tbody tr th {\n        vertical-align: top;\n    }\n\n    .dataframe thead th {\n        text-align: right;\n    }\n</style>\n<table border=\"1\" class=\"dataframe\">\n  <thead>\n    <tr style=\"text-align: right;\">\n      <th>agency_abbr</th>\n      <th>CFPB</th>\n      <th>HUD</th>\n      <th>FDIC</th>\n      <th>FRS</th>\n      <th>NCUA</th>\n      <th>OCC</th>\n      <th>Total</th>\n    </tr>\n    <tr>\n      <th>applicant_sex_name</th>\n      <th></th>\n      <th></th>\n      <th></th>\n      <th></th>\n      <th></th>\n      <th></th>\n      <th></th>\n    </tr>\n  </thead>\n  <tbody>\n    <tr>\n      <th>Female</th>\n      <td>0.09</td>\n      <td>-6.62</td>\n      <td>-1.18</td>\n      <td>3.38</td>\n      <td>4.32</td>\n      <td>0.02</td>\n      <td>0.0</td>\n    </tr>\n    <tr>\n      <th>Not provided</th>\n      <td>2.15</td>\n      <td>-2.74</td>\n      <td>-0.53</td>\n      <td>0.41</td>\n      <td>0.98</td>\n      <td>-0.27</td>\n      <td>0.0</td>\n    </tr>\n    <tr>\n      <th>Male</th>\n      <td>-0.44</td>\n      <td>-1.84</td>\n      <td>5.30</td>\n      <td>-1.19</td>\n      <td>-2.88</td>\n      <td>1.07</td>\n      <td>0.0</td>\n    </tr>\n    <tr>\n      <th>Not applicable</th>\n      <td>0.00</td>\n      <td>0.00</td>\n      <td>0.00</td>\n      <td>0.00</td>\n      <td>0.00</td>\n      <td>0.01</td>\n      <td>0.0</td>\n    </tr>\n    <tr>\n      <th>Total</th>\n      <td>1.79</td>\n      <td>-11.20</td>\n      <td>3.58</td>\n      <td>2.59</td>\n      <td>2.42</td>\n      <td>0.82</td>\n      <td>0.0</td>\n    </tr>\n  </tbody>\n</table>\n</div>"
     },
     "metadata": {},
     "execution_count": 218
    }
   ],
   "source": [
    "new - og"
   ]
  },
  {
   "cell_type": "code",
   "execution_count": 164,
   "metadata": {},
   "outputs": [
    {
     "output_type": "execute_result",
     "data": {
      "text/plain": "applicant_sex      2      3      1     4   Total\nagency_abbr                                     \nCFPB            6.00   3.30  13.38  0.01   22.70\nFDIC            2.09   0.97   4.96  0.01    8.04\nFRS             0.79   0.32   1.82  0.00    2.94\nHUD            14.84   8.36  31.63  0.01   54.84\nNCUA            2.36   1.26   4.08  0.01    7.70\nOCC             0.97   0.41   2.39  0.00    3.78\nTotal          27.06  14.62  58.28  0.05  100.00",
      "text/html": "<div>\n<style scoped>\n    .dataframe tbody tr th:only-of-type {\n        vertical-align: middle;\n    }\n\n    .dataframe tbody tr th {\n        vertical-align: top;\n    }\n\n    .dataframe thead th {\n        text-align: right;\n    }\n</style>\n<table border=\"1\" class=\"dataframe\">\n  <thead>\n    <tr style=\"text-align: right;\">\n      <th>applicant_sex</th>\n      <th>2</th>\n      <th>3</th>\n      <th>1</th>\n      <th>4</th>\n      <th>Total</th>\n    </tr>\n    <tr>\n      <th>agency_abbr</th>\n      <th></th>\n      <th></th>\n      <th></th>\n      <th></th>\n      <th></th>\n    </tr>\n  </thead>\n  <tbody>\n    <tr>\n      <th>CFPB</th>\n      <td>6.00</td>\n      <td>3.30</td>\n      <td>13.38</td>\n      <td>0.01</td>\n      <td>22.70</td>\n    </tr>\n    <tr>\n      <th>FDIC</th>\n      <td>2.09</td>\n      <td>0.97</td>\n      <td>4.96</td>\n      <td>0.01</td>\n      <td>8.04</td>\n    </tr>\n    <tr>\n      <th>FRS</th>\n      <td>0.79</td>\n      <td>0.32</td>\n      <td>1.82</td>\n      <td>0.00</td>\n      <td>2.94</td>\n    </tr>\n    <tr>\n      <th>HUD</th>\n      <td>14.84</td>\n      <td>8.36</td>\n      <td>31.63</td>\n      <td>0.01</td>\n      <td>54.84</td>\n    </tr>\n    <tr>\n      <th>NCUA</th>\n      <td>2.36</td>\n      <td>1.26</td>\n      <td>4.08</td>\n      <td>0.01</td>\n      <td>7.70</td>\n    </tr>\n    <tr>\n      <th>OCC</th>\n      <td>0.97</td>\n      <td>0.41</td>\n      <td>2.39</td>\n      <td>0.00</td>\n      <td>3.78</td>\n    </tr>\n    <tr>\n      <th>Total</th>\n      <td>27.06</td>\n      <td>14.62</td>\n      <td>58.28</td>\n      <td>0.05</td>\n      <td>100.00</td>\n    </tr>\n  </tbody>\n</table>\n</div>"
     },
     "metadata": {},
     "execution_count": 164
    }
   ],
   "source": [
    "og = (pd.crosstab(data.agency_abbr,data.applicant_sex).reindex(applicant_sex, axis=\"columns\")/data.shape[0] * 100)\n",
    "og['Total'] = og.sum(axis=1)\n",
    "og.loc['Total']= og.sum()\n",
    "og = og.round(2)\n",
    "og"
   ]
  },
  {
   "cell_type": "code",
   "execution_count": 155,
   "metadata": {},
   "outputs": [
    {
     "output_type": "execute_result",
     "data": {
      "text/plain": "applicant_sex      2      3      1     4   Total\nagency_abbr                                     \nCFPB            6.25   5.68  12.43  0.04   24.40\nFDIC            0.92   0.47  10.00  0.06   11.45\nFRS             4.29   0.78   0.56  0.01    5.65\nHUD             8.68   5.74  29.12  0.06   43.59\nNCUA            6.86   2.24   1.24  0.03   10.38\nOCC             0.95   0.16   3.42  0.01    4.54\nTotal          27.95  15.07  56.77  0.20  100.00",
      "text/html": "<div>\n<style scoped>\n    .dataframe tbody tr th:only-of-type {\n        vertical-align: middle;\n    }\n\n    .dataframe tbody tr th {\n        vertical-align: top;\n    }\n\n    .dataframe thead th {\n        text-align: right;\n    }\n</style>\n<table border=\"1\" class=\"dataframe\">\n  <thead>\n    <tr style=\"text-align: right;\">\n      <th>applicant_sex</th>\n      <th>2</th>\n      <th>3</th>\n      <th>1</th>\n      <th>4</th>\n      <th>Total</th>\n    </tr>\n    <tr>\n      <th>agency_abbr</th>\n      <th></th>\n      <th></th>\n      <th></th>\n      <th></th>\n      <th></th>\n    </tr>\n  </thead>\n  <tbody>\n    <tr>\n      <th>CFPB</th>\n      <td>6.25</td>\n      <td>5.68</td>\n      <td>12.43</td>\n      <td>0.04</td>\n      <td>24.40</td>\n    </tr>\n    <tr>\n      <th>FDIC</th>\n      <td>0.92</td>\n      <td>0.47</td>\n      <td>10.00</td>\n      <td>0.06</td>\n      <td>11.45</td>\n    </tr>\n    <tr>\n      <th>FRS</th>\n      <td>4.29</td>\n      <td>0.78</td>\n      <td>0.56</td>\n      <td>0.01</td>\n      <td>5.65</td>\n    </tr>\n    <tr>\n      <th>HUD</th>\n      <td>8.68</td>\n      <td>5.74</td>\n      <td>29.12</td>\n      <td>0.06</td>\n      <td>43.59</td>\n    </tr>\n    <tr>\n      <th>NCUA</th>\n      <td>6.86</td>\n      <td>2.24</td>\n      <td>1.24</td>\n      <td>0.03</td>\n      <td>10.38</td>\n    </tr>\n    <tr>\n      <th>OCC</th>\n      <td>0.95</td>\n      <td>0.16</td>\n      <td>3.42</td>\n      <td>0.01</td>\n      <td>4.54</td>\n    </tr>\n    <tr>\n      <th>Total</th>\n      <td>27.95</td>\n      <td>15.07</td>\n      <td>56.77</td>\n      <td>0.20</td>\n      <td>100.00</td>\n    </tr>\n  </tbody>\n</table>\n</div>"
     },
     "metadata": {},
     "execution_count": 155
    }
   ],
   "source": [
    "new = (pd.crosstab(sampled.agency_abbr,sampled.applicant_sex).reindex(applicant_sex, axis=\"columns\")/sampled.shape[0] * 100)\n",
    "new['Total'] = new.sum(axis=1)\n",
    "new.loc['Total']= new.sum()\n",
    "new = new.round(2)\n",
    "new"
   ]
  },
  {
   "cell_type": "code",
   "execution_count": 104,
   "metadata": {},
   "outputs": [
    {
     "output_type": "execute_result",
     "data": {
      "text/plain": "applicant_sex     2     3     1     4  Total\nagency_abbr                                 \nCFPB          -2.65 -2.17 -0.82  0.09  -5.57\nFDIC           0.68 -0.55 -0.22  0.03  -0.07\nFRS            0.09  0.02  1.47  0.03   1.60\nHUD           -0.76 -0.70  0.38  0.16  -0.92\nNCUA          -0.86 -0.46  3.52  0.04   2.25\nOCC            0.41  0.41  1.83  0.06   2.69\nTotal         -3.10 -3.44  6.14  0.40   0.00",
      "text/html": "<div>\n<style scoped>\n    .dataframe tbody tr th:only-of-type {\n        vertical-align: middle;\n    }\n\n    .dataframe tbody tr th {\n        vertical-align: top;\n    }\n\n    .dataframe thead th {\n        text-align: right;\n    }\n</style>\n<table border=\"1\" class=\"dataframe\">\n  <thead>\n    <tr style=\"text-align: right;\">\n      <th>applicant_sex</th>\n      <th>2</th>\n      <th>3</th>\n      <th>1</th>\n      <th>4</th>\n      <th>Total</th>\n    </tr>\n    <tr>\n      <th>agency_abbr</th>\n      <th></th>\n      <th></th>\n      <th></th>\n      <th></th>\n      <th></th>\n    </tr>\n  </thead>\n  <tbody>\n    <tr>\n      <th>CFPB</th>\n      <td>-2.65</td>\n      <td>-2.17</td>\n      <td>-0.82</td>\n      <td>0.09</td>\n      <td>-5.57</td>\n    </tr>\n    <tr>\n      <th>FDIC</th>\n      <td>0.68</td>\n      <td>-0.55</td>\n      <td>-0.22</td>\n      <td>0.03</td>\n      <td>-0.07</td>\n    </tr>\n    <tr>\n      <th>FRS</th>\n      <td>0.09</td>\n      <td>0.02</td>\n      <td>1.47</td>\n      <td>0.03</td>\n      <td>1.60</td>\n    </tr>\n    <tr>\n      <th>HUD</th>\n      <td>-0.76</td>\n      <td>-0.70</td>\n      <td>0.38</td>\n      <td>0.16</td>\n      <td>-0.92</td>\n    </tr>\n    <tr>\n      <th>NCUA</th>\n      <td>-0.86</td>\n      <td>-0.46</td>\n      <td>3.52</td>\n      <td>0.04</td>\n      <td>2.25</td>\n    </tr>\n    <tr>\n      <th>OCC</th>\n      <td>0.41</td>\n      <td>0.41</td>\n      <td>1.83</td>\n      <td>0.06</td>\n      <td>2.69</td>\n    </tr>\n    <tr>\n      <th>Total</th>\n      <td>-3.10</td>\n      <td>-3.44</td>\n      <td>6.14</td>\n      <td>0.40</td>\n      <td>0.00</td>\n    </tr>\n  </tbody>\n</table>\n</div>"
     },
     "metadata": {},
     "execution_count": 104
    }
   ],
   "source": [
    "new - og"
   ]
  },
  {
   "cell_type": "code",
   "execution_count": 11,
   "metadata": {},
   "outputs": [],
   "source": [
    "#import synthesizer,transformer,sampler,conditional,models,data\n",
    "torch.save(model, \"/Users/sahanalva/Counterfactual Research/big.pt\")"
   ]
  },
  {
   "cell_type": "code",
   "execution_count": 218,
   "metadata": {
    "tags": []
   },
   "outputs": [
    {
     "output_type": "error",
     "ename": "AttributeError",
     "evalue": "'list' object has no attribute 'shape'",
     "traceback": [
      "\u001b[0;31m---------------------------------------------------------------------------\u001b[0m",
      "\u001b[0;31mAttributeError\u001b[0m                            Traceback (most recent call last)",
      "\u001b[0;32m<ipython-input-218-357083ec3ea4>\u001b[0m in \u001b[0;36m<module>\u001b[0;34m\u001b[0m\n\u001b[1;32m      8\u001b[0m \u001b[0mdata\u001b[0m \u001b[0;34m=\u001b[0m \u001b[0mdf\u001b[0m\u001b[0;34m.\u001b[0m\u001b[0mloc\u001b[0m\u001b[0;34m[\u001b[0m\u001b[0;36m0\u001b[0m\u001b[0;34m:\u001b[0m\u001b[0;36m100000\u001b[0m\u001b[0;34m,\u001b[0m\u001b[0;34m:\u001b[0m\u001b[0;34m]\u001b[0m\u001b[0;34m\u001b[0m\u001b[0;34m\u001b[0m\u001b[0m\n\u001b[1;32m      9\u001b[0m \u001b[0mmodel1\u001b[0m \u001b[0;34m=\u001b[0m \u001b[0msynthesizer\u001b[0m\u001b[0;34m.\u001b[0m\u001b[0mCTGANSynthesizer\u001b[0m\u001b[0;34m(\u001b[0m\u001b[0membedding_dim\u001b[0m \u001b[0;34m=\u001b[0m \u001b[0;36m128\u001b[0m\u001b[0;34m,\u001b[0m \u001b[0mbatch_size\u001b[0m\u001b[0;34m=\u001b[0m\u001b[0;36m500\u001b[0m\u001b[0;34m)\u001b[0m\u001b[0;34m\u001b[0m\u001b[0;34m\u001b[0m\u001b[0m\n\u001b[0;32m---> 10\u001b[0;31m \u001b[0mmodel1\u001b[0m\u001b[0;34m.\u001b[0m\u001b[0mfit\u001b[0m\u001b[0;34m(\u001b[0m\u001b[0mdata\u001b[0m\u001b[0;34m,\u001b[0m \u001b[0mdiscrete_columns\u001b[0m\u001b[0;34m,\u001b[0m \u001b[0;36m30\u001b[0m\u001b[0;34m,\u001b[0m\u001b[0mlog_frequency\u001b[0m\u001b[0;34m=\u001b[0m \u001b[0;32mFalse\u001b[0m\u001b[0;34m)\u001b[0m\u001b[0;34m\u001b[0m\u001b[0;34m\u001b[0m\u001b[0m\n\u001b[0m\u001b[1;32m     11\u001b[0m \u001b[0mmodel2\u001b[0m \u001b[0;34m=\u001b[0m \u001b[0msynthesizer\u001b[0m\u001b[0;34m.\u001b[0m\u001b[0mCTGANSynthesizer\u001b[0m\u001b[0;34m(\u001b[0m\u001b[0membedding_dim\u001b[0m \u001b[0;34m=\u001b[0m \u001b[0;36m128\u001b[0m\u001b[0;34m,\u001b[0m \u001b[0mbatch_size\u001b[0m\u001b[0;34m=\u001b[0m\u001b[0;36m500\u001b[0m\u001b[0;34m)\u001b[0m\u001b[0;34m\u001b[0m\u001b[0;34m\u001b[0m\u001b[0m\n\u001b[1;32m     12\u001b[0m \u001b[0mmodel2\u001b[0m\u001b[0;34m.\u001b[0m\u001b[0mfit\u001b[0m\u001b[0;34m(\u001b[0m\u001b[0mdata\u001b[0m\u001b[0;34m,\u001b[0m \u001b[0mdiscrete_columns\u001b[0m\u001b[0;34m,\u001b[0m \u001b[0;36m30\u001b[0m\u001b[0;34m,\u001b[0m\u001b[0mlog_frequency\u001b[0m\u001b[0;34m=\u001b[0m \u001b[0;32mTrue\u001b[0m\u001b[0;34m)\u001b[0m\u001b[0;34m\u001b[0m\u001b[0;34m\u001b[0m\u001b[0m\n",
      "\u001b[0;32m~/Documents/GitHub/CTGAN/ctgan/synthesizer.py\u001b[0m in \u001b[0;36mfit\u001b[0;34m(self, train_data, discrete_columns, epochs, log_frequency)\u001b[0m\n\u001b[1;32m    169\u001b[0m                     \u001b[0mperm\u001b[0m \u001b[0;34m=\u001b[0m \u001b[0mnp\u001b[0m\u001b[0;34m.\u001b[0m\u001b[0marange\u001b[0m\u001b[0;34m(\u001b[0m\u001b[0mself\u001b[0m\u001b[0;34m.\u001b[0m\u001b[0mbatch_size\u001b[0m\u001b[0;34m)\u001b[0m\u001b[0;34m\u001b[0m\u001b[0;34m\u001b[0m\u001b[0m\n\u001b[1;32m    170\u001b[0m                     \u001b[0mnp\u001b[0m\u001b[0;34m.\u001b[0m\u001b[0mrandom\u001b[0m\u001b[0;34m.\u001b[0m\u001b[0mshuffle\u001b[0m\u001b[0;34m(\u001b[0m\u001b[0mperm\u001b[0m\u001b[0;34m)\u001b[0m\u001b[0;34m\u001b[0m\u001b[0;34m\u001b[0m\u001b[0m\n\u001b[0;32m--> 171\u001b[0;31m                     \u001b[0mreal\u001b[0m \u001b[0;34m=\u001b[0m \u001b[0mdata_sampler\u001b[0m\u001b[0;34m.\u001b[0m\u001b[0msample\u001b[0m\u001b[0;34m(\u001b[0m\u001b[0mself\u001b[0m\u001b[0;34m.\u001b[0m\u001b[0mbatch_size\u001b[0m\u001b[0;34m,\u001b[0m \u001b[0mcol\u001b[0m\u001b[0;34m[\u001b[0m\u001b[0mperm\u001b[0m\u001b[0;34m]\u001b[0m\u001b[0;34m,\u001b[0m \u001b[0mopt\u001b[0m\u001b[0;34m[\u001b[0m\u001b[0mperm\u001b[0m\u001b[0;34m]\u001b[0m\u001b[0;34m)\u001b[0m\u001b[0;34m\u001b[0m\u001b[0;34m\u001b[0m\u001b[0m\n\u001b[0m\u001b[1;32m    172\u001b[0m                     \u001b[0mc2\u001b[0m \u001b[0;34m=\u001b[0m \u001b[0mc1\u001b[0m\u001b[0;34m[\u001b[0m\u001b[0mperm\u001b[0m\u001b[0;34m]\u001b[0m\u001b[0;34m\u001b[0m\u001b[0;34m\u001b[0m\u001b[0m\n\u001b[1;32m    173\u001b[0m                     \u001b[0;31m#print(\"synth real c1\", real, c1, c2,perm)\u001b[0m\u001b[0;34m\u001b[0m\u001b[0;34m\u001b[0m\u001b[0;34m\u001b[0m\u001b[0m\n",
      "\u001b[0;32m~/Documents/GitHub/CTGAN/ctgan/sampler.py\u001b[0m in \u001b[0;36msample\u001b[0;34m(self, n, col, opt)\u001b[0m\n\u001b[1;32m     38\u001b[0m             \u001b[0midx\u001b[0m \u001b[0;34m=\u001b[0m \u001b[0mnp\u001b[0m\u001b[0;34m.\u001b[0m\u001b[0mrandom\u001b[0m\u001b[0;34m.\u001b[0m\u001b[0mchoice\u001b[0m\u001b[0;34m(\u001b[0m\u001b[0mnp\u001b[0m\u001b[0;34m.\u001b[0m\u001b[0marange\u001b[0m\u001b[0;34m(\u001b[0m\u001b[0mself\u001b[0m\u001b[0;34m.\u001b[0m\u001b[0mn\u001b[0m\u001b[0;34m)\u001b[0m\u001b[0;34m,\u001b[0m \u001b[0mn\u001b[0m\u001b[0;34m)\u001b[0m\u001b[0;34m\u001b[0m\u001b[0;34m\u001b[0m\u001b[0m\n\u001b[1;32m     39\u001b[0m             \u001b[0;32mreturn\u001b[0m \u001b[0mself\u001b[0m\u001b[0;34m.\u001b[0m\u001b[0mdata\u001b[0m\u001b[0;34m[\u001b[0m\u001b[0midx\u001b[0m\u001b[0;34m]\u001b[0m\u001b[0;34m\u001b[0m\u001b[0;34m\u001b[0m\u001b[0m\n\u001b[0;32m---> 40\u001b[0;31m         \u001b[0mprint\u001b[0m\u001b[0;34m(\u001b[0m\u001b[0;34m\"sampler,\"\u001b[0m\u001b[0;34m,\u001b[0m\u001b[0mself\u001b[0m\u001b[0;34m.\u001b[0m\u001b[0mmodel\u001b[0m\u001b[0;34m[\u001b[0m\u001b[0;36m0\u001b[0m\u001b[0;34m]\u001b[0m\u001b[0;34m.\u001b[0m\u001b[0mshape\u001b[0m\u001b[0;34m)\u001b[0m\u001b[0;34m\u001b[0m\u001b[0;34m\u001b[0m\u001b[0m\n\u001b[0m\u001b[1;32m     41\u001b[0m         \u001b[0midx\u001b[0m \u001b[0;34m=\u001b[0m \u001b[0;34m[\u001b[0m\u001b[0;34m]\u001b[0m\u001b[0;34m\u001b[0m\u001b[0;34m\u001b[0m\u001b[0m\n\u001b[1;32m     42\u001b[0m         \u001b[0;32mfor\u001b[0m \u001b[0mc\u001b[0m\u001b[0;34m,\u001b[0m \u001b[0mo\u001b[0m \u001b[0;32min\u001b[0m \u001b[0mzip\u001b[0m\u001b[0;34m(\u001b[0m\u001b[0mcol\u001b[0m\u001b[0;34m,\u001b[0m \u001b[0mopt\u001b[0m\u001b[0;34m)\u001b[0m\u001b[0;34m:\u001b[0m\u001b[0;34m\u001b[0m\u001b[0;34m\u001b[0m\u001b[0m\n",
      "\u001b[0;31mAttributeError\u001b[0m: 'list' object has no attribute 'shape'"
     ]
    }
   ],
   "source": [
    "from importlib import reload\n",
    "import synthesizer,transformer,sampler,conditional,models\n",
    "reload(models)\n",
    "reload(sampler)\n",
    "reload(synthesizer)\n",
    "reload(transformer)\n",
    "reload(conditional)\n",
    "data = df.loc[0:100000,:]\n",
    "model1 = synthesizer.CTGANSynthesizer(embedding_dim = 128, batch_size=500)\n",
    "model1.fit(data, discrete_columns, 30,log_frequency= False)\n",
    "model2 = synthesizer.CTGANSynthesizer(embedding_dim = 128, batch_size=500)\n",
    "model2.fit(data, discrete_columns, 30,log_frequency= True)"
   ]
  },
  {
   "cell_type": "code",
   "execution_count": null,
   "metadata": {},
   "outputs": [],
   "source": []
  },
  {
   "cell_type": "code",
   "execution_count": 156,
   "metadata": {},
   "outputs": [],
   "source": [
    "sampled = pd.concat([model1.sample(50000),model2.sample(50000)], axis = 0)"
   ]
  },
  {
   "cell_type": "code",
   "execution_count": 176,
   "metadata": {},
   "outputs": [],
   "source": [
    "original_applicant_sex_p = (data.applicant_sex_name.value_counts()/data.shape[0]).to_numpy()\n",
    "applicant_sex_values = (data.applicant_sex_name.value_counts()/data.shape[0]).index.to_numpy()\n",
    "original_agency_abbr_p = (data.agency_abbr.value_counts()/data.shape[0]).to_numpy()\n",
    "agency_abbr_values = (data.agency_abbr.value_counts()/data.shape[0]).index.to_numpy()\n"
   ]
  },
  {
   "cell_type": "code",
   "execution_count": 211,
   "metadata": {
    "tags": []
   },
   "outputs": [],
   "source": [
    "sampled_data_list = []\n",
    "sampled_all = model2.sample(500000)\n",
    "for name,value in zip(applicant_sex_values, original_applicant_sex_p):\n",
    "    temp = sampled_all[sampled_all['applicant_sex_name'] == name]\n",
    "    sampled_data_list.append(temp.sample(n= int(value*100000)))\n",
    "\n"
   ]
  },
  {
   "cell_type": "code",
   "execution_count": 212,
   "metadata": {
    "tags": []
   },
   "outputs": [],
   "source": [
    "sampled = pd.concat(sampled_data_list,axis = 0 )"
   ]
  },
  {
   "cell_type": "code",
   "execution_count": 203,
   "metadata": {},
   "outputs": [],
   "source": [
    "sampled_data_list = []\n",
    "sampled_all = model2.sample(500000)\n",
    "for name,value in zip(agency_abbr_values, original_agency_abbr_p):\n",
    "    temp = sampled_all[sampled_all['agency_abbr'] == name]\n",
    "    sampled_data_list.append(temp.sample(n= int(value*100000)))\n"
   ]
  },
  {
   "cell_type": "code",
   "execution_count": 68,
   "metadata": {},
   "outputs": [
    {
     "output_type": "execute_result",
     "data": {
      "text/plain": "agency_name  Consumer Financial Protection Bureau  \\\nagency_abbr                                         \nCFPB                                        93.04   \nFDIC                                         0.13   \nFRS                                          0.09   \nHUD                                          0.48   \nNCUA                                         0.50   \nOCC                                          0.14   \nTotal                                       94.39   \n\nagency_name  Department of Housing and Urban Development  \\\nagency_abbr                                                \nCFPB                                                1.34   \nFDIC                                                0.00   \nFRS                                                 0.00   \nHUD                                                 0.02   \nNCUA                                                0.00   \nOCC                                                 0.00   \nTotal                                               1.38   \n\nagency_name  Federal Deposit Insurance Corporation  Federal Reserve System  \\\nagency_abbr                                                                  \nCFPB                                          0.57                    0.56   \nFDIC                                          0.00                    0.00   \nFRS                                           0.00                    0.00   \nHUD                                           0.00                    0.01   \nNCUA                                          0.01                    0.01   \nOCC                                           0.00                    0.00   \nTotal                                         0.59                    0.58   \n\nagency_name  National Credit Union Administration  \\\nagency_abbr                                         \nCFPB                                         1.99   \nFDIC                                         0.01   \nFRS                                          0.01   \nHUD                                          0.00   \nNCUA                                         0.31   \nOCC                                          0.01   \nTotal                                        2.33   \n\nagency_name  Office of the Comptroller of the Currency   Total  \nagency_abbr                                                     \nCFPB                                              0.71   98.22  \nFDIC                                              0.00    0.15  \nFRS                                               0.00    0.11  \nHUD                                               0.01    0.52  \nNCUA                                              0.02    0.85  \nOCC                                               0.00    0.15  \nTotal                                             0.74  100.00  ",
      "text/html": "<div>\n<style scoped>\n    .dataframe tbody tr th:only-of-type {\n        vertical-align: middle;\n    }\n\n    .dataframe tbody tr th {\n        vertical-align: top;\n    }\n\n    .dataframe thead th {\n        text-align: right;\n    }\n</style>\n<table border=\"1\" class=\"dataframe\">\n  <thead>\n    <tr style=\"text-align: right;\">\n      <th>agency_name</th>\n      <th>Consumer Financial Protection Bureau</th>\n      <th>Department of Housing and Urban Development</th>\n      <th>Federal Deposit Insurance Corporation</th>\n      <th>Federal Reserve System</th>\n      <th>National Credit Union Administration</th>\n      <th>Office of the Comptroller of the Currency</th>\n      <th>Total</th>\n    </tr>\n    <tr>\n      <th>agency_abbr</th>\n      <th></th>\n      <th></th>\n      <th></th>\n      <th></th>\n      <th></th>\n      <th></th>\n      <th></th>\n    </tr>\n  </thead>\n  <tbody>\n    <tr>\n      <th>CFPB</th>\n      <td>93.04</td>\n      <td>1.34</td>\n      <td>0.57</td>\n      <td>0.56</td>\n      <td>1.99</td>\n      <td>0.71</td>\n      <td>98.22</td>\n    </tr>\n    <tr>\n      <th>FDIC</th>\n      <td>0.13</td>\n      <td>0.00</td>\n      <td>0.00</td>\n      <td>0.00</td>\n      <td>0.01</td>\n      <td>0.00</td>\n      <td>0.15</td>\n    </tr>\n    <tr>\n      <th>FRS</th>\n      <td>0.09</td>\n      <td>0.00</td>\n      <td>0.00</td>\n      <td>0.00</td>\n      <td>0.01</td>\n      <td>0.00</td>\n      <td>0.11</td>\n    </tr>\n    <tr>\n      <th>HUD</th>\n      <td>0.48</td>\n      <td>0.02</td>\n      <td>0.00</td>\n      <td>0.01</td>\n      <td>0.00</td>\n      <td>0.01</td>\n      <td>0.52</td>\n    </tr>\n    <tr>\n      <th>NCUA</th>\n      <td>0.50</td>\n      <td>0.00</td>\n      <td>0.01</td>\n      <td>0.01</td>\n      <td>0.31</td>\n      <td>0.02</td>\n      <td>0.85</td>\n    </tr>\n    <tr>\n      <th>OCC</th>\n      <td>0.14</td>\n      <td>0.00</td>\n      <td>0.00</td>\n      <td>0.00</td>\n      <td>0.01</td>\n      <td>0.00</td>\n      <td>0.15</td>\n    </tr>\n    <tr>\n      <th>Total</th>\n      <td>94.39</td>\n      <td>1.38</td>\n      <td>0.59</td>\n      <td>0.58</td>\n      <td>2.33</td>\n      <td>0.74</td>\n      <td>100.00</td>\n    </tr>\n  </tbody>\n</table>\n</div>"
     },
     "metadata": {},
     "execution_count": 68
    }
   ],
   "source": [
    "new = (pd.crosstab(sampled.agency_abbr, sampled.agency_name)/sampled.shape[0] * 100)\n",
    "new['Total'] = new.sum(axis=1)\n",
    "new.loc['Total']= new.sum()\n",
    "new = new.round(2)\n",
    "new"
   ]
  },
  {
   "cell_type": "code",
   "execution_count": 17,
   "metadata": {},
   "outputs": [],
   "source": [
    "del1 = np.array([[-3.6]])"
   ]
  },
  {
   "cell_type": "code",
   "execution_count": 18,
   "metadata": {},
   "outputs": [],
   "source": [
    "x0 = np.array([[1],[-0.9]])"
   ]
  },
  {
   "cell_type": "code",
   "execution_count": 19,
   "metadata": {},
   "outputs": [
    {
     "output_type": "execute_result",
     "data": {
      "text/plain": "array([[-3.6 ],\n       [ 3.24]])"
     },
     "metadata": {},
     "execution_count": 19
    }
   ],
   "source": [
    "x0*np.transpose(del1)"
   ]
  },
  {
   "cell_type": "code",
   "execution_count": 8,
   "metadata": {},
   "outputs": [
    {
     "output_type": "execute_result",
     "data": {
      "text/plain": "array([[-0.44,  0.88],\n       [-0.88,  1.75]])"
     },
     "metadata": {},
     "execution_count": 8
    }
   ],
   "source": [
    "x0"
   ]
  },
  {
   "cell_type": "code",
   "execution_count": 20,
   "metadata": {},
   "outputs": [],
   "source": [
    "k = [1,2,3]"
   ]
  },
  {
   "cell_type": "code",
   "execution_count": 28,
   "metadata": {},
   "outputs": [
    {
     "output_type": "execute_result",
     "data": {
      "text/plain": "[2, 3]"
     },
     "metadata": {},
     "execution_count": 28
    }
   ],
   "source": [
    "k[-2:]"
   ]
  },
  {
   "cell_type": "code",
   "execution_count": 199,
   "metadata": {},
   "outputs": [],
   "source": [
    "p = np.array([[0.6, 0.1,0.05,0.25], [0.8, 0.1,0.1,0]])"
   ]
  },
  {
   "cell_type": "code",
   "execution_count": 200,
   "metadata": {},
   "outputs": [],
   "source": [
    "idx = np.random.choice(2, 10) "
   ]
  },
  {
   "cell_type": "code",
   "execution_count": 201,
   "metadata": {},
   "outputs": [
    {
     "output_type": "execute_result",
     "data": {
      "text/plain": "array([[0.6 , 0.1 , 0.05, 0.25],\n       [0.8 , 0.1 , 0.1 , 0.  ]])"
     },
     "metadata": {},
     "execution_count": 201
    }
   ],
   "source": [
    "p"
   ]
  },
  {
   "cell_type": "code",
   "execution_count": 202,
   "metadata": {},
   "outputs": [],
   "source": [
    "a = p[idx]"
   ]
  },
  {
   "cell_type": "code",
   "execution_count": 203,
   "metadata": {},
   "outputs": [],
   "source": [
    "r = np.expand_dims(np.random.rand(a.shape[0]), axis=1)"
   ]
  },
  {
   "cell_type": "code",
   "execution_count": 204,
   "metadata": {},
   "outputs": [
    {
     "output_type": "execute_result",
     "data": {
      "text/plain": "array([[0.24429936],\n       [0.60124273],\n       [0.49534919],\n       [0.63003839],\n       [0.63278085],\n       [0.77043964],\n       [0.04708423],\n       [0.14637997],\n       [0.30450196],\n       [0.70424133]])"
     },
     "metadata": {},
     "execution_count": 204
    }
   ],
   "source": [
    "r"
   ]
  },
  {
   "cell_type": "code",
   "execution_count": 205,
   "metadata": {},
   "outputs": [
    {
     "output_type": "execute_result",
     "data": {
      "text/plain": "array([[ True,  True,  True,  True],\n       [ True,  True,  True,  True],\n       [ True,  True,  True,  True],\n       [False,  True,  True,  True],\n       [ True,  True,  True,  True],\n       [ True,  True,  True,  True],\n       [ True,  True,  True,  True],\n       [ True,  True,  True,  True],\n       [ True,  True,  True,  True],\n       [ True,  True,  True,  True]])"
     },
     "metadata": {},
     "execution_count": 205
    }
   ],
   "source": [
    "(a.cumsum(axis=1) > r)"
   ]
  },
  {
   "cell_type": "code",
   "execution_count": 206,
   "metadata": {},
   "outputs": [
    {
     "output_type": "execute_result",
     "data": {
      "text/plain": "array([0, 0, 0, 1, 0, 0, 0, 0, 0, 0])"
     },
     "metadata": {},
     "execution_count": 206
    }
   ],
   "source": [
    "(a.cumsum(axis=1) > r).argmax(axis=1)"
   ]
  },
  {
   "cell_type": "code",
   "execution_count": 210,
   "metadata": {},
   "outputs": [
    {
     "output_type": "execute_result",
     "data": {
      "text/plain": "array([1, 1, 0, 0, 1, 1, 1, 1, 1, 1])"
     },
     "metadata": {},
     "execution_count": 210
    }
   ],
   "source": [
    "idx"
   ]
  },
  {
   "cell_type": "code",
   "execution_count": 157,
   "metadata": {},
   "outputs": [],
   "source": [
    "interval = np.array([[0,4],[4,3]])"
   ]
  },
  {
   "cell_type": "code",
   "execution_count": 158,
   "metadata": {},
   "outputs": [
    {
     "output_type": "execute_result",
     "data": {
      "text/plain": "array([0, 4, 4, 0, 0, 4, 4, 0, 4, 0])"
     },
     "metadata": {},
     "execution_count": 158
    }
   ],
   "source": [
    "interval[idx,0]"
   ]
  },
  {
   "cell_type": "code",
   "execution_count": 161,
   "metadata": {},
   "outputs": [
    {
     "output_type": "execute_result",
     "data": {
      "text/plain": "array([[0.92816249],\n       [0.74734661],\n       [0.67106556],\n       [0.23983039],\n       [0.42317289],\n       [0.77550191],\n       [0.61703935],\n       [0.28192594],\n       [0.21640551],\n       [0.7812334 ]])"
     },
     "metadata": {},
     "execution_count": 161
    }
   ],
   "source": [
    "r"
   ]
  },
  {
   "cell_type": "code",
   "execution_count": 214,
   "metadata": {},
   "outputs": [
    {
     "output_type": "execute_result",
     "data": {
      "text/plain": "array([[0.8 , 0.1 , 0.1 , 0.  ],\n       [0.8 , 0.1 , 0.1 , 0.  ],\n       [0.8 , 0.1 , 0.1 , 0.  ],\n       [0.8 , 0.1 , 0.1 , 0.  ],\n       [0.8 , 0.1 , 0.1 , 0.  ],\n       [0.6 , 0.1 , 0.05, 0.25],\n       [0.6 , 0.1 , 0.05, 0.25],\n       [0.6 , 0.1 , 0.05, 0.25],\n       [0.8 , 0.1 , 0.1 , 0.  ],\n       [0.8 , 0.1 , 0.1 , 0.  ]])"
     },
     "metadata": {},
     "execution_count": 214
    }
   ],
   "source": [
    "a"
   ]
  },
  {
   "cell_type": "code",
   "execution_count": 201,
   "metadata": {},
   "outputs": [],
   "source": [
    "perm = np.arange(10)"
   ]
  },
  {
   "cell_type": "code",
   "execution_count": 202,
   "metadata": {},
   "outputs": [
    {
     "output_type": "execute_result",
     "data": {
      "text/plain": "array([0, 1, 2, 3, 4, 5, 6, 7, 8, 9])"
     },
     "metadata": {},
     "execution_count": 202
    }
   ],
   "source": [
    "perm"
   ]
  },
  {
   "cell_type": "code",
   "execution_count": 209,
   "metadata": {},
   "outputs": [
    {
     "output_type": "execute_result",
     "data": {
      "text/plain": "array([[1, 1, 1, 1, 1, 0, 0, 0, 1, 1]])"
     },
     "metadata": {},
     "execution_count": 209
    }
   ],
   "source": [
    "idx[np.random.shuffle(perm)]"
   ]
  },
  {
   "cell_type": "code",
   "execution_count": 212,
   "metadata": {},
   "outputs": [
    {
     "output_type": "execute_result",
     "data": {
      "text/plain": "array([0, 1, 0, 1, 1, 0, 1, 1, 1, 1])"
     },
     "metadata": {},
     "execution_count": 212
    }
   ],
   "source": [
    "idx[perm]"
   ]
  },
  {
   "cell_type": "code",
   "execution_count": 221,
   "metadata": {},
   "outputs": [
    {
     "output_type": "execute_result",
     "data": {
      "text/plain": "7"
     },
     "metadata": {},
     "execution_count": 221
    }
   ],
   "source": [
    "np.random.choice(np.array([1,2,6,4,5,7,90,2]))"
   ]
  },
  {
   "cell_type": "code",
   "execution_count": 120,
   "metadata": {},
   "outputs": [
    {
     "output_type": "execute_result",
     "data": {
      "text/plain": "tensor([3.3141e-01, 9.4083e+00, 2.4757e-03])"
     },
     "metadata": {},
     "execution_count": 120
    }
   ],
   "source": [
    "from torch.nn import functional\n",
    "import torch\n",
    "functional.cross_entropy(\n",
    "                    data,\n",
    "                    torch.argmax(c, dim=1),\n",
    "                    reduction='none'\n",
    "                )"
   ]
  },
  {
   "cell_type": "code",
   "execution_count": 121,
   "metadata": {},
   "outputs": [],
   "source": [
    "data = torch.tensor([[-11.0,-2.0,-3,8,1],[-3.0,4,3.0,2,-5], [-11, -12,-13,8,2]]).float()"
   ]
  },
  {
   "cell_type": "code",
   "execution_count": 122,
   "metadata": {},
   "outputs": [
    {
     "output_type": "execute_result",
     "data": {
      "text/plain": "tensor([[-11.,  -2.,  -3.,   8.,   1.],\n        [ -3.,   4.,   3.,   2.,  -5.],\n        [-11., -12., -13.,   8.,   2.]])"
     },
     "metadata": {},
     "execution_count": 122
    }
   ],
   "source": [
    "data"
   ]
  },
  {
   "cell_type": "code",
   "execution_count": 115,
   "metadata": {},
   "outputs": [],
   "source": [
    "c = torch.tensor([[0,0,0,1,0],[0,0,0,0,1],[0,0,0,1,0]]).float()"
   ]
  },
  {
   "cell_type": "code",
   "execution_count": 123,
   "metadata": {},
   "outputs": [
    {
     "output_type": "execute_result",
     "data": {
      "text/plain": "tensor([3, 4, 3])"
     },
     "metadata": {},
     "execution_count": 123
    }
   ],
   "source": [
    "torch.argmax(c, dim=1)"
   ]
  },
  {
   "cell_type": "code",
   "execution_count": 176,
   "metadata": {},
   "outputs": [],
   "source": [
    "import numpy as np"
   ]
  },
  {
   "cell_type": "code",
   "execution_count": 208,
   "metadata": {},
   "outputs": [
    {
     "output_type": "execute_result",
     "data": {
      "text/plain": "array([44, 44, 44, 44, 44, 44, 44, 44, 44, 44, 44, 44, 44, 44, 44, 44, 44,\n       44, 44, 44, 44, 44, 44, 44, 44, 44, 44, 44, 44, 44])"
     },
     "metadata": {},
     "execution_count": 208
    }
   ],
   "source": [
    "np.random.randint(low=0, high=100) * np.ones_like(o)"
   ]
  },
  {
   "cell_type": "code",
   "execution_count": 194,
   "metadata": {},
   "outputs": [],
   "source": [
    "o = np.random.choice(np.arange(10), 30)  "
   ]
  },
  {
   "cell_type": "code",
   "execution_count": 195,
   "metadata": {},
   "outputs": [
    {
     "output_type": "execute_result",
     "data": {
      "text/plain": "array([3, 7, 3, 6, 5, 4, 5, 6, 1, 0, 6, 0, 0, 4, 6, 1, 8, 7, 7, 0, 9, 8,\n       5, 1, 1, 4, 7, 3, 8, 6])"
     },
     "metadata": {},
     "execution_count": 195
    }
   ],
   "source": [
    "o"
   ]
  },
  {
   "cell_type": "code",
   "execution_count": 207,
   "metadata": {},
   "outputs": [
    {
     "output_type": "execute_result",
     "data": {
      "text/plain": "7"
     },
     "metadata": {},
     "execution_count": 207
    }
   ],
   "source": [
    "np.count_nonzero(np.array([1,2,3,1,3,1,3,0,0,0,0]))"
   ]
  },
  {
   "cell_type": "code",
   "execution_count": 236,
   "metadata": {},
   "outputs": [
    {
     "output_type": "execute_result",
     "data": {
      "text/plain": "       applicant_sex applicant_sex_name\n0                  2             Female\n1                  2             Female\n2                  2             Female\n3                  2             Female\n4                  2             Female\n...              ...                ...\n99995              2             Female\n99996              2             Female\n99997              2             Female\n99998              2             Female\n99999              2             Female\n\n[100000 rows x 2 columns]",
      "text/html": "<div>\n<style scoped>\n    .dataframe tbody tr th:only-of-type {\n        vertical-align: middle;\n    }\n\n    .dataframe tbody tr th {\n        vertical-align: top;\n    }\n\n    .dataframe thead th {\n        text-align: right;\n    }\n</style>\n<table border=\"1\" class=\"dataframe\">\n  <thead>\n    <tr style=\"text-align: right;\">\n      <th></th>\n      <th>applicant_sex</th>\n      <th>applicant_sex_name</th>\n    </tr>\n  </thead>\n  <tbody>\n    <tr>\n      <th>0</th>\n      <td>2</td>\n      <td>Female</td>\n    </tr>\n    <tr>\n      <th>1</th>\n      <td>2</td>\n      <td>Female</td>\n    </tr>\n    <tr>\n      <th>2</th>\n      <td>2</td>\n      <td>Female</td>\n    </tr>\n    <tr>\n      <th>3</th>\n      <td>2</td>\n      <td>Female</td>\n    </tr>\n    <tr>\n      <th>4</th>\n      <td>2</td>\n      <td>Female</td>\n    </tr>\n    <tr>\n      <th>...</th>\n      <td>...</td>\n      <td>...</td>\n    </tr>\n    <tr>\n      <th>99995</th>\n      <td>2</td>\n      <td>Female</td>\n    </tr>\n    <tr>\n      <th>99996</th>\n      <td>2</td>\n      <td>Female</td>\n    </tr>\n    <tr>\n      <th>99997</th>\n      <td>2</td>\n      <td>Female</td>\n    </tr>\n    <tr>\n      <th>99998</th>\n      <td>2</td>\n      <td>Female</td>\n    </tr>\n    <tr>\n      <th>99999</th>\n      <td>2</td>\n      <td>Female</td>\n    </tr>\n  </tbody>\n</table>\n<p>100000 rows × 2 columns</p>\n</div>"
     },
     "metadata": {},
     "execution_count": 236
    }
   ],
   "source": [
    "sampled"
   ]
  },
  {
   "cell_type": "code",
   "execution_count": 47,
   "metadata": {},
   "outputs": [
    {
     "output_type": "execute_result",
     "data": {
      "text/plain": "<module 'seaborn' from '/anaconda2/envs/python36/lib/python3.7/site-packages/seaborn/__init__.py'>"
     },
     "metadata": {},
     "execution_count": 47
    }
   ],
   "source": [
    "reload(sns)"
   ]
  },
  {
   "cell_type": "code",
   "execution_count": 42,
   "metadata": {},
   "outputs": [
    {
     "output_type": "execute_result",
     "data": {
      "text/plain": "   applicant_sex                                 applicant_sex_name  \\\n0              2                                             Female   \n1              1                                               Male   \n2              2                                             Female   \n3              3  Information not provided by applicant in mail,...   \n4              1                                               Male   \n\n  agency_abbr                            agency_name  applicant_income_000s  \\\n0        FDIC  Federal Deposit Insurance Corporation              77.792309   \n1        FDIC  Federal Deposit Insurance Corporation             214.910052   \n2        FDIC  Federal Deposit Insurance Corporation             170.884616   \n3        FDIC  Federal Deposit Insurance Corporation             330.547750   \n4        FDIC  Federal Deposit Insurance Corporation             110.474369   \n\n   number_of_1_to_4_family_units   population  \n0                    1436.687763  3072.177619  \n1                    1178.864820  3332.980128  \n2                     410.201332  3382.068227  \n3                    2568.157828  6060.632136  \n4                    2291.985421  6645.118951  ",
      "text/html": "<div>\n<style scoped>\n    .dataframe tbody tr th:only-of-type {\n        vertical-align: middle;\n    }\n\n    .dataframe tbody tr th {\n        vertical-align: top;\n    }\n\n    .dataframe thead th {\n        text-align: right;\n    }\n</style>\n<table border=\"1\" class=\"dataframe\">\n  <thead>\n    <tr style=\"text-align: right;\">\n      <th></th>\n      <th>applicant_sex</th>\n      <th>applicant_sex_name</th>\n      <th>agency_abbr</th>\n      <th>agency_name</th>\n      <th>applicant_income_000s</th>\n      <th>number_of_1_to_4_family_units</th>\n      <th>population</th>\n    </tr>\n  </thead>\n  <tbody>\n    <tr>\n      <th>0</th>\n      <td>2</td>\n      <td>Female</td>\n      <td>FDIC</td>\n      <td>Federal Deposit Insurance Corporation</td>\n      <td>77.792309</td>\n      <td>1436.687763</td>\n      <td>3072.177619</td>\n    </tr>\n    <tr>\n      <th>1</th>\n      <td>1</td>\n      <td>Male</td>\n      <td>FDIC</td>\n      <td>Federal Deposit Insurance Corporation</td>\n      <td>214.910052</td>\n      <td>1178.864820</td>\n      <td>3332.980128</td>\n    </tr>\n    <tr>\n      <th>2</th>\n      <td>2</td>\n      <td>Female</td>\n      <td>FDIC</td>\n      <td>Federal Deposit Insurance Corporation</td>\n      <td>170.884616</td>\n      <td>410.201332</td>\n      <td>3382.068227</td>\n    </tr>\n    <tr>\n      <th>3</th>\n      <td>3</td>\n      <td>Information not provided by applicant in mail,...</td>\n      <td>FDIC</td>\n      <td>Federal Deposit Insurance Corporation</td>\n      <td>330.547750</td>\n      <td>2568.157828</td>\n      <td>6060.632136</td>\n    </tr>\n    <tr>\n      <th>4</th>\n      <td>1</td>\n      <td>Male</td>\n      <td>FDIC</td>\n      <td>Federal Deposit Insurance Corporation</td>\n      <td>110.474369</td>\n      <td>2291.985421</td>\n      <td>6645.118951</td>\n    </tr>\n  </tbody>\n</table>\n</div>"
     },
     "metadata": {},
     "execution_count": 42
    }
   ],
   "source": [
    "sampled.head()"
   ]
  },
  {
   "cell_type": "code",
   "execution_count": 48,
   "metadata": {},
   "outputs": [
    {
     "output_type": "error",
     "ename": "AttributeError",
     "evalue": "module 'seaborn' has no attribute 'displot'",
     "traceback": [
      "\u001b[0;31m---------------------------------------------------------------------------\u001b[0m",
      "\u001b[0;31mAttributeError\u001b[0m                            Traceback (most recent call last)",
      "\u001b[0;32m<ipython-input-48-85b67a91c58d>\u001b[0m in \u001b[0;36m<module>\u001b[0;34m\u001b[0m\n\u001b[0;32m----> 1\u001b[0;31m \u001b[0msns\u001b[0m\u001b[0;34m.\u001b[0m\u001b[0mdisplot\u001b[0m\u001b[0;34m(\u001b[0m\u001b[0mdata\u001b[0m\u001b[0;34m,\u001b[0m \u001b[0mx\u001b[0m\u001b[0;34m=\u001b[0m\u001b[0;34m\"applicant_income_000s\"\u001b[0m\u001b[0;34m,\u001b[0m \u001b[0mhue\u001b[0m\u001b[0;34m=\u001b[0m\u001b[0;34m\"applicant_sex_name\"\u001b[0m\u001b[0;34m,\u001b[0m \u001b[0mmultiple\u001b[0m\u001b[0;34m=\u001b[0m\u001b[0;34m\"stack\"\u001b[0m\u001b[0;34m)\u001b[0m\u001b[0;34m\u001b[0m\u001b[0;34m\u001b[0m\u001b[0m\n\u001b[0m",
      "\u001b[0;31mAttributeError\u001b[0m: module 'seaborn' has no attribute 'displot'"
     ]
    }
   ],
   "source": [
    "sns.displot(data, x=\"applicant_income_000s\", hue=\"applicant_sex_name\", multiple=\"stack\")\n"
   ]
  },
  {
   "cell_type": "code",
   "execution_count": 39,
   "metadata": {},
   "outputs": [
    {
     "output_type": "execute_result",
     "data": {
      "text/plain": "<function seaborn.distributions.kdeplot(data, data2=None, shade=False, vertical=False, kernel='gau', bw='scott', gridsize=100, cut=3, clip=None, legend=True, cumulative=False, shade_lowest=True, cbar=False, cbar_ax=None, cbar_kws=None, ax=None, **kwargs)>"
     },
     "metadata": {},
     "execution_count": 39
    }
   ],
   "source": [
    "seaborn.kdeplot"
   ]
  },
  {
   "cell_type": "code",
   "execution_count": 52,
   "metadata": {},
   "outputs": [],
   "source": [
    "sampled.to_csv(\"/Users/sahanalva/Counterfactual Research/sampled_big.csv\")"
   ]
  },
  {
   "cell_type": "code",
   "execution_count": 50,
   "metadata": {},
   "outputs": [],
   "source": [
    "data.to_csv(\"/Users/sahanalva/Counterfactual Research/data_big.csv\")"
   ]
  },
  {
   "cell_type": "code",
   "execution_count": null,
   "metadata": {},
   "outputs": [],
   "source": []
  }
 ],
 "metadata": {
  "language_info": {
   "codemirror_mode": {
    "name": "ipython",
    "version": 3
   },
   "file_extension": ".py",
   "mimetype": "text/x-python",
   "name": "python",
   "nbconvert_exporter": "python",
   "pygments_lexer": "ipython3",
   "version": 3
  },
  "orig_nbformat": 2,
  "kernelspec": {
   "name": "python_defaultSpec_1602443786311",
   "display_name": "Python 3.7.5 64-bit"
  }
 },
 "nbformat": 4,
 "nbformat_minor": 2
}