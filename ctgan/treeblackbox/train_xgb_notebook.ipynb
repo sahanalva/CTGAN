{
 "metadata": {
  "language_info": {
   "codemirror_mode": {
    "name": "ipython",
    "version": 3
   },
   "file_extension": ".py",
   "mimetype": "text/x-python",
   "name": "python",
   "nbconvert_exporter": "python",
   "pygments_lexer": "ipython3",
   "version": "3.7.9-final"
  },
  "orig_nbformat": 2,
  "kernelspec": {
   "name": "python3",
   "display_name": "Python 3.7.9 64-bit ('cfr': conda)",
   "metadata": {
    "interpreter": {
     "hash": "7167c3f0fd91c62838d2a03be19a9914b3e996c69823a9473f944e0b4c425e9e"
    }
   }
  }
 },
 "nbformat": 4,
 "nbformat_minor": 2,
 "cells": [
  {
   "cell_type": "code",
   "execution_count": 1,
   "metadata": {},
   "outputs": [],
   "source": [
    "import torch\n",
    "import numpy as np\n",
    "from sklearn.model_selection import train_test_split \n",
    "import pandas as pd \n",
    "import lightgbm as lgb\n",
    "import xgboost as xgb"
   ]
  },
  {
   "cell_type": "code",
   "execution_count": 4,
   "metadata": {},
   "outputs": [],
   "source": [
    "INPUT_FILE_PATH = '/Users/sahanalva/Downloads/application_train.csv'\n",
    "OUTPUT_MODEL_PATH = '/Users/sahanalva/Counterfactual Research/tree_model_test.dat'"
   ]
  },
  {
   "cell_type": "code",
   "execution_count": 5,
   "metadata": {},
   "outputs": [],
   "source": [
    "# read the test files \n",
    "app_train = pd.read_csv(INPUT_FILE_PATH)\n",
    "\n",
    "app_train['is_test'] = 0\n",
    "app_train['is_train'] = 1\n",
    "\n",
    "postive_df = app_train[app_train['TARGET'] == 1]\n",
    "negative_df = app_train[app_train['TARGET'] == 0].sample(len(postive_df))\n",
    "app_train = pd.concat([postive_df, negative_df], axis= 0)\n",
    "app_train = app_train.sample(frac=1, random_state= 42).reset_index(drop=True)\n",
    "\n",
    "# target variable\n",
    "Y = app_train['TARGET']\n",
    "train_X = app_train.drop(['TARGET'], axis = 1)\n",
    "data = train_X"
   ]
  },
  {
   "cell_type": "code",
   "execution_count": 9,
   "metadata": {},
   "outputs": [],
   "source": [
    "cats = ['NAME_CONTRACT_TYPE',\n",
    " 'CODE_GENDER',\n",
    " 'FLAG_OWN_CAR',\n",
    " 'FLAG_OWN_REALTY',\n",
    " 'NAME_TYPE_SUITE',\n",
    " 'NAME_INCOME_TYPE',\n",
    " 'NAME_EDUCATION_TYPE',\n",
    " 'NAME_FAMILY_STATUS',\n",
    " 'NAME_HOUSING_TYPE',\n",
    " 'OCCUPATION_TYPE',\n",
    " 'WEEKDAY_APPR_PROCESS_START',\n",
    " 'ORGANIZATION_TYPE', \n",
    " 'CNT_CHILDREN',\n",
    " 'CNT_FAM_MEMBERS',\n",
    " 'REG_REGION_NOT_LIVE_REGION']\n",
    "\n",
    "nums= ['AMT_INCOME_TOTAL',\n",
    "        'AMT_CREDIT',\n",
    "        'AMT_ANNUITY',\n",
    "        'EXT_SOURCE_1',\n",
    "        'EXT_SOURCE_2',\n",
    "        'EXT_SOURCE_3']\n",
    "        'DAYS_LAST_PHONE_CHANGE',\n",
    "        'AMT_GOODS_PRICE',\n",
    "        'REGION_POPULATION_RELATIVE',\n",
    "        'DAYS_BIRTH',\n",
    "        'DAYS_EMPLOYED',\n",
    "        'DAYS_REGISTRATION',\n",
    "        'DAYS_ID_PUBLISH']\n",
    "\n",
    "meta = ['SK_ID_CURR','is_train','is_test']"
   ]
  },
  {
   "cell_type": "code",
   "execution_count": 10,
   "metadata": {},
   "outputs": [],
   "source": [
    "# function to obtain Categorical Features\n",
    "def _get_categorical_features(df):\n",
    "    feats = [col for col in list(df.columns) if df[col].dtype == 'object']\n",
    "    return feats\n",
    "\n",
    "def convert_to_string(df, discrete_columns):\n",
    "    for col in discrete_columns:\n",
    "        df[col] = df[col].astype(str)\n",
    "    return df\n",
    "\n",
    "# function to factorize categorical features\n",
    "def _factorize_categoricals(df, cats):\n",
    "    for col in cats:\n",
    "        df[col], _ = pd.factorize(df[col])\n",
    "    return df \n",
    "\n",
    "# function to create dummy variables of categorical features\n",
    "def _get_dummies(df, cats):\n",
    "    for col in cats:\n",
    "        df = pd.concat([df, pd.get_dummies(df[col], prefix=col)], axis=1)\n",
    "    return df \n",
    "\n",
    "\n",
    "data = data[meta+cats+nums]\n",
    "data[nums] = data[nums].fillna(0)\n",
    "data[cats] = data[cats].fillna(\"NA\")\n",
    "data = convert_to_string(data, cats)\n",
    "data = _factorize_categoricals(data, cats)\n",
    "\n"
   ]
  },
  {
   "cell_type": "code",
   "execution_count": 35,
   "metadata": {},
   "outputs": [],
   "source": [
    "ignore_features = ['SK_ID_CURR', 'is_train', 'is_test']\n",
    "relevant_features = [col for col in data.columns if col not in ignore_features]\n",
    "trainX = data[data['is_train'] == 1][relevant_features]"
   ]
  },
  {
   "cell_type": "code",
   "execution_count": 13,
   "metadata": {},
   "outputs": [],
   "source": [
    "x_train, x_val, y_train, y_val = train_test_split(trainX, Y, test_size=0.2, random_state=18)\n"
   ]
  },
  {
   "cell_type": "code",
   "execution_count": 26,
   "metadata": {},
   "outputs": [],
   "source": [
    "params = {'max_depth':7,'min_child_weight':1,'eval_metric':['error','auc'],'alpha':0.5, 'lambda':0.5, 'objective':'binary:logistic'}\n",
    "\n",
    "xgb_train = xgb.DMatrix(data = trainX, label=Y)\n",
    "evallist = [(xgb_train, 'eval'), (xgb_train, 'train')]\n",
    "\n",
    "#xgb_train = xgb.DMatrix(data = x_train, label=y_train)\n",
    "#xgb_eval = xgb.DMatrix(data=x_val, label=y_val)\n",
    "#evallist = [(xgb_eval, 'eval'), (xgb_train, 'train')]"
   ]
  },
  {
   "cell_type": "code",
   "execution_count": 27,
   "metadata": {
    "tags": []
   },
   "outputs": [
    {
     "output_type": "stream",
     "name": "stdout",
     "text": [
      "[0]\teval-error:0.33156\teval-auc:0.73120\ttrain-error:0.33156\ttrain-auc:0.73120\n",
      "[1]\teval-error:0.32220\teval-auc:0.74142\ttrain-error:0.32220\ttrain-auc:0.74142\n",
      "[2]\teval-error:0.31722\teval-auc:0.74824\ttrain-error:0.31722\ttrain-auc:0.74824\n",
      "[3]\teval-error:0.31484\teval-auc:0.75260\ttrain-error:0.31484\ttrain-auc:0.75260\n",
      "[4]\teval-error:0.31335\teval-auc:0.75607\ttrain-error:0.31335\ttrain-auc:0.75607\n",
      "[5]\teval-error:0.31001\teval-auc:0.75941\ttrain-error:0.31001\ttrain-auc:0.75941\n",
      "[6]\teval-error:0.30596\teval-auc:0.76389\ttrain-error:0.30596\ttrain-auc:0.76389\n",
      "[7]\teval-error:0.30338\teval-auc:0.76682\ttrain-error:0.30338\ttrain-auc:0.76682\n",
      "[8]\teval-error:0.30046\teval-auc:0.77124\ttrain-error:0.30046\ttrain-auc:0.77124\n",
      "[9]\teval-error:0.29823\teval-auc:0.77400\ttrain-error:0.29823\ttrain-auc:0.77400\n",
      "[10]\teval-error:0.29635\teval-auc:0.77685\ttrain-error:0.29635\ttrain-auc:0.77685\n",
      "[11]\teval-error:0.29501\teval-auc:0.77881\ttrain-error:0.29501\ttrain-auc:0.77881\n",
      "[12]\teval-error:0.29386\teval-auc:0.78023\ttrain-error:0.29386\ttrain-auc:0.78023\n",
      "[13]\teval-error:0.29229\teval-auc:0.78243\ttrain-error:0.29229\ttrain-auc:0.78243\n",
      "[14]\teval-error:0.29078\teval-auc:0.78391\ttrain-error:0.29078\ttrain-auc:0.78391\n",
      "[15]\teval-error:0.29031\teval-auc:0.78494\ttrain-error:0.29031\ttrain-auc:0.78494\n",
      "[16]\teval-error:0.28818\teval-auc:0.78768\ttrain-error:0.28818\ttrain-auc:0.78768\n",
      "[17]\teval-error:0.28705\teval-auc:0.78927\ttrain-error:0.28705\ttrain-auc:0.78927\n",
      "[18]\teval-error:0.28673\teval-auc:0.78997\ttrain-error:0.28673\ttrain-auc:0.78997\n",
      "[19]\teval-error:0.28530\teval-auc:0.79241\ttrain-error:0.28530\ttrain-auc:0.79241\n",
      "[20]\teval-error:0.28238\teval-auc:0.79510\ttrain-error:0.28238\ttrain-auc:0.79510\n",
      "[21]\teval-error:0.28141\teval-auc:0.79681\ttrain-error:0.28141\ttrain-auc:0.79681\n",
      "[22]\teval-error:0.28056\teval-auc:0.79764\ttrain-error:0.28056\ttrain-auc:0.79764\n",
      "[23]\teval-error:0.27903\teval-auc:0.79992\ttrain-error:0.27903\ttrain-auc:0.79992\n",
      "[24]\teval-error:0.27883\teval-auc:0.80054\ttrain-error:0.27883\ttrain-auc:0.80054\n",
      "[25]\teval-error:0.27774\teval-auc:0.80167\ttrain-error:0.27774\ttrain-auc:0.80167\n",
      "[26]\teval-error:0.27643\teval-auc:0.80327\ttrain-error:0.27643\ttrain-auc:0.80327\n",
      "[27]\teval-error:0.27488\teval-auc:0.80485\ttrain-error:0.27488\ttrain-auc:0.80485\n",
      "[28]\teval-error:0.27472\teval-auc:0.80524\ttrain-error:0.27472\ttrain-auc:0.80524\n",
      "[29]\teval-error:0.27380\teval-auc:0.80644\ttrain-error:0.27380\ttrain-auc:0.80644\n",
      "[30]\teval-error:0.27309\teval-auc:0.80697\ttrain-error:0.27309\ttrain-auc:0.80697\n",
      "[31]\teval-error:0.27279\teval-auc:0.80757\ttrain-error:0.27279\ttrain-auc:0.80757\n",
      "[32]\teval-error:0.27233\teval-auc:0.80810\ttrain-error:0.27233\ttrain-auc:0.80810\n",
      "[33]\teval-error:0.27213\teval-auc:0.80867\ttrain-error:0.27213\ttrain-auc:0.80867\n",
      "[34]\teval-error:0.27096\teval-auc:0.81035\ttrain-error:0.27096\ttrain-auc:0.81035\n",
      "[35]\teval-error:0.27070\teval-auc:0.81092\ttrain-error:0.27070\ttrain-auc:0.81092\n",
      "[36]\teval-error:0.26945\teval-auc:0.81233\ttrain-error:0.26945\ttrain-auc:0.81233\n",
      "[37]\teval-error:0.26910\teval-auc:0.81301\ttrain-error:0.26910\ttrain-auc:0.81301\n",
      "[38]\teval-error:0.26826\teval-auc:0.81476\ttrain-error:0.26826\ttrain-auc:0.81476\n",
      "[39]\teval-error:0.26644\teval-auc:0.81665\ttrain-error:0.26644\ttrain-auc:0.81665\n",
      "[40]\teval-error:0.26510\teval-auc:0.81800\ttrain-error:0.26510\ttrain-auc:0.81800\n",
      "[41]\teval-error:0.26443\teval-auc:0.81892\ttrain-error:0.26443\ttrain-auc:0.81892\n",
      "[42]\teval-error:0.26360\teval-auc:0.82012\ttrain-error:0.26360\ttrain-auc:0.82012\n",
      "[43]\teval-error:0.26367\teval-auc:0.82033\ttrain-error:0.26367\ttrain-auc:0.82033\n",
      "[44]\teval-error:0.26195\teval-auc:0.82166\ttrain-error:0.26195\ttrain-auc:0.82166\n",
      "[45]\teval-error:0.26127\teval-auc:0.82255\ttrain-error:0.26127\ttrain-auc:0.82255\n",
      "[46]\teval-error:0.26030\teval-auc:0.82384\ttrain-error:0.26030\ttrain-auc:0.82384\n",
      "[47]\teval-error:0.25946\teval-auc:0.82482\ttrain-error:0.25946\ttrain-auc:0.82482\n",
      "[48]\teval-error:0.25907\teval-auc:0.82533\ttrain-error:0.25907\ttrain-auc:0.82533\n",
      "[49]\teval-error:0.25793\teval-auc:0.82643\ttrain-error:0.25793\ttrain-auc:0.82643\n",
      "[50]\teval-error:0.25613\teval-auc:0.82842\ttrain-error:0.25613\ttrain-auc:0.82842\n",
      "[51]\teval-error:0.25492\teval-auc:0.83026\ttrain-error:0.25492\ttrain-auc:0.83026\n",
      "[52]\teval-error:0.25384\teval-auc:0.83133\ttrain-error:0.25384\ttrain-auc:0.83133\n",
      "[53]\teval-error:0.25194\teval-auc:0.83325\ttrain-error:0.25194\ttrain-auc:0.83325\n",
      "[54]\teval-error:0.25084\teval-auc:0.83417\ttrain-error:0.25084\ttrain-auc:0.83417\n",
      "[55]\teval-error:0.25045\teval-auc:0.83456\ttrain-error:0.25045\ttrain-auc:0.83456\n",
      "[56]\teval-error:0.24961\teval-auc:0.83547\ttrain-error:0.24961\ttrain-auc:0.83547\n",
      "[57]\teval-error:0.24947\teval-auc:0.83581\ttrain-error:0.24947\ttrain-auc:0.83581\n",
      "[58]\teval-error:0.24908\teval-auc:0.83610\ttrain-error:0.24908\ttrain-auc:0.83610\n",
      "[59]\teval-error:0.24816\teval-auc:0.83749\ttrain-error:0.24816\ttrain-auc:0.83749\n",
      "[60]\teval-error:0.24705\teval-auc:0.83912\ttrain-error:0.24705\ttrain-auc:0.83912\n",
      "[61]\teval-error:0.24651\teval-auc:0.84024\ttrain-error:0.24651\ttrain-auc:0.84024\n",
      "[62]\teval-error:0.24616\teval-auc:0.84055\ttrain-error:0.24616\ttrain-auc:0.84055\n",
      "[63]\teval-error:0.24580\teval-auc:0.84092\ttrain-error:0.24580\ttrain-auc:0.84092\n",
      "[64]\teval-error:0.24518\teval-auc:0.84142\ttrain-error:0.24518\ttrain-auc:0.84142\n",
      "[65]\teval-error:0.24469\teval-auc:0.84184\ttrain-error:0.24469\ttrain-auc:0.84184\n",
      "[66]\teval-error:0.24322\teval-auc:0.84327\ttrain-error:0.24322\ttrain-auc:0.84327\n",
      "[67]\teval-error:0.24191\teval-auc:0.84423\ttrain-error:0.24191\ttrain-auc:0.84423\n",
      "[68]\teval-error:0.24117\teval-auc:0.84488\ttrain-error:0.24117\ttrain-auc:0.84488\n",
      "[69]\teval-error:0.24040\teval-auc:0.84633\ttrain-error:0.24040\ttrain-auc:0.84633\n",
      "[70]\teval-error:0.23877\teval-auc:0.84782\ttrain-error:0.23877\ttrain-auc:0.84782\n",
      "[71]\teval-error:0.23766\teval-auc:0.84863\ttrain-error:0.23766\ttrain-auc:0.84863\n",
      "[72]\teval-error:0.23738\teval-auc:0.84923\ttrain-error:0.23738\ttrain-auc:0.84923\n",
      "[73]\teval-error:0.23702\teval-auc:0.84993\ttrain-error:0.23702\ttrain-auc:0.84993\n",
      "[74]\teval-error:0.23605\teval-auc:0.85115\ttrain-error:0.23605\ttrain-auc:0.85115\n",
      "[75]\teval-error:0.23525\teval-auc:0.85183\ttrain-error:0.23525\ttrain-auc:0.85183\n",
      "[76]\teval-error:0.23448\teval-auc:0.85288\ttrain-error:0.23448\ttrain-auc:0.85288\n",
      "[77]\teval-error:0.23368\teval-auc:0.85371\ttrain-error:0.23368\ttrain-auc:0.85371\n",
      "[78]\teval-error:0.23271\teval-auc:0.85452\ttrain-error:0.23271\ttrain-auc:0.85452\n",
      "[79]\teval-error:0.23253\teval-auc:0.85491\ttrain-error:0.23253\ttrain-auc:0.85491\n",
      "[80]\teval-error:0.23156\teval-auc:0.85611\ttrain-error:0.23156\ttrain-auc:0.85611\n",
      "[81]\teval-error:0.23057\teval-auc:0.85706\ttrain-error:0.23057\ttrain-auc:0.85706\n",
      "[82]\teval-error:0.22987\teval-auc:0.85771\ttrain-error:0.22987\ttrain-auc:0.85771\n",
      "[83]\teval-error:0.22925\teval-auc:0.85835\ttrain-error:0.22925\ttrain-auc:0.85835\n",
      "[84]\teval-error:0.22846\teval-auc:0.85930\ttrain-error:0.22846\ttrain-auc:0.85930\n",
      "[85]\teval-error:0.22681\teval-auc:0.86079\ttrain-error:0.22681\ttrain-auc:0.86079\n",
      "[86]\teval-error:0.22473\teval-auc:0.86295\ttrain-error:0.22473\ttrain-auc:0.86295\n",
      "[87]\teval-error:0.22272\teval-auc:0.86419\ttrain-error:0.22272\ttrain-auc:0.86419\n",
      "[88]\teval-error:0.22131\teval-auc:0.86565\ttrain-error:0.22131\ttrain-auc:0.86565\n",
      "[89]\teval-error:0.22137\teval-auc:0.86580\ttrain-error:0.22137\ttrain-auc:0.86580\n",
      "[90]\teval-error:0.22032\teval-auc:0.86678\ttrain-error:0.22032\ttrain-auc:0.86678\n",
      "[91]\teval-error:0.21986\teval-auc:0.86727\ttrain-error:0.21986\ttrain-auc:0.86727\n",
      "[92]\teval-error:0.21972\teval-auc:0.86744\ttrain-error:0.21972\ttrain-auc:0.86744\n",
      "[93]\teval-error:0.21946\teval-auc:0.86776\ttrain-error:0.21946\ttrain-auc:0.86776\n",
      "[94]\teval-error:0.21917\teval-auc:0.86825\ttrain-error:0.21917\ttrain-auc:0.86825\n",
      "[95]\teval-error:0.21837\teval-auc:0.86920\ttrain-error:0.21837\ttrain-auc:0.86920\n",
      "[96]\teval-error:0.21716\teval-auc:0.87007\ttrain-error:0.21716\ttrain-auc:0.87007\n",
      "[97]\teval-error:0.21682\teval-auc:0.87042\ttrain-error:0.21682\ttrain-auc:0.87042\n",
      "[98]\teval-error:0.21660\teval-auc:0.87072\ttrain-error:0.21660\ttrain-auc:0.87072\n",
      "[99]\teval-error:0.21640\teval-auc:0.87087\ttrain-error:0.21640\ttrain-auc:0.87087\n"
     ]
    }
   ],
   "source": [
    "num_round = 100\n",
    "bst = xgb.train(params, xgb_train, num_round,evallist)"
   ]
  },
  {
   "cell_type": "code",
   "execution_count": null,
   "metadata": {},
   "outputs": [],
   "source": [
    "pickle.dump(bst, open(OUTPUT_MODEL_PATH, \"wb\"))"
   ]
  }
 ]
}